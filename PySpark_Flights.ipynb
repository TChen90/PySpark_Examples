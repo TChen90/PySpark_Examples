{
  "nbformat": 4,
  "nbformat_minor": 0,
  "metadata": {
    "colab": {
      "name": "PySpark_Flights.ipynb",
      "provenance": [],
      "collapsed_sections": [],
      "mount_file_id": "1xeP5cF8qhkteSH2kOIvA8_1fxrpDTZCE",
      "authorship_tag": "ABX9TyPz7KwaZz4I5le5hJyR1h1u",
      "include_colab_link": true
    },
    "kernelspec": {
      "name": "python3",
      "display_name": "Python 3"
    },
    "accelerator": "TPU"
  },
  "cells": [
    {
      "cell_type": "markdown",
      "metadata": {
        "id": "view-in-github",
        "colab_type": "text"
      },
      "source": [
        "<a href=\"https://colab.research.google.com/github/TChen90/PySpark_Examples/blob/master/PySpark_Flights.ipynb\" target=\"_parent\"><img src=\"https://colab.research.google.com/assets/colab-badge.svg\" alt=\"Open In Colab\"/></a>"
      ]
    },
    {
      "cell_type": "markdown",
      "metadata": {
        "id": "GxNF3ML5th6v",
        "colab_type": "text"
      },
      "source": [
        "## Install & Setup"
      ]
    },
    {
      "cell_type": "code",
      "metadata": {
        "id": "jkicvTPStapM",
        "colab_type": "code",
        "outputId": "b558d84b-27eb-4e51-c44a-7281f78f8ad3",
        "colab": {
          "base_uri": "https://localhost:8080/",
          "height": 1000
        }
      },
      "source": [
        "!apt-get install openjdk-8-jdk-headless -qq > /dev/null\n",
        "!wget -q https://downloads.apache.org/spark/spark-3.0.0-preview2/spark-3.0.0-preview2-bin-hadoop2.7.tgz\n",
        "!tar -xvf spark-3.0.0-preview2-bin-hadoop2.7.tgz\n",
        "!pip install -q findspark\n",
        "import os\n",
        "os.environ[\"JAVA_HOME\"] = \"/usr/lib/jvm/java-8-openjdk-amd64\"\n",
        "os.environ[\"SPARK_HOME\"] = \"/content/spark-3.0.0-preview2-bin-hadoop2.7\"\n",
        "import findspark\n",
        "findspark.init()"
      ],
      "execution_count": 1,
      "outputs": [
        {
          "output_type": "stream",
          "text": [
            "spark-3.0.0-preview2-bin-hadoop2.7/\n",
            "spark-3.0.0-preview2-bin-hadoop2.7/data/\n",
            "spark-3.0.0-preview2-bin-hadoop2.7/data/streaming/\n",
            "spark-3.0.0-preview2-bin-hadoop2.7/data/streaming/AFINN-111.txt\n",
            "spark-3.0.0-preview2-bin-hadoop2.7/data/mllib/\n",
            "spark-3.0.0-preview2-bin-hadoop2.7/data/mllib/sample_binary_classification_data.txt\n",
            "spark-3.0.0-preview2-bin-hadoop2.7/data/mllib/sample_kmeans_data.txt\n",
            "spark-3.0.0-preview2-bin-hadoop2.7/data/mllib/sample_multiclass_classification_data.txt\n",
            "spark-3.0.0-preview2-bin-hadoop2.7/data/mllib/sample_lda_libsvm_data.txt\n",
            "spark-3.0.0-preview2-bin-hadoop2.7/data/mllib/iris_libsvm.txt\n",
            "spark-3.0.0-preview2-bin-hadoop2.7/data/mllib/pagerank_data.txt\n",
            "spark-3.0.0-preview2-bin-hadoop2.7/data/mllib/sample_linear_regression_data.txt\n",
            "spark-3.0.0-preview2-bin-hadoop2.7/data/mllib/pic_data.txt\n",
            "spark-3.0.0-preview2-bin-hadoop2.7/data/mllib/als/\n",
            "spark-3.0.0-preview2-bin-hadoop2.7/data/mllib/als/test.data\n",
            "spark-3.0.0-preview2-bin-hadoop2.7/data/mllib/als/sample_movielens_ratings.txt\n",
            "spark-3.0.0-preview2-bin-hadoop2.7/data/mllib/ridge-data/\n",
            "spark-3.0.0-preview2-bin-hadoop2.7/data/mllib/ridge-data/lpsa.data\n",
            "spark-3.0.0-preview2-bin-hadoop2.7/data/mllib/sample_movielens_data.txt\n",
            "spark-3.0.0-preview2-bin-hadoop2.7/data/mllib/sample_isotonic_regression_libsvm_data.txt\n",
            "spark-3.0.0-preview2-bin-hadoop2.7/data/mllib/sample_svm_data.txt\n",
            "spark-3.0.0-preview2-bin-hadoop2.7/data/mllib/kmeans_data.txt\n",
            "spark-3.0.0-preview2-bin-hadoop2.7/data/mllib/sample_libsvm_data.txt\n",
            "spark-3.0.0-preview2-bin-hadoop2.7/data/mllib/images/\n",
            "spark-3.0.0-preview2-bin-hadoop2.7/data/mllib/images/origin/\n",
            "spark-3.0.0-preview2-bin-hadoop2.7/data/mllib/images/origin/multi-channel/\n",
            "spark-3.0.0-preview2-bin-hadoop2.7/data/mllib/images/origin/multi-channel/grayscale.jpg\n",
            "spark-3.0.0-preview2-bin-hadoop2.7/data/mllib/images/origin/multi-channel/BGRA.png\n",
            "spark-3.0.0-preview2-bin-hadoop2.7/data/mllib/images/origin/multi-channel/chr30.4.184.jpg\n",
            "spark-3.0.0-preview2-bin-hadoop2.7/data/mllib/images/origin/multi-channel/BGRA_alpha_60.png\n",
            "spark-3.0.0-preview2-bin-hadoop2.7/data/mllib/images/origin/kittens/\n",
            "spark-3.0.0-preview2-bin-hadoop2.7/data/mllib/images/origin/kittens/not-image.txt\n",
            "spark-3.0.0-preview2-bin-hadoop2.7/data/mllib/images/origin/kittens/54893.jpg\n",
            "spark-3.0.0-preview2-bin-hadoop2.7/data/mllib/images/origin/kittens/DP153539.jpg\n",
            "spark-3.0.0-preview2-bin-hadoop2.7/data/mllib/images/origin/kittens/29.5.a_b_EGDP022204.jpg\n",
            "spark-3.0.0-preview2-bin-hadoop2.7/data/mllib/images/origin/kittens/DP802813.jpg\n",
            "spark-3.0.0-preview2-bin-hadoop2.7/data/mllib/images/origin/license.txt\n",
            "spark-3.0.0-preview2-bin-hadoop2.7/data/mllib/images/partitioned/\n",
            "spark-3.0.0-preview2-bin-hadoop2.7/data/mllib/images/partitioned/cls=multichannel/\n",
            "spark-3.0.0-preview2-bin-hadoop2.7/data/mllib/images/partitioned/cls=multichannel/date=2018-01/\n",
            "spark-3.0.0-preview2-bin-hadoop2.7/data/mllib/images/partitioned/cls=multichannel/date=2018-01/BGRA.png\n",
            "spark-3.0.0-preview2-bin-hadoop2.7/data/mllib/images/partitioned/cls=multichannel/date=2018-01/BGRA_alpha_60.png\n",
            "spark-3.0.0-preview2-bin-hadoop2.7/data/mllib/images/partitioned/cls=multichannel/date=2018-02/\n",
            "spark-3.0.0-preview2-bin-hadoop2.7/data/mllib/images/partitioned/cls=multichannel/date=2018-02/grayscale.jpg\n",
            "spark-3.0.0-preview2-bin-hadoop2.7/data/mllib/images/partitioned/cls=multichannel/date=2018-02/chr30.4.184.jpg\n",
            "spark-3.0.0-preview2-bin-hadoop2.7/data/mllib/images/partitioned/cls=kittens/\n",
            "spark-3.0.0-preview2-bin-hadoop2.7/data/mllib/images/partitioned/cls=kittens/date=2018-01/\n",
            "spark-3.0.0-preview2-bin-hadoop2.7/data/mllib/images/partitioned/cls=kittens/date=2018-01/not-image.txt\n",
            "spark-3.0.0-preview2-bin-hadoop2.7/data/mllib/images/partitioned/cls=kittens/date=2018-01/29.5.a_b_EGDP022204.jpg\n",
            "spark-3.0.0-preview2-bin-hadoop2.7/data/mllib/images/partitioned/cls=kittens/date=2018-02/\n",
            "spark-3.0.0-preview2-bin-hadoop2.7/data/mllib/images/partitioned/cls=kittens/date=2018-02/54893.jpg\n",
            "spark-3.0.0-preview2-bin-hadoop2.7/data/mllib/images/partitioned/cls=kittens/date=2018-02/DP153539.jpg\n",
            "spark-3.0.0-preview2-bin-hadoop2.7/data/mllib/images/partitioned/cls=kittens/date=2018-02/DP802813.jpg\n",
            "spark-3.0.0-preview2-bin-hadoop2.7/data/mllib/images/license.txt\n",
            "spark-3.0.0-preview2-bin-hadoop2.7/data/mllib/streaming_kmeans_data_test.txt\n",
            "spark-3.0.0-preview2-bin-hadoop2.7/data/mllib/sample_lda_data.txt\n",
            "spark-3.0.0-preview2-bin-hadoop2.7/data/mllib/gmm_data.txt\n",
            "spark-3.0.0-preview2-bin-hadoop2.7/data/mllib/sample_fpgrowth.txt\n",
            "spark-3.0.0-preview2-bin-hadoop2.7/data/graphx/\n",
            "spark-3.0.0-preview2-bin-hadoop2.7/data/graphx/followers.txt\n",
            "spark-3.0.0-preview2-bin-hadoop2.7/data/graphx/users.txt\n",
            "spark-3.0.0-preview2-bin-hadoop2.7/licenses/\n",
            "spark-3.0.0-preview2-bin-hadoop2.7/licenses/LICENSE-javassist.html\n",
            "spark-3.0.0-preview2-bin-hadoop2.7/licenses/LICENSE-protobuf.txt\n",
            "spark-3.0.0-preview2-bin-hadoop2.7/licenses/LICENSE-jakarta.xml.bind-api.txt\n",
            "spark-3.0.0-preview2-bin-hadoop2.7/licenses/LICENSE-dnsjava.txt\n",
            "spark-3.0.0-preview2-bin-hadoop2.7/licenses/LICENSE-CC0.txt\n",
            "spark-3.0.0-preview2-bin-hadoop2.7/licenses/LICENSE-leveldbjni.txt\n",
            "spark-3.0.0-preview2-bin-hadoop2.7/licenses/LICENSE-jakarta-ws-rs-api\n",
            "spark-3.0.0-preview2-bin-hadoop2.7/licenses/LICENSE-re2j.txt\n",
            "spark-3.0.0-preview2-bin-hadoop2.7/licenses/LICENSE-vis.txt\n",
            "spark-3.0.0-preview2-bin-hadoop2.7/licenses/LICENSE-d3.min.js.txt\n",
            "spark-3.0.0-preview2-bin-hadoop2.7/licenses/LICENSE-dagre-d3.txt\n",
            "spark-3.0.0-preview2-bin-hadoop2.7/licenses/LICENSE-jaxb-runtime.txt\n",
            "spark-3.0.0-preview2-bin-hadoop2.7/licenses/LICENSE-matchMedia-polyfill.txt\n",
            "spark-3.0.0-preview2-bin-hadoop2.7/licenses/LICENSE-mustache.txt\n",
            "spark-3.0.0-preview2-bin-hadoop2.7/licenses/LICENSE-arpack.txt\n",
            "spark-3.0.0-preview2-bin-hadoop2.7/licenses/LICENSE-pmml-model.txt\n",
            "spark-3.0.0-preview2-bin-hadoop2.7/licenses/LICENSE-sorttable.js.txt\n",
            "spark-3.0.0-preview2-bin-hadoop2.7/licenses/LICENSE-pyrolite.txt\n",
            "spark-3.0.0-preview2-bin-hadoop2.7/licenses/LICENSE-javolution.txt\n",
            "spark-3.0.0-preview2-bin-hadoop2.7/licenses/LICENSE-javax-transaction-transaction-api.txt\n",
            "spark-3.0.0-preview2-bin-hadoop2.7/licenses/LICENSE-JTransforms.txt\n",
            "spark-3.0.0-preview2-bin-hadoop2.7/licenses/LICENSE-join.txt\n",
            "spark-3.0.0-preview2-bin-hadoop2.7/licenses/LICENSE-machinist.txt\n",
            "spark-3.0.0-preview2-bin-hadoop2.7/licenses/LICENSE-py4j.txt\n",
            "spark-3.0.0-preview2-bin-hadoop2.7/licenses/LICENSE-slf4j.txt\n",
            "spark-3.0.0-preview2-bin-hadoop2.7/licenses/LICENSE-AnchorJS.txt\n",
            "spark-3.0.0-preview2-bin-hadoop2.7/licenses/LICENSE-heapq.txt\n",
            "spark-3.0.0-preview2-bin-hadoop2.7/licenses/LICENSE-istack-commons-runtime.txt\n",
            "spark-3.0.0-preview2-bin-hadoop2.7/licenses/LICENSE-scopt.txt\n",
            "spark-3.0.0-preview2-bin-hadoop2.7/licenses/LICENSE-scala.txt\n",
            "spark-3.0.0-preview2-bin-hadoop2.7/licenses/LICENSE-jakarta.activation-api.txt\n",
            "spark-3.0.0-preview2-bin-hadoop2.7/licenses/LICENSE-netlib.txt\n",
            "spark-3.0.0-preview2-bin-hadoop2.7/licenses/LICENSE-json-formatter.txt\n",
            "spark-3.0.0-preview2-bin-hadoop2.7/licenses/LICENSE-jline.txt\n",
            "spark-3.0.0-preview2-bin-hadoop2.7/licenses/LICENSE-jquery.txt\n",
            "spark-3.0.0-preview2-bin-hadoop2.7/licenses/LICENSE-modernizr.txt\n",
            "spark-3.0.0-preview2-bin-hadoop2.7/licenses/LICENSE-jodd.txt\n",
            "spark-3.0.0-preview2-bin-hadoop2.7/licenses/LICENSE-jakarta-annotation-api\n",
            "spark-3.0.0-preview2-bin-hadoop2.7/licenses/LICENSE-automaton.txt\n",
            "spark-3.0.0-preview2-bin-hadoop2.7/licenses/LICENSE-minlog.txt\n",
            "spark-3.0.0-preview2-bin-hadoop2.7/licenses/LICENSE-zstd-jni.txt\n",
            "spark-3.0.0-preview2-bin-hadoop2.7/licenses/LICENSE-antlr.txt\n",
            "spark-3.0.0-preview2-bin-hadoop2.7/licenses/LICENSE-spire.txt\n",
            "spark-3.0.0-preview2-bin-hadoop2.7/licenses/LICENSE-graphlib-dot.txt\n",
            "spark-3.0.0-preview2-bin-hadoop2.7/licenses/LICENSE-f2j.txt\n",
            "spark-3.0.0-preview2-bin-hadoop2.7/licenses/LICENSE-cloudpickle.txt\n",
            "spark-3.0.0-preview2-bin-hadoop2.7/licenses/LICENSE-reflectasm.txt\n",
            "spark-3.0.0-preview2-bin-hadoop2.7/licenses/LICENSE-janino.txt\n",
            "spark-3.0.0-preview2-bin-hadoop2.7/licenses/LICENSE-sbt-launch-lib.txt\n",
            "spark-3.0.0-preview2-bin-hadoop2.7/licenses/LICENSE-zstd.txt\n",
            "spark-3.0.0-preview2-bin-hadoop2.7/licenses/LICENSE-paranamer.txt\n",
            "spark-3.0.0-preview2-bin-hadoop2.7/licenses/LICENSE-datatables.txt\n",
            "spark-3.0.0-preview2-bin-hadoop2.7/licenses/LICENSE-jsp-api.txt\n",
            "spark-3.0.0-preview2-bin-hadoop2.7/licenses/LICENSE-bootstrap.txt\n",
            "spark-3.0.0-preview2-bin-hadoop2.7/licenses/LICENSE-JLargeArrays.txt\n",
            "spark-3.0.0-preview2-bin-hadoop2.7/licenses/LICENSE-kryo.txt\n",
            "spark-3.0.0-preview2-bin-hadoop2.7/licenses/LICENSE-xmlenc.txt\n",
            "spark-3.0.0-preview2-bin-hadoop2.7/licenses/LICENSE-respond.txt\n",
            "spark-3.0.0-preview2-bin-hadoop2.7/examples/\n",
            "spark-3.0.0-preview2-bin-hadoop2.7/examples/jars/\n",
            "spark-3.0.0-preview2-bin-hadoop2.7/examples/jars/spark-examples_2.12-3.0.0-preview2.jar\n",
            "spark-3.0.0-preview2-bin-hadoop2.7/examples/jars/scopt_2.12-3.7.1.jar\n",
            "spark-3.0.0-preview2-bin-hadoop2.7/examples/src/\n",
            "spark-3.0.0-preview2-bin-hadoop2.7/examples/src/main/\n",
            "spark-3.0.0-preview2-bin-hadoop2.7/examples/src/main/resources/\n",
            "spark-3.0.0-preview2-bin-hadoop2.7/examples/src/main/resources/users.orc\n",
            "spark-3.0.0-preview2-bin-hadoop2.7/examples/src/main/resources/people.txt\n",
            "spark-3.0.0-preview2-bin-hadoop2.7/examples/src/main/resources/employees.json\n",
            "spark-3.0.0-preview2-bin-hadoop2.7/examples/src/main/resources/people.json\n",
            "spark-3.0.0-preview2-bin-hadoop2.7/examples/src/main/resources/people.csv\n",
            "spark-3.0.0-preview2-bin-hadoop2.7/examples/src/main/resources/users.parquet\n",
            "spark-3.0.0-preview2-bin-hadoop2.7/examples/src/main/resources/kv1.txt\n",
            "spark-3.0.0-preview2-bin-hadoop2.7/examples/src/main/resources/partitioned_users.orc/\n",
            "spark-3.0.0-preview2-bin-hadoop2.7/examples/src/main/resources/partitioned_users.orc/favorite_color=red/\n",
            "spark-3.0.0-preview2-bin-hadoop2.7/examples/src/main/resources/partitioned_users.orc/favorite_color=red/users.orc\n",
            "spark-3.0.0-preview2-bin-hadoop2.7/examples/src/main/resources/partitioned_users.orc/favorite_color=__HIVE_DEFAULT_PARTITION__/\n",
            "spark-3.0.0-preview2-bin-hadoop2.7/examples/src/main/resources/partitioned_users.orc/favorite_color=__HIVE_DEFAULT_PARTITION__/users.orc\n",
            "spark-3.0.0-preview2-bin-hadoop2.7/examples/src/main/resources/partitioned_users.orc/do_not_read_this.txt\n",
            "spark-3.0.0-preview2-bin-hadoop2.7/examples/src/main/resources/full_user.avsc\n",
            "spark-3.0.0-preview2-bin-hadoop2.7/examples/src/main/resources/user.avsc\n",
            "spark-3.0.0-preview2-bin-hadoop2.7/examples/src/main/resources/users.avro\n",
            "spark-3.0.0-preview2-bin-hadoop2.7/examples/src/main/scripts/\n",
            "spark-3.0.0-preview2-bin-hadoop2.7/examples/src/main/scripts/getGpusResources.sh\n",
            "spark-3.0.0-preview2-bin-hadoop2.7/examples/src/main/java/\n",
            "spark-3.0.0-preview2-bin-hadoop2.7/examples/src/main/java/org/\n",
            "spark-3.0.0-preview2-bin-hadoop2.7/examples/src/main/java/org/apache/\n",
            "spark-3.0.0-preview2-bin-hadoop2.7/examples/src/main/java/org/apache/spark/\n",
            "spark-3.0.0-preview2-bin-hadoop2.7/examples/src/main/java/org/apache/spark/examples/\n",
            "spark-3.0.0-preview2-bin-hadoop2.7/examples/src/main/java/org/apache/spark/examples/ml/\n",
            "spark-3.0.0-preview2-bin-hadoop2.7/examples/src/main/java/org/apache/spark/examples/ml/JavaKMeansExample.java\n",
            "spark-3.0.0-preview2-bin-hadoop2.7/examples/src/main/java/org/apache/spark/examples/ml/JavaCorrelationExample.java\n",
            "spark-3.0.0-preview2-bin-hadoop2.7/examples/src/main/java/org/apache/spark/examples/ml/JavaModelSelectionViaTrainValidationSplitExample.java\n",
            "spark-3.0.0-preview2-bin-hadoop2.7/examples/src/main/java/org/apache/spark/examples/ml/JavaPrefixSpanExample.java\n",
            "spark-3.0.0-preview2-bin-hadoop2.7/examples/src/main/java/org/apache/spark/examples/ml/JavaVectorSizeHintExample.java\n",
            "spark-3.0.0-preview2-bin-hadoop2.7/examples/src/main/java/org/apache/spark/examples/ml/JavaOneHotEncoderExample.java\n",
            "spark-3.0.0-preview2-bin-hadoop2.7/examples/src/main/java/org/apache/spark/examples/ml/JavaQuantileDiscretizerExample.java\n",
            "spark-3.0.0-preview2-bin-hadoop2.7/examples/src/main/java/org/apache/spark/examples/ml/JavaElementwiseProductExample.java\n",
            "spark-3.0.0-preview2-bin-hadoop2.7/examples/src/main/java/org/apache/spark/examples/ml/JavaBucketedRandomProjectionLSHExample.java\n",
            "spark-3.0.0-preview2-bin-hadoop2.7/examples/src/main/java/org/apache/spark/examples/ml/JavaGradientBoostedTreeRegressorExample.java\n",
            "spark-3.0.0-preview2-bin-hadoop2.7/examples/src/main/java/org/apache/spark/examples/ml/JavaCountVectorizerExample.java\n",
            "spark-3.0.0-preview2-bin-hadoop2.7/examples/src/main/java/org/apache/spark/examples/ml/JavaInteractionExample.java\n",
            "spark-3.0.0-preview2-bin-hadoop2.7/examples/src/main/java/org/apache/spark/examples/ml/JavaRandomForestClassifierExample.java\n",
            "spark-3.0.0-preview2-bin-hadoop2.7/examples/src/main/java/org/apache/spark/examples/ml/JavaDocument.java\n",
            "spark-3.0.0-preview2-bin-hadoop2.7/examples/src/main/java/org/apache/spark/examples/ml/JavaOneVsRestExample.java\n",
            "spark-3.0.0-preview2-bin-hadoop2.7/examples/src/main/java/org/apache/spark/examples/ml/JavaBucketizerExample.java\n",
            "spark-3.0.0-preview2-bin-hadoop2.7/examples/src/main/java/org/apache/spark/examples/ml/JavaLogisticRegressionSummaryExample.java\n",
            "spark-3.0.0-preview2-bin-hadoop2.7/examples/src/main/java/org/apache/spark/examples/ml/JavaRandomForestRegressorExample.java\n",
            "spark-3.0.0-preview2-bin-hadoop2.7/examples/src/main/java/org/apache/spark/examples/ml/JavaLinearRegressionWithElasticNetExample.java\n",
            "spark-3.0.0-preview2-bin-hadoop2.7/examples/src/main/java/org/apache/spark/examples/ml/JavaVectorAssemblerExample.java\n",
            "spark-3.0.0-preview2-bin-hadoop2.7/examples/src/main/java/org/apache/spark/examples/ml/JavaDecisionTreeClassificationExample.java\n",
            "spark-3.0.0-preview2-bin-hadoop2.7/examples/src/main/java/org/apache/spark/examples/ml/JavaMinMaxScalerExample.java\n",
            "spark-3.0.0-preview2-bin-hadoop2.7/examples/src/main/java/org/apache/spark/examples/ml/JavaMultilayerPerceptronClassifierExample.java\n",
            "spark-3.0.0-preview2-bin-hadoop2.7/examples/src/main/java/org/apache/spark/examples/ml/JavaMulticlassLogisticRegressionWithElasticNetExample.java\n",
            "spark-3.0.0-preview2-bin-hadoop2.7/examples/src/main/java/org/apache/spark/examples/ml/JavaWord2VecExample.java\n",
            "spark-3.0.0-preview2-bin-hadoop2.7/examples/src/main/java/org/apache/spark/examples/ml/JavaRFormulaExample.java\n",
            "spark-3.0.0-preview2-bin-hadoop2.7/examples/src/main/java/org/apache/spark/examples/ml/JavaGaussianMixtureExample.java\n",
            "spark-3.0.0-preview2-bin-hadoop2.7/examples/src/main/java/org/apache/spark/examples/ml/JavaGeneralizedLinearRegressionExample.java\n",
            "spark-3.0.0-preview2-bin-hadoop2.7/examples/src/main/java/org/apache/spark/examples/ml/JavaChiSquareTestExample.java\n",
            "spark-3.0.0-preview2-bin-hadoop2.7/examples/src/main/java/org/apache/spark/examples/ml/JavaMaxAbsScalerExample.java\n",
            "spark-3.0.0-preview2-bin-hadoop2.7/examples/src/main/java/org/apache/spark/examples/ml/JavaModelSelectionViaCrossValidationExample.java\n",
            "spark-3.0.0-preview2-bin-hadoop2.7/examples/src/main/java/org/apache/spark/examples/ml/JavaRobustScalerExample.java\n",
            "spark-3.0.0-preview2-bin-hadoop2.7/examples/src/main/java/org/apache/spark/examples/ml/JavaSQLTransformerExample.java\n",
            "spark-3.0.0-preview2-bin-hadoop2.7/examples/src/main/java/org/apache/spark/examples/ml/JavaBinarizerExample.java\n",
            "spark-3.0.0-preview2-bin-hadoop2.7/examples/src/main/java/org/apache/spark/examples/ml/JavaLDAExample.java\n",
            "spark-3.0.0-preview2-bin-hadoop2.7/examples/src/main/java/org/apache/spark/examples/ml/JavaTokenizerExample.java\n",
            "spark-3.0.0-preview2-bin-hadoop2.7/examples/src/main/java/org/apache/spark/examples/ml/JavaFPGrowthExample.java\n",
            "spark-3.0.0-preview2-bin-hadoop2.7/examples/src/main/java/org/apache/spark/examples/ml/JavaChiSqSelectorExample.java\n",
            "spark-3.0.0-preview2-bin-hadoop2.7/examples/src/main/java/org/apache/spark/examples/ml/JavaTfIdfExample.java\n",
            "spark-3.0.0-preview2-bin-hadoop2.7/examples/src/main/java/org/apache/spark/examples/ml/JavaPolynomialExpansionExample.java\n",
            "spark-3.0.0-preview2-bin-hadoop2.7/examples/src/main/java/org/apache/spark/examples/ml/JavaALSExample.java\n",
            "spark-3.0.0-preview2-bin-hadoop2.7/examples/src/main/java/org/apache/spark/examples/ml/JavaStandardScalerExample.java\n",
            "spark-3.0.0-preview2-bin-hadoop2.7/examples/src/main/java/org/apache/spark/examples/ml/JavaPipelineExample.java\n",
            "spark-3.0.0-preview2-bin-hadoop2.7/examples/src/main/java/org/apache/spark/examples/ml/JavaPCAExample.java\n",
            "spark-3.0.0-preview2-bin-hadoop2.7/examples/src/main/java/org/apache/spark/examples/ml/JavaDecisionTreeRegressionExample.java\n",
            "spark-3.0.0-preview2-bin-hadoop2.7/examples/src/main/java/org/apache/spark/examples/ml/JavaLabeledDocument.java\n",
            "spark-3.0.0-preview2-bin-hadoop2.7/examples/src/main/java/org/apache/spark/examples/ml/JavaNaiveBayesExample.java\n",
            "spark-3.0.0-preview2-bin-hadoop2.7/examples/src/main/java/org/apache/spark/examples/ml/JavaBisectingKMeansExample.java\n",
            "spark-3.0.0-preview2-bin-hadoop2.7/examples/src/main/java/org/apache/spark/examples/ml/JavaMinHashLSHExample.java\n",
            "spark-3.0.0-preview2-bin-hadoop2.7/examples/src/main/java/org/apache/spark/examples/ml/JavaSummarizerExample.java\n",
            "spark-3.0.0-preview2-bin-hadoop2.7/examples/src/main/java/org/apache/spark/examples/ml/JavaNormalizerExample.java\n",
            "spark-3.0.0-preview2-bin-hadoop2.7/examples/src/main/java/org/apache/spark/examples/ml/JavaLinearSVCExample.java\n",
            "spark-3.0.0-preview2-bin-hadoop2.7/examples/src/main/java/org/apache/spark/examples/ml/JavaStringIndexerExample.java\n",
            "spark-3.0.0-preview2-bin-hadoop2.7/examples/src/main/java/org/apache/spark/examples/ml/JavaImputerExample.java\n",
            "spark-3.0.0-preview2-bin-hadoop2.7/examples/src/main/java/org/apache/spark/examples/ml/JavaVectorSlicerExample.java\n",
            "spark-3.0.0-preview2-bin-hadoop2.7/examples/src/main/java/org/apache/spark/examples/ml/JavaFeatureHasherExample.java\n",
            "spark-3.0.0-preview2-bin-hadoop2.7/examples/src/main/java/org/apache/spark/examples/ml/JavaVectorIndexerExample.java\n",
            "spark-3.0.0-preview2-bin-hadoop2.7/examples/src/main/java/org/apache/spark/examples/ml/JavaIsotonicRegressionExample.java\n",
            "spark-3.0.0-preview2-bin-hadoop2.7/examples/src/main/java/org/apache/spark/examples/ml/JavaPowerIterationClusteringExample.java\n",
            "spark-3.0.0-preview2-bin-hadoop2.7/examples/src/main/java/org/apache/spark/examples/ml/JavaLogisticRegressionWithElasticNetExample.java\n",
            "spark-3.0.0-preview2-bin-hadoop2.7/examples/src/main/java/org/apache/spark/examples/ml/JavaGradientBoostedTreeClassifierExample.java\n",
            "spark-3.0.0-preview2-bin-hadoop2.7/examples/src/main/java/org/apache/spark/examples/ml/JavaIndexToStringExample.java\n",
            "spark-3.0.0-preview2-bin-hadoop2.7/examples/src/main/java/org/apache/spark/examples/ml/JavaEstimatorTransformerParamExample.java\n",
            "spark-3.0.0-preview2-bin-hadoop2.7/examples/src/main/java/org/apache/spark/examples/ml/JavaNGramExample.java\n",
            "spark-3.0.0-preview2-bin-hadoop2.7/examples/src/main/java/org/apache/spark/examples/ml/JavaStopWordsRemoverExample.java\n",
            "spark-3.0.0-preview2-bin-hadoop2.7/examples/src/main/java/org/apache/spark/examples/ml/JavaDCTExample.java\n",
            "spark-3.0.0-preview2-bin-hadoop2.7/examples/src/main/java/org/apache/spark/examples/ml/JavaAFTSurvivalRegressionExample.java\n",
            "spark-3.0.0-preview2-bin-hadoop2.7/examples/src/main/java/org/apache/spark/examples/JavaLogQuery.java\n",
            "spark-3.0.0-preview2-bin-hadoop2.7/examples/src/main/java/org/apache/spark/examples/streaming/\n",
            "spark-3.0.0-preview2-bin-hadoop2.7/examples/src/main/java/org/apache/spark/examples/streaming/JavaNetworkWordCount.java\n",
            "spark-3.0.0-preview2-bin-hadoop2.7/examples/src/main/java/org/apache/spark/examples/streaming/JavaRecoverableNetworkWordCount.java\n",
            "spark-3.0.0-preview2-bin-hadoop2.7/examples/src/main/java/org/apache/spark/examples/streaming/JavaDirectKerberizedKafkaWordCount.java\n",
            "spark-3.0.0-preview2-bin-hadoop2.7/examples/src/main/java/org/apache/spark/examples/streaming/JavaRecord.java\n",
            "spark-3.0.0-preview2-bin-hadoop2.7/examples/src/main/java/org/apache/spark/examples/streaming/JavaDirectKafkaWordCount.java\n",
            "spark-3.0.0-preview2-bin-hadoop2.7/examples/src/main/java/org/apache/spark/examples/streaming/JavaStatefulNetworkWordCount.java\n",
            "spark-3.0.0-preview2-bin-hadoop2.7/examples/src/main/java/org/apache/spark/examples/streaming/JavaCustomReceiver.java\n",
            "spark-3.0.0-preview2-bin-hadoop2.7/examples/src/main/java/org/apache/spark/examples/streaming/JavaSqlNetworkWordCount.java\n",
            "spark-3.0.0-preview2-bin-hadoop2.7/examples/src/main/java/org/apache/spark/examples/streaming/JavaQueueStream.java\n",
            "spark-3.0.0-preview2-bin-hadoop2.7/examples/src/main/java/org/apache/spark/examples/JavaHdfsLR.java\n",
            "spark-3.0.0-preview2-bin-hadoop2.7/examples/src/main/java/org/apache/spark/examples/JavaStatusTrackerDemo.java\n",
            "spark-3.0.0-preview2-bin-hadoop2.7/examples/src/main/java/org/apache/spark/examples/JavaPageRank.java\n",
            "spark-3.0.0-preview2-bin-hadoop2.7/examples/src/main/java/org/apache/spark/examples/JavaSparkPi.java\n",
            "spark-3.0.0-preview2-bin-hadoop2.7/examples/src/main/java/org/apache/spark/examples/sql/\n",
            "spark-3.0.0-preview2-bin-hadoop2.7/examples/src/main/java/org/apache/spark/examples/sql/JavaSQLDataSourceExample.java\n",
            "spark-3.0.0-preview2-bin-hadoop2.7/examples/src/main/java/org/apache/spark/examples/sql/streaming/\n",
            "spark-3.0.0-preview2-bin-hadoop2.7/examples/src/main/java/org/apache/spark/examples/sql/streaming/JavaStructuredKerberizedKafkaWordCount.java\n",
            "spark-3.0.0-preview2-bin-hadoop2.7/examples/src/main/java/org/apache/spark/examples/sql/streaming/JavaStructuredSessionization.java\n",
            "spark-3.0.0-preview2-bin-hadoop2.7/examples/src/main/java/org/apache/spark/examples/sql/streaming/JavaStructuredNetworkWordCountWindowed.java\n",
            "spark-3.0.0-preview2-bin-hadoop2.7/examples/src/main/java/org/apache/spark/examples/sql/streaming/JavaStructuredNetworkWordCount.java\n",
            "spark-3.0.0-preview2-bin-hadoop2.7/examples/src/main/java/org/apache/spark/examples/sql/streaming/JavaStructuredKafkaWordCount.java\n",
            "spark-3.0.0-preview2-bin-hadoop2.7/examples/src/main/java/org/apache/spark/examples/sql/JavaUserDefinedTypedAggregation.java\n",
            "spark-3.0.0-preview2-bin-hadoop2.7/examples/src/main/java/org/apache/spark/examples/sql/JavaUserDefinedUntypedAggregation.java\n",
            "spark-3.0.0-preview2-bin-hadoop2.7/examples/src/main/java/org/apache/spark/examples/sql/hive/\n",
            "spark-3.0.0-preview2-bin-hadoop2.7/examples/src/main/java/org/apache/spark/examples/sql/hive/JavaSparkHiveExample.java\n",
            "spark-3.0.0-preview2-bin-hadoop2.7/examples/src/main/java/org/apache/spark/examples/sql/JavaSparkSQLExample.java\n",
            "spark-3.0.0-preview2-bin-hadoop2.7/examples/src/main/java/org/apache/spark/examples/JavaWordCount.java\n",
            "spark-3.0.0-preview2-bin-hadoop2.7/examples/src/main/java/org/apache/spark/examples/mllib/\n",
            "spark-3.0.0-preview2-bin-hadoop2.7/examples/src/main/java/org/apache/spark/examples/mllib/JavaKMeansExample.java\n",
            "spark-3.0.0-preview2-bin-hadoop2.7/examples/src/main/java/org/apache/spark/examples/mllib/JavaPrefixSpanExample.java\n",
            "spark-3.0.0-preview2-bin-hadoop2.7/examples/src/main/java/org/apache/spark/examples/mllib/JavaGradientBoostingRegressionExample.java\n",
            "spark-3.0.0-preview2-bin-hadoop2.7/examples/src/main/java/org/apache/spark/examples/mllib/JavaElementwiseProductExample.java\n",
            "spark-3.0.0-preview2-bin-hadoop2.7/examples/src/main/java/org/apache/spark/examples/mllib/JavaKernelDensityEstimationExample.java\n",
            "spark-3.0.0-preview2-bin-hadoop2.7/examples/src/main/java/org/apache/spark/examples/mllib/JavaRankingMetricsExample.java\n",
            "spark-3.0.0-preview2-bin-hadoop2.7/examples/src/main/java/org/apache/spark/examples/mllib/JavaALS.java\n",
            "spark-3.0.0-preview2-bin-hadoop2.7/examples/src/main/java/org/apache/spark/examples/mllib/JavaHypothesisTestingExample.java\n",
            "spark-3.0.0-preview2-bin-hadoop2.7/examples/src/main/java/org/apache/spark/examples/mllib/JavaSummaryStatisticsExample.java\n",
            "spark-3.0.0-preview2-bin-hadoop2.7/examples/src/main/java/org/apache/spark/examples/mllib/JavaStratifiedSamplingExample.java\n",
            "spark-3.0.0-preview2-bin-hadoop2.7/examples/src/main/java/org/apache/spark/examples/mllib/JavaDecisionTreeClassificationExample.java\n",
            "spark-3.0.0-preview2-bin-hadoop2.7/examples/src/main/java/org/apache/spark/examples/mllib/JavaRandomForestRegressionExample.java\n",
            "spark-3.0.0-preview2-bin-hadoop2.7/examples/src/main/java/org/apache/spark/examples/mllib/JavaLogisticRegressionWithLBFGSExample.java\n",
            "spark-3.0.0-preview2-bin-hadoop2.7/examples/src/main/java/org/apache/spark/examples/mllib/JavaMulticlassClassificationMetricsExample.java\n",
            "spark-3.0.0-preview2-bin-hadoop2.7/examples/src/main/java/org/apache/spark/examples/mllib/JavaSVMWithSGDExample.java\n",
            "spark-3.0.0-preview2-bin-hadoop2.7/examples/src/main/java/org/apache/spark/examples/mllib/JavaLBFGSExample.java\n",
            "spark-3.0.0-preview2-bin-hadoop2.7/examples/src/main/java/org/apache/spark/examples/mllib/JavaStreamingTestExample.java\n",
            "spark-3.0.0-preview2-bin-hadoop2.7/examples/src/main/java/org/apache/spark/examples/mllib/JavaGaussianMixtureExample.java\n",
            "spark-3.0.0-preview2-bin-hadoop2.7/examples/src/main/java/org/apache/spark/examples/mllib/JavaAssociationRulesExample.java\n",
            "spark-3.0.0-preview2-bin-hadoop2.7/examples/src/main/java/org/apache/spark/examples/mllib/JavaRecommendationExample.java\n",
            "spark-3.0.0-preview2-bin-hadoop2.7/examples/src/main/java/org/apache/spark/examples/mllib/JavaMultiLabelClassificationMetricsExample.java\n",
            "spark-3.0.0-preview2-bin-hadoop2.7/examples/src/main/java/org/apache/spark/examples/mllib/JavaChiSqSelectorExample.java\n",
            "spark-3.0.0-preview2-bin-hadoop2.7/examples/src/main/java/org/apache/spark/examples/mllib/JavaPCAExample.java\n",
            "spark-3.0.0-preview2-bin-hadoop2.7/examples/src/main/java/org/apache/spark/examples/mllib/JavaDecisionTreeRegressionExample.java\n",
            "spark-3.0.0-preview2-bin-hadoop2.7/examples/src/main/java/org/apache/spark/examples/mllib/JavaSVDExample.java\n",
            "spark-3.0.0-preview2-bin-hadoop2.7/examples/src/main/java/org/apache/spark/examples/mllib/JavaLatentDirichletAllocationExample.java\n",
            "spark-3.0.0-preview2-bin-hadoop2.7/examples/src/main/java/org/apache/spark/examples/mllib/JavaNaiveBayesExample.java\n",
            "spark-3.0.0-preview2-bin-hadoop2.7/examples/src/main/java/org/apache/spark/examples/mllib/JavaBisectingKMeansExample.java\n",
            "spark-3.0.0-preview2-bin-hadoop2.7/examples/src/main/java/org/apache/spark/examples/mllib/JavaHypothesisTestingKolmogorovSmirnovTestExample.java\n",
            "spark-3.0.0-preview2-bin-hadoop2.7/examples/src/main/java/org/apache/spark/examples/mllib/JavaRandomForestClassificationExample.java\n",
            "spark-3.0.0-preview2-bin-hadoop2.7/examples/src/main/java/org/apache/spark/examples/mllib/JavaSimpleFPGrowth.java\n",
            "spark-3.0.0-preview2-bin-hadoop2.7/examples/src/main/java/org/apache/spark/examples/mllib/JavaBinaryClassificationMetricsExample.java\n",
            "spark-3.0.0-preview2-bin-hadoop2.7/examples/src/main/java/org/apache/spark/examples/mllib/JavaGradientBoostingClassificationExample.java\n",
            "spark-3.0.0-preview2-bin-hadoop2.7/examples/src/main/java/org/apache/spark/examples/mllib/JavaIsotonicRegressionExample.java\n",
            "spark-3.0.0-preview2-bin-hadoop2.7/examples/src/main/java/org/apache/spark/examples/mllib/JavaCorrelationsExample.java\n",
            "spark-3.0.0-preview2-bin-hadoop2.7/examples/src/main/java/org/apache/spark/examples/mllib/JavaPowerIterationClusteringExample.java\n",
            "spark-3.0.0-preview2-bin-hadoop2.7/examples/src/main/java/org/apache/spark/examples/JavaTC.java\n",
            "spark-3.0.0-preview2-bin-hadoop2.7/examples/src/main/python/\n",
            "spark-3.0.0-preview2-bin-hadoop2.7/examples/src/main/python/ml/\n",
            "spark-3.0.0-preview2-bin-hadoop2.7/examples/src/main/python/ml/correlation_example.py\n",
            "spark-3.0.0-preview2-bin-hadoop2.7/examples/src/main/python/ml/word2vec_example.py\n",
            "spark-3.0.0-preview2-bin-hadoop2.7/examples/src/main/python/ml/gaussian_mixture_example.py\n",
            "spark-3.0.0-preview2-bin-hadoop2.7/examples/src/main/python/ml/multiclass_logistic_regression_with_elastic_net.py\n",
            "spark-3.0.0-preview2-bin-hadoop2.7/examples/src/main/python/ml/bisecting_k_means_example.py\n",
            "spark-3.0.0-preview2-bin-hadoop2.7/examples/src/main/python/ml/max_abs_scaler_example.py\n",
            "spark-3.0.0-preview2-bin-hadoop2.7/examples/src/main/python/ml/tf_idf_example.py\n",
            "spark-3.0.0-preview2-bin-hadoop2.7/examples/src/main/python/ml/index_to_string_example.py\n",
            "spark-3.0.0-preview2-bin-hadoop2.7/examples/src/main/python/ml/linearsvc.py\n",
            "spark-3.0.0-preview2-bin-hadoop2.7/examples/src/main/python/ml/random_forest_classifier_example.py\n",
            "spark-3.0.0-preview2-bin-hadoop2.7/examples/src/main/python/ml/train_validation_split.py\n",
            "spark-3.0.0-preview2-bin-hadoop2.7/examples/src/main/python/ml/chi_square_test_example.py\n",
            "spark-3.0.0-preview2-bin-hadoop2.7/examples/src/main/python/ml/vector_size_hint_example.py\n",
            "spark-3.0.0-preview2-bin-hadoop2.7/examples/src/main/python/ml/aft_survival_regression.py\n",
            "spark-3.0.0-preview2-bin-hadoop2.7/examples/src/main/python/ml/string_indexer_example.py\n",
            "spark-3.0.0-preview2-bin-hadoop2.7/examples/src/main/python/ml/estimator_transformer_param_example.py\n",
            "spark-3.0.0-preview2-bin-hadoop2.7/examples/src/main/python/ml/binarizer_example.py\n",
            "spark-3.0.0-preview2-bin-hadoop2.7/examples/src/main/python/ml/bucketed_random_projection_lsh_example.py\n",
            "spark-3.0.0-preview2-bin-hadoop2.7/examples/src/main/python/ml/multilayer_perceptron_classification.py\n",
            "spark-3.0.0-preview2-bin-hadoop2.7/examples/src/main/python/ml/stopwords_remover_example.py\n",
            "spark-3.0.0-preview2-bin-hadoop2.7/examples/src/main/python/ml/vector_indexer_example.py\n",
            "spark-3.0.0-preview2-bin-hadoop2.7/examples/src/main/python/ml/normalizer_example.py\n",
            "spark-3.0.0-preview2-bin-hadoop2.7/examples/src/main/python/ml/cross_validator.py\n",
            "spark-3.0.0-preview2-bin-hadoop2.7/examples/src/main/python/ml/logistic_regression_summary_example.py\n",
            "spark-3.0.0-preview2-bin-hadoop2.7/examples/src/main/python/ml/decision_tree_regression_example.py\n",
            "spark-3.0.0-preview2-bin-hadoop2.7/examples/src/main/python/ml/generalized_linear_regression_example.py\n",
            "spark-3.0.0-preview2-bin-hadoop2.7/examples/src/main/python/ml/random_forest_regressor_example.py\n",
            "spark-3.0.0-preview2-bin-hadoop2.7/examples/src/main/python/ml/dct_example.py\n",
            "spark-3.0.0-preview2-bin-hadoop2.7/examples/src/main/python/ml/vector_assembler_example.py\n",
            "spark-3.0.0-preview2-bin-hadoop2.7/examples/src/main/python/ml/elementwise_product_example.py\n",
            "spark-3.0.0-preview2-bin-hadoop2.7/examples/src/main/python/ml/lda_example.py\n",
            "spark-3.0.0-preview2-bin-hadoop2.7/examples/src/main/python/ml/linear_regression_with_elastic_net.py\n",
            "spark-3.0.0-preview2-bin-hadoop2.7/examples/src/main/python/ml/standard_scaler_example.py\n",
            "spark-3.0.0-preview2-bin-hadoop2.7/examples/src/main/python/ml/polynomial_expansion_example.py\n",
            "spark-3.0.0-preview2-bin-hadoop2.7/examples/src/main/python/ml/n_gram_example.py\n",
            "spark-3.0.0-preview2-bin-hadoop2.7/examples/src/main/python/ml/one_vs_rest_example.py\n",
            "spark-3.0.0-preview2-bin-hadoop2.7/examples/src/main/python/ml/bucketizer_example.py\n",
            "spark-3.0.0-preview2-bin-hadoop2.7/examples/src/main/python/ml/als_example.py\n",
            "spark-3.0.0-preview2-bin-hadoop2.7/examples/src/main/python/ml/isotonic_regression_example.py\n",
            "spark-3.0.0-preview2-bin-hadoop2.7/examples/src/main/python/ml/chisq_selector_example.py\n",
            "spark-3.0.0-preview2-bin-hadoop2.7/examples/src/main/python/ml/sql_transformer.py\n",
            "spark-3.0.0-preview2-bin-hadoop2.7/examples/src/main/python/ml/dataframe_example.py\n",
            "spark-3.0.0-preview2-bin-hadoop2.7/examples/src/main/python/ml/feature_hasher_example.py\n",
            "spark-3.0.0-preview2-bin-hadoop2.7/examples/src/main/python/ml/imputer_example.py\n",
            "spark-3.0.0-preview2-bin-hadoop2.7/examples/src/main/python/ml/tokenizer_example.py\n",
            "spark-3.0.0-preview2-bin-hadoop2.7/examples/src/main/python/ml/logistic_regression_with_elastic_net.py\n",
            "spark-3.0.0-preview2-bin-hadoop2.7/examples/src/main/python/ml/pipeline_example.py\n",
            "spark-3.0.0-preview2-bin-hadoop2.7/examples/src/main/python/ml/gradient_boosted_tree_regressor_example.py\n",
            "spark-3.0.0-preview2-bin-hadoop2.7/examples/src/main/python/ml/summarizer_example.py\n",
            "spark-3.0.0-preview2-bin-hadoop2.7/examples/src/main/python/ml/min_max_scaler_example.py\n",
            "spark-3.0.0-preview2-bin-hadoop2.7/examples/src/main/python/ml/gradient_boosted_tree_classifier_example.py\n",
            "spark-3.0.0-preview2-bin-hadoop2.7/examples/src/main/python/ml/quantile_discretizer_example.py\n",
            "spark-3.0.0-preview2-bin-hadoop2.7/examples/src/main/python/ml/power_iteration_clustering_example.py\n",
            "spark-3.0.0-preview2-bin-hadoop2.7/examples/src/main/python/ml/onehot_encoder_example.py\n",
            "spark-3.0.0-preview2-bin-hadoop2.7/examples/src/main/python/ml/rformula_example.py\n",
            "spark-3.0.0-preview2-bin-hadoop2.7/examples/src/main/python/ml/vector_slicer_example.py\n",
            "spark-3.0.0-preview2-bin-hadoop2.7/examples/src/main/python/ml/interaction_example.py\n",
            "spark-3.0.0-preview2-bin-hadoop2.7/examples/src/main/python/ml/pca_example.py\n",
            "spark-3.0.0-preview2-bin-hadoop2.7/examples/src/main/python/ml/count_vectorizer_example.py\n",
            "spark-3.0.0-preview2-bin-hadoop2.7/examples/src/main/python/ml/decision_tree_classification_example.py\n",
            "spark-3.0.0-preview2-bin-hadoop2.7/examples/src/main/python/ml/kmeans_example.py\n",
            "spark-3.0.0-preview2-bin-hadoop2.7/examples/src/main/python/ml/naive_bayes_example.py\n",
            "spark-3.0.0-preview2-bin-hadoop2.7/examples/src/main/python/ml/min_hash_lsh_example.py\n",
            "spark-3.0.0-preview2-bin-hadoop2.7/examples/src/main/python/ml/robust_scaler_example.py\n",
            "spark-3.0.0-preview2-bin-hadoop2.7/examples/src/main/python/ml/prefixspan_example.py\n",
            "spark-3.0.0-preview2-bin-hadoop2.7/examples/src/main/python/ml/fpgrowth_example.py\n",
            "spark-3.0.0-preview2-bin-hadoop2.7/examples/src/main/python/streaming/\n",
            "spark-3.0.0-preview2-bin-hadoop2.7/examples/src/main/python/streaming/queue_stream.py\n",
            "spark-3.0.0-preview2-bin-hadoop2.7/examples/src/main/python/streaming/network_wordjoinsentiments.py\n",
            "spark-3.0.0-preview2-bin-hadoop2.7/examples/src/main/python/streaming/hdfs_wordcount.py\n",
            "spark-3.0.0-preview2-bin-hadoop2.7/examples/src/main/python/streaming/network_wordcount.py\n",
            "spark-3.0.0-preview2-bin-hadoop2.7/examples/src/main/python/streaming/sql_network_wordcount.py\n",
            "spark-3.0.0-preview2-bin-hadoop2.7/examples/src/main/python/streaming/recoverable_network_wordcount.py\n",
            "spark-3.0.0-preview2-bin-hadoop2.7/examples/src/main/python/streaming/stateful_network_wordcount.py\n",
            "spark-3.0.0-preview2-bin-hadoop2.7/examples/src/main/python/wordcount.py\n",
            "spark-3.0.0-preview2-bin-hadoop2.7/examples/src/main/python/transitive_closure.py\n",
            "spark-3.0.0-preview2-bin-hadoop2.7/examples/src/main/python/status_api_demo.py\n",
            "spark-3.0.0-preview2-bin-hadoop2.7/examples/src/main/python/kmeans.py\n",
            "spark-3.0.0-preview2-bin-hadoop2.7/examples/src/main/python/pi.py\n",
            "spark-3.0.0-preview2-bin-hadoop2.7/examples/src/main/python/sql/\n",
            "spark-3.0.0-preview2-bin-hadoop2.7/examples/src/main/python/sql/streaming/\n",
            "spark-3.0.0-preview2-bin-hadoop2.7/examples/src/main/python/sql/streaming/structured_network_wordcount.py\n",
            "spark-3.0.0-preview2-bin-hadoop2.7/examples/src/main/python/sql/streaming/structured_network_wordcount_windowed.py\n",
            "spark-3.0.0-preview2-bin-hadoop2.7/examples/src/main/python/sql/streaming/structured_kafka_wordcount.py\n",
            "spark-3.0.0-preview2-bin-hadoop2.7/examples/src/main/python/sql/hive.py\n",
            "spark-3.0.0-preview2-bin-hadoop2.7/examples/src/main/python/sql/basic.py\n",
            "spark-3.0.0-preview2-bin-hadoop2.7/examples/src/main/python/sql/arrow.py\n",
            "spark-3.0.0-preview2-bin-hadoop2.7/examples/src/main/python/sql/datasource.py\n",
            "spark-3.0.0-preview2-bin-hadoop2.7/examples/src/main/python/avro_inputformat.py\n",
            "spark-3.0.0-preview2-bin-hadoop2.7/examples/src/main/python/sort.py\n",
            "spark-3.0.0-preview2-bin-hadoop2.7/examples/src/main/python/pagerank.py\n",
            "spark-3.0.0-preview2-bin-hadoop2.7/examples/src/main/python/mllib/\n",
            "spark-3.0.0-preview2-bin-hadoop2.7/examples/src/main/python/mllib/word2vec_example.py\n",
            "spark-3.0.0-preview2-bin-hadoop2.7/examples/src/main/python/mllib/multi_label_metrics_example.py\n",
            "spark-3.0.0-preview2-bin-hadoop2.7/examples/src/main/python/mllib/gaussian_mixture_example.py\n",
            "spark-3.0.0-preview2-bin-hadoop2.7/examples/src/main/python/mllib/bisecting_k_means_example.py\n",
            "spark-3.0.0-preview2-bin-hadoop2.7/examples/src/main/python/mllib/tf_idf_example.py\n",
            "spark-3.0.0-preview2-bin-hadoop2.7/examples/src/main/python/mllib/logistic_regression_with_lbfgs_example.py\n",
            "spark-3.0.0-preview2-bin-hadoop2.7/examples/src/main/python/mllib/hypothesis_testing_example.py\n",
            "spark-3.0.0-preview2-bin-hadoop2.7/examples/src/main/python/mllib/gradient_boosting_classification_example.py\n",
            "spark-3.0.0-preview2-bin-hadoop2.7/examples/src/main/python/mllib/regression_metrics_example.py\n",
            "spark-3.0.0-preview2-bin-hadoop2.7/examples/src/main/python/mllib/normalizer_example.py\n",
            "spark-3.0.0-preview2-bin-hadoop2.7/examples/src/main/python/mllib/decision_tree_regression_example.py\n",
            "spark-3.0.0-preview2-bin-hadoop2.7/examples/src/main/python/mllib/kmeans.py\n",
            "spark-3.0.0-preview2-bin-hadoop2.7/examples/src/main/python/mllib/hypothesis_testing_kolmogorov_smirnov_test_example.py\n",
            "spark-3.0.0-preview2-bin-hadoop2.7/examples/src/main/python/mllib/elementwise_product_example.py\n",
            "spark-3.0.0-preview2-bin-hadoop2.7/examples/src/main/python/mllib/random_rdd_generation.py\n",
            "spark-3.0.0-preview2-bin-hadoop2.7/examples/src/main/python/mllib/latent_dirichlet_allocation_example.py\n",
            "spark-3.0.0-preview2-bin-hadoop2.7/examples/src/main/python/mllib/word2vec.py\n",
            "spark-3.0.0-preview2-bin-hadoop2.7/examples/src/main/python/mllib/binary_classification_metrics_example.py\n",
            "spark-3.0.0-preview2-bin-hadoop2.7/examples/src/main/python/mllib/stratified_sampling_example.py\n",
            "spark-3.0.0-preview2-bin-hadoop2.7/examples/src/main/python/mllib/random_forest_regression_example.py\n",
            "spark-3.0.0-preview2-bin-hadoop2.7/examples/src/main/python/mllib/correlations.py\n",
            "spark-3.0.0-preview2-bin-hadoop2.7/examples/src/main/python/mllib/standard_scaler_example.py\n",
            "spark-3.0.0-preview2-bin-hadoop2.7/examples/src/main/python/mllib/correlations_example.py\n",
            "spark-3.0.0-preview2-bin-hadoop2.7/examples/src/main/python/mllib/svm_with_sgd_example.py\n",
            "spark-3.0.0-preview2-bin-hadoop2.7/examples/src/main/python/mllib/k_means_example.py\n",
            "spark-3.0.0-preview2-bin-hadoop2.7/examples/src/main/python/mllib/isotonic_regression_example.py\n",
            "spark-3.0.0-preview2-bin-hadoop2.7/examples/src/main/python/mllib/summary_statistics_example.py\n",
            "spark-3.0.0-preview2-bin-hadoop2.7/examples/src/main/python/mllib/streaming_linear_regression_example.py\n",
            "spark-3.0.0-preview2-bin-hadoop2.7/examples/src/main/python/mllib/recommendation_example.py\n",
            "spark-3.0.0-preview2-bin-hadoop2.7/examples/src/main/python/mllib/multi_class_metrics_example.py\n",
            "spark-3.0.0-preview2-bin-hadoop2.7/examples/src/main/python/mllib/streaming_k_means_example.py\n",
            "spark-3.0.0-preview2-bin-hadoop2.7/examples/src/main/python/mllib/gradient_boosting_regression_example.py\n",
            "spark-3.0.0-preview2-bin-hadoop2.7/examples/src/main/python/mllib/logistic_regression.py\n",
            "spark-3.0.0-preview2-bin-hadoop2.7/examples/src/main/python/mllib/pca_rowmatrix_example.py\n",
            "spark-3.0.0-preview2-bin-hadoop2.7/examples/src/main/python/mllib/power_iteration_clustering_example.py\n",
            "spark-3.0.0-preview2-bin-hadoop2.7/examples/src/main/python/mllib/linear_regression_with_sgd_example.py\n",
            "spark-3.0.0-preview2-bin-hadoop2.7/examples/src/main/python/mllib/sampled_rdds.py\n",
            "spark-3.0.0-preview2-bin-hadoop2.7/examples/src/main/python/mllib/random_forest_classification_example.py\n",
            "spark-3.0.0-preview2-bin-hadoop2.7/examples/src/main/python/mllib/svd_example.py\n",
            "spark-3.0.0-preview2-bin-hadoop2.7/examples/src/main/python/mllib/decision_tree_classification_example.py\n",
            "spark-3.0.0-preview2-bin-hadoop2.7/examples/src/main/python/mllib/naive_bayes_example.py\n",
            "spark-3.0.0-preview2-bin-hadoop2.7/examples/src/main/python/mllib/kernel_density_estimation_example.py\n",
            "spark-3.0.0-preview2-bin-hadoop2.7/examples/src/main/python/mllib/fpgrowth_example.py\n",
            "spark-3.0.0-preview2-bin-hadoop2.7/examples/src/main/python/mllib/gaussian_mixture_model.py\n",
            "spark-3.0.0-preview2-bin-hadoop2.7/examples/src/main/python/mllib/ranking_metrics_example.py\n",
            "spark-3.0.0-preview2-bin-hadoop2.7/examples/src/main/python/logistic_regression.py\n",
            "spark-3.0.0-preview2-bin-hadoop2.7/examples/src/main/python/parquet_inputformat.py\n",
            "spark-3.0.0-preview2-bin-hadoop2.7/examples/src/main/python/als.py\n",
            "spark-3.0.0-preview2-bin-hadoop2.7/examples/src/main/scala/\n",
            "spark-3.0.0-preview2-bin-hadoop2.7/examples/src/main/scala/org/\n",
            "spark-3.0.0-preview2-bin-hadoop2.7/examples/src/main/scala/org/apache/\n",
            "spark-3.0.0-preview2-bin-hadoop2.7/examples/src/main/scala/org/apache/spark/\n",
            "spark-3.0.0-preview2-bin-hadoop2.7/examples/src/main/scala/org/apache/spark/examples/\n",
            "spark-3.0.0-preview2-bin-hadoop2.7/examples/src/main/scala/org/apache/spark/examples/SparkRemoteFileTest.scala\n",
            "spark-3.0.0-preview2-bin-hadoop2.7/examples/src/main/scala/org/apache/spark/examples/ml/\n",
            "spark-3.0.0-preview2-bin-hadoop2.7/examples/src/main/scala/org/apache/spark/examples/ml/PolynomialExpansionExample.scala\n",
            "spark-3.0.0-preview2-bin-hadoop2.7/examples/src/main/scala/org/apache/spark/examples/ml/LDAExample.scala\n",
            "spark-3.0.0-preview2-bin-hadoop2.7/examples/src/main/scala/org/apache/spark/examples/ml/BisectingKMeansExample.scala\n",
            "spark-3.0.0-preview2-bin-hadoop2.7/examples/src/main/scala/org/apache/spark/examples/ml/GBTExample.scala\n",
            "spark-3.0.0-preview2-bin-hadoop2.7/examples/src/main/scala/org/apache/spark/examples/ml/FeatureHasherExample.scala\n",
            "spark-3.0.0-preview2-bin-hadoop2.7/examples/src/main/scala/org/apache/spark/examples/ml/BucketizerExample.scala\n",
            "spark-3.0.0-preview2-bin-hadoop2.7/examples/src/main/scala/org/apache/spark/examples/ml/NormalizerExample.scala\n",
            "spark-3.0.0-preview2-bin-hadoop2.7/examples/src/main/scala/org/apache/spark/examples/ml/PCAExample.scala\n",
            "spark-3.0.0-preview2-bin-hadoop2.7/examples/src/main/scala/org/apache/spark/examples/ml/PowerIterationClusteringExample.scala\n",
            "spark-3.0.0-preview2-bin-hadoop2.7/examples/src/main/scala/org/apache/spark/examples/ml/StringIndexerExample.scala\n",
            "spark-3.0.0-preview2-bin-hadoop2.7/examples/src/main/scala/org/apache/spark/examples/ml/SummarizerExample.scala\n",
            "spark-3.0.0-preview2-bin-hadoop2.7/examples/src/main/scala/org/apache/spark/examples/ml/RFormulaExample.scala\n",
            "spark-3.0.0-preview2-bin-hadoop2.7/examples/src/main/scala/org/apache/spark/examples/ml/VectorAssemblerExample.scala\n",
            "spark-3.0.0-preview2-bin-hadoop2.7/examples/src/main/scala/org/apache/spark/examples/ml/ImputerExample.scala\n",
            "spark-3.0.0-preview2-bin-hadoop2.7/examples/src/main/scala/org/apache/spark/examples/ml/CountVectorizerExample.scala\n",
            "spark-3.0.0-preview2-bin-hadoop2.7/examples/src/main/scala/org/apache/spark/examples/ml/MinHashLSHExample.scala\n",
            "spark-3.0.0-preview2-bin-hadoop2.7/examples/src/main/scala/org/apache/spark/examples/ml/DCTExample.scala\n",
            "spark-3.0.0-preview2-bin-hadoop2.7/examples/src/main/scala/org/apache/spark/examples/ml/RandomForestRegressorExample.scala\n",
            "spark-3.0.0-preview2-bin-hadoop2.7/examples/src/main/scala/org/apache/spark/examples/ml/StopWordsRemoverExample.scala\n",
            "spark-3.0.0-preview2-bin-hadoop2.7/examples/src/main/scala/org/apache/spark/examples/ml/ModelSelectionViaCrossValidationExample.scala\n",
            "spark-3.0.0-preview2-bin-hadoop2.7/examples/src/main/scala/org/apache/spark/examples/ml/PrefixSpanExample.scala\n",
            "spark-3.0.0-preview2-bin-hadoop2.7/examples/src/main/scala/org/apache/spark/examples/ml/ChiSquareTestExample.scala\n",
            "spark-3.0.0-preview2-bin-hadoop2.7/examples/src/main/scala/org/apache/spark/examples/ml/LogisticRegressionSummaryExample.scala\n",
            "spark-3.0.0-preview2-bin-hadoop2.7/examples/src/main/scala/org/apache/spark/examples/ml/MultilayerPerceptronClassifierExample.scala\n",
            "spark-3.0.0-preview2-bin-hadoop2.7/examples/src/main/scala/org/apache/spark/examples/ml/Word2VecExample.scala\n",
            "spark-3.0.0-preview2-bin-hadoop2.7/examples/src/main/scala/org/apache/spark/examples/ml/StandardScalerExample.scala\n",
            "spark-3.0.0-preview2-bin-hadoop2.7/examples/src/main/scala/org/apache/spark/examples/ml/BucketedRandomProjectionLSHExample.scala\n",
            "spark-3.0.0-preview2-bin-hadoop2.7/examples/src/main/scala/org/apache/spark/examples/ml/GradientBoostedTreeClassifierExample.scala\n",
            "spark-3.0.0-preview2-bin-hadoop2.7/examples/src/main/scala/org/apache/spark/examples/ml/VectorSlicerExample.scala\n",
            "spark-3.0.0-preview2-bin-hadoop2.7/examples/src/main/scala/org/apache/spark/examples/ml/BinarizerExample.scala\n",
            "spark-3.0.0-preview2-bin-hadoop2.7/examples/src/main/scala/org/apache/spark/examples/ml/OneHotEncoderExample.scala\n",
            "spark-3.0.0-preview2-bin-hadoop2.7/examples/src/main/scala/org/apache/spark/examples/ml/InteractionExample.scala\n",
            "spark-3.0.0-preview2-bin-hadoop2.7/examples/src/main/scala/org/apache/spark/examples/ml/IsotonicRegressionExample.scala\n",
            "spark-3.0.0-preview2-bin-hadoop2.7/examples/src/main/scala/org/apache/spark/examples/ml/SQLTransformerExample.scala\n",
            "spark-3.0.0-preview2-bin-hadoop2.7/examples/src/main/scala/org/apache/spark/examples/ml/NaiveBayesExample.scala\n",
            "spark-3.0.0-preview2-bin-hadoop2.7/examples/src/main/scala/org/apache/spark/examples/ml/PipelineExample.scala\n",
            "spark-3.0.0-preview2-bin-hadoop2.7/examples/src/main/scala/org/apache/spark/examples/ml/TokenizerExample.scala\n",
            "spark-3.0.0-preview2-bin-hadoop2.7/examples/src/main/scala/org/apache/spark/examples/ml/ALSExample.scala\n",
            "spark-3.0.0-preview2-bin-hadoop2.7/examples/src/main/scala/org/apache/spark/examples/ml/KMeansExample.scala\n",
            "spark-3.0.0-preview2-bin-hadoop2.7/examples/src/main/scala/org/apache/spark/examples/ml/MulticlassLogisticRegressionWithElasticNetExample.scala\n",
            "spark-3.0.0-preview2-bin-hadoop2.7/examples/src/main/scala/org/apache/spark/examples/ml/OneVsRestExample.scala\n",
            "spark-3.0.0-preview2-bin-hadoop2.7/examples/src/main/scala/org/apache/spark/examples/ml/DataFrameExample.scala\n",
            "spark-3.0.0-preview2-bin-hadoop2.7/examples/src/main/scala/org/apache/spark/examples/ml/AFTSurvivalRegressionExample.scala\n",
            "spark-3.0.0-preview2-bin-hadoop2.7/examples/src/main/scala/org/apache/spark/examples/ml/RandomForestClassifierExample.scala\n",
            "spark-3.0.0-preview2-bin-hadoop2.7/examples/src/main/scala/org/apache/spark/examples/ml/VectorIndexerExample.scala\n",
            "spark-3.0.0-preview2-bin-hadoop2.7/examples/src/main/scala/org/apache/spark/examples/ml/EstimatorTransformerParamExample.scala\n",
            "spark-3.0.0-preview2-bin-hadoop2.7/examples/src/main/scala/org/apache/spark/examples/ml/ElementwiseProductExample.scala\n",
            "spark-3.0.0-preview2-bin-hadoop2.7/examples/src/main/scala/org/apache/spark/examples/ml/DecisionTreeClassificationExample.scala\n",
            "spark-3.0.0-preview2-bin-hadoop2.7/examples/src/main/scala/org/apache/spark/examples/ml/FPGrowthExample.scala\n",
            "spark-3.0.0-preview2-bin-hadoop2.7/examples/src/main/scala/org/apache/spark/examples/ml/RandomForestExample.scala\n",
            "spark-3.0.0-preview2-bin-hadoop2.7/examples/src/main/scala/org/apache/spark/examples/ml/GaussianMixtureExample.scala\n",
            "spark-3.0.0-preview2-bin-hadoop2.7/examples/src/main/scala/org/apache/spark/examples/ml/LogisticRegressionExample.scala\n",
            "spark-3.0.0-preview2-bin-hadoop2.7/examples/src/main/scala/org/apache/spark/examples/ml/LinearSVCExample.scala\n",
            "spark-3.0.0-preview2-bin-hadoop2.7/examples/src/main/scala/org/apache/spark/examples/ml/NGramExample.scala\n",
            "spark-3.0.0-preview2-bin-hadoop2.7/examples/src/main/scala/org/apache/spark/examples/ml/VectorSizeHintExample.scala\n",
            "spark-3.0.0-preview2-bin-hadoop2.7/examples/src/main/scala/org/apache/spark/examples/ml/LogisticRegressionWithElasticNetExample.scala\n",
            "spark-3.0.0-preview2-bin-hadoop2.7/examples/src/main/scala/org/apache/spark/examples/ml/UnaryTransformerExample.scala\n",
            "spark-3.0.0-preview2-bin-hadoop2.7/examples/src/main/scala/org/apache/spark/examples/ml/DeveloperApiExample.scala\n",
            "spark-3.0.0-preview2-bin-hadoop2.7/examples/src/main/scala/org/apache/spark/examples/ml/QuantileDiscretizerExample.scala\n",
            "spark-3.0.0-preview2-bin-hadoop2.7/examples/src/main/scala/org/apache/spark/examples/ml/LinearRegressionExample.scala\n",
            "spark-3.0.0-preview2-bin-hadoop2.7/examples/src/main/scala/org/apache/spark/examples/ml/RobustScalerExample.scala\n",
            "spark-3.0.0-preview2-bin-hadoop2.7/examples/src/main/scala/org/apache/spark/examples/ml/ChiSqSelectorExample.scala\n",
            "spark-3.0.0-preview2-bin-hadoop2.7/examples/src/main/scala/org/apache/spark/examples/ml/MinMaxScalerExample.scala\n",
            "spark-3.0.0-preview2-bin-hadoop2.7/examples/src/main/scala/org/apache/spark/examples/ml/MaxAbsScalerExample.scala\n",
            "spark-3.0.0-preview2-bin-hadoop2.7/examples/src/main/scala/org/apache/spark/examples/ml/TfIdfExample.scala\n",
            "spark-3.0.0-preview2-bin-hadoop2.7/examples/src/main/scala/org/apache/spark/examples/ml/GradientBoostedTreeRegressorExample.scala\n",
            "spark-3.0.0-preview2-bin-hadoop2.7/examples/src/main/scala/org/apache/spark/examples/ml/GeneralizedLinearRegressionExample.scala\n",
            "spark-3.0.0-preview2-bin-hadoop2.7/examples/src/main/scala/org/apache/spark/examples/ml/ModelSelectionViaTrainValidationSplitExample.scala\n",
            "spark-3.0.0-preview2-bin-hadoop2.7/examples/src/main/scala/org/apache/spark/examples/ml/CorrelationExample.scala\n",
            "spark-3.0.0-preview2-bin-hadoop2.7/examples/src/main/scala/org/apache/spark/examples/ml/DecisionTreeRegressionExample.scala\n",
            "spark-3.0.0-preview2-bin-hadoop2.7/examples/src/main/scala/org/apache/spark/examples/ml/IndexToStringExample.scala\n",
            "spark-3.0.0-preview2-bin-hadoop2.7/examples/src/main/scala/org/apache/spark/examples/ml/LinearRegressionWithElasticNetExample.scala\n",
            "spark-3.0.0-preview2-bin-hadoop2.7/examples/src/main/scala/org/apache/spark/examples/ml/DecisionTreeExample.scala\n",
            "spark-3.0.0-preview2-bin-hadoop2.7/examples/src/main/scala/org/apache/spark/examples/streaming/\n",
            "spark-3.0.0-preview2-bin-hadoop2.7/examples/src/main/scala/org/apache/spark/examples/streaming/SqlNetworkWordCount.scala\n",
            "spark-3.0.0-preview2-bin-hadoop2.7/examples/src/main/scala/org/apache/spark/examples/streaming/StreamingExamples.scala\n",
            "spark-3.0.0-preview2-bin-hadoop2.7/examples/src/main/scala/org/apache/spark/examples/streaming/QueueStream.scala\n",
            "spark-3.0.0-preview2-bin-hadoop2.7/examples/src/main/scala/org/apache/spark/examples/streaming/HdfsWordCount.scala\n",
            "spark-3.0.0-preview2-bin-hadoop2.7/examples/src/main/scala/org/apache/spark/examples/streaming/clickstream/\n",
            "spark-3.0.0-preview2-bin-hadoop2.7/examples/src/main/scala/org/apache/spark/examples/streaming/clickstream/PageViewStream.scala\n",
            "spark-3.0.0-preview2-bin-hadoop2.7/examples/src/main/scala/org/apache/spark/examples/streaming/clickstream/PageViewGenerator.scala\n",
            "spark-3.0.0-preview2-bin-hadoop2.7/examples/src/main/scala/org/apache/spark/examples/streaming/RecoverableNetworkWordCount.scala\n",
            "spark-3.0.0-preview2-bin-hadoop2.7/examples/src/main/scala/org/apache/spark/examples/streaming/CustomReceiver.scala\n",
            "spark-3.0.0-preview2-bin-hadoop2.7/examples/src/main/scala/org/apache/spark/examples/streaming/RawNetworkGrep.scala\n",
            "spark-3.0.0-preview2-bin-hadoop2.7/examples/src/main/scala/org/apache/spark/examples/streaming/DirectKafkaWordCount.scala\n",
            "spark-3.0.0-preview2-bin-hadoop2.7/examples/src/main/scala/org/apache/spark/examples/streaming/StatefulNetworkWordCount.scala\n",
            "spark-3.0.0-preview2-bin-hadoop2.7/examples/src/main/scala/org/apache/spark/examples/streaming/NetworkWordCount.scala\n",
            "spark-3.0.0-preview2-bin-hadoop2.7/examples/src/main/scala/org/apache/spark/examples/streaming/DirectKerberizedKafkaWordCount.scala\n",
            "spark-3.0.0-preview2-bin-hadoop2.7/examples/src/main/scala/org/apache/spark/examples/DriverSubmissionTest.scala\n",
            "spark-3.0.0-preview2-bin-hadoop2.7/examples/src/main/scala/org/apache/spark/examples/DFSReadWriteTest.scala\n",
            "spark-3.0.0-preview2-bin-hadoop2.7/examples/src/main/scala/org/apache/spark/examples/LocalFileLR.scala\n",
            "spark-3.0.0-preview2-bin-hadoop2.7/examples/src/main/scala/org/apache/spark/examples/MultiBroadcastTest.scala\n",
            "spark-3.0.0-preview2-bin-hadoop2.7/examples/src/main/scala/org/apache/spark/examples/SkewedGroupByTest.scala\n",
            "spark-3.0.0-preview2-bin-hadoop2.7/examples/src/main/scala/org/apache/spark/examples/AccumulatorMetricsTest.scala\n",
            "spark-3.0.0-preview2-bin-hadoop2.7/examples/src/main/scala/org/apache/spark/examples/SparkTC.scala\n",
            "spark-3.0.0-preview2-bin-hadoop2.7/examples/src/main/scala/org/apache/spark/examples/LogQuery.scala\n",
            "spark-3.0.0-preview2-bin-hadoop2.7/examples/src/main/scala/org/apache/spark/examples/SparkPageRank.scala\n",
            "spark-3.0.0-preview2-bin-hadoop2.7/examples/src/main/scala/org/apache/spark/examples/SparkPi.scala\n",
            "spark-3.0.0-preview2-bin-hadoop2.7/examples/src/main/scala/org/apache/spark/examples/LocalKMeans.scala\n",
            "spark-3.0.0-preview2-bin-hadoop2.7/examples/src/main/scala/org/apache/spark/examples/BroadcastTest.scala\n",
            "spark-3.0.0-preview2-bin-hadoop2.7/examples/src/main/scala/org/apache/spark/examples/LocalLR.scala\n",
            "spark-3.0.0-preview2-bin-hadoop2.7/examples/src/main/scala/org/apache/spark/examples/LocalPi.scala\n",
            "spark-3.0.0-preview2-bin-hadoop2.7/examples/src/main/scala/org/apache/spark/examples/sql/\n",
            "spark-3.0.0-preview2-bin-hadoop2.7/examples/src/main/scala/org/apache/spark/examples/sql/streaming/\n",
            "spark-3.0.0-preview2-bin-hadoop2.7/examples/src/main/scala/org/apache/spark/examples/sql/streaming/StructuredKafkaWordCount.scala\n",
            "spark-3.0.0-preview2-bin-hadoop2.7/examples/src/main/scala/org/apache/spark/examples/sql/streaming/StructuredSessionization.scala\n",
            "spark-3.0.0-preview2-bin-hadoop2.7/examples/src/main/scala/org/apache/spark/examples/sql/streaming/StructuredNetworkWordCount.scala\n",
            "spark-3.0.0-preview2-bin-hadoop2.7/examples/src/main/scala/org/apache/spark/examples/sql/streaming/StructuredNetworkWordCountWindowed.scala\n",
            "spark-3.0.0-preview2-bin-hadoop2.7/examples/src/main/scala/org/apache/spark/examples/sql/streaming/StructuredKerberizedKafkaWordCount.scala\n",
            "spark-3.0.0-preview2-bin-hadoop2.7/examples/src/main/scala/org/apache/spark/examples/sql/UserDefinedTypedAggregation.scala\n",
            "spark-3.0.0-preview2-bin-hadoop2.7/examples/src/main/scala/org/apache/spark/examples/sql/RDDRelation.scala\n",
            "spark-3.0.0-preview2-bin-hadoop2.7/examples/src/main/scala/org/apache/spark/examples/sql/SparkSQLExample.scala\n",
            "spark-3.0.0-preview2-bin-hadoop2.7/examples/src/main/scala/org/apache/spark/examples/sql/SQLDataSourceExample.scala\n",
            "spark-3.0.0-preview2-bin-hadoop2.7/examples/src/main/scala/org/apache/spark/examples/sql/hive/\n",
            "spark-3.0.0-preview2-bin-hadoop2.7/examples/src/main/scala/org/apache/spark/examples/sql/hive/SparkHiveExample.scala\n",
            "spark-3.0.0-preview2-bin-hadoop2.7/examples/src/main/scala/org/apache/spark/examples/sql/UserDefinedUntypedAggregation.scala\n",
            "spark-3.0.0-preview2-bin-hadoop2.7/examples/src/main/scala/org/apache/spark/examples/sql/SimpleTypedAggregator.scala\n",
            "spark-3.0.0-preview2-bin-hadoop2.7/examples/src/main/scala/org/apache/spark/examples/SparkHdfsLR.scala\n",
            "spark-3.0.0-preview2-bin-hadoop2.7/examples/src/main/scala/org/apache/spark/examples/mllib/\n",
            "spark-3.0.0-preview2-bin-hadoop2.7/examples/src/main/scala/org/apache/spark/examples/mllib/LDAExample.scala\n",
            "spark-3.0.0-preview2-bin-hadoop2.7/examples/src/main/scala/org/apache/spark/examples/mllib/BisectingKMeansExample.scala\n",
            "spark-3.0.0-preview2-bin-hadoop2.7/examples/src/main/scala/org/apache/spark/examples/mllib/TallSkinnySVD.scala\n",
            "spark-3.0.0-preview2-bin-hadoop2.7/examples/src/main/scala/org/apache/spark/examples/mllib/SampledRDDs.scala\n",
            "spark-3.0.0-preview2-bin-hadoop2.7/examples/src/main/scala/org/apache/spark/examples/mllib/RandomRDDGeneration.scala\n",
            "spark-3.0.0-preview2-bin-hadoop2.7/examples/src/main/scala/org/apache/spark/examples/mllib/NormalizerExample.scala\n",
            "spark-3.0.0-preview2-bin-hadoop2.7/examples/src/main/scala/org/apache/spark/examples/mllib/GradientBoostingClassificationExample.scala\n",
            "spark-3.0.0-preview2-bin-hadoop2.7/examples/src/main/scala/org/apache/spark/examples/mllib/PowerIterationClusteringExample.scala\n",
            "spark-3.0.0-preview2-bin-hadoop2.7/examples/src/main/scala/org/apache/spark/examples/mllib/StreamingTestExample.scala\n",
            "spark-3.0.0-preview2-bin-hadoop2.7/examples/src/main/scala/org/apache/spark/examples/mllib/MultiLabelMetricsExample.scala\n",
            "spark-3.0.0-preview2-bin-hadoop2.7/examples/src/main/scala/org/apache/spark/examples/mllib/LogisticRegressionWithLBFGSExample.scala\n",
            "spark-3.0.0-preview2-bin-hadoop2.7/examples/src/main/scala/org/apache/spark/examples/mllib/MultivariateSummarizer.scala\n",
            "spark-3.0.0-preview2-bin-hadoop2.7/examples/src/main/scala/org/apache/spark/examples/mllib/LBFGSExample.scala\n",
            "spark-3.0.0-preview2-bin-hadoop2.7/examples/src/main/scala/org/apache/spark/examples/mllib/TFIDFExample.scala\n",
            "spark-3.0.0-preview2-bin-hadoop2.7/examples/src/main/scala/org/apache/spark/examples/mllib/RandomForestRegressionExample.scala\n",
            "spark-3.0.0-preview2-bin-hadoop2.7/examples/src/main/scala/org/apache/spark/examples/mllib/PCAOnSourceVectorExample.scala\n",
            "spark-3.0.0-preview2-bin-hadoop2.7/examples/src/main/scala/org/apache/spark/examples/mllib/SVDExample.scala\n",
            "spark-3.0.0-preview2-bin-hadoop2.7/examples/src/main/scala/org/apache/spark/examples/mllib/PrefixSpanExample.scala\n",
            "spark-3.0.0-preview2-bin-hadoop2.7/examples/src/main/scala/org/apache/spark/examples/mllib/RandomForestClassificationExample.scala\n",
            "spark-3.0.0-preview2-bin-hadoop2.7/examples/src/main/scala/org/apache/spark/examples/mllib/Word2VecExample.scala\n",
            "spark-3.0.0-preview2-bin-hadoop2.7/examples/src/main/scala/org/apache/spark/examples/mllib/StandardScalerExample.scala\n",
            "spark-3.0.0-preview2-bin-hadoop2.7/examples/src/main/scala/org/apache/spark/examples/mllib/MulticlassMetricsExample.scala\n",
            "spark-3.0.0-preview2-bin-hadoop2.7/examples/src/main/scala/org/apache/spark/examples/mllib/GradientBoostingRegressionExample.scala\n",
            "spark-3.0.0-preview2-bin-hadoop2.7/examples/src/main/scala/org/apache/spark/examples/mllib/BinaryClassification.scala\n",
            "spark-3.0.0-preview2-bin-hadoop2.7/examples/src/main/scala/org/apache/spark/examples/mllib/BinaryClassificationMetricsExample.scala\n",
            "spark-3.0.0-preview2-bin-hadoop2.7/examples/src/main/scala/org/apache/spark/examples/mllib/IsotonicRegressionExample.scala\n",
            "spark-3.0.0-preview2-bin-hadoop2.7/examples/src/main/scala/org/apache/spark/examples/mllib/PMMLModelExportExample.scala\n",
            "spark-3.0.0-preview2-bin-hadoop2.7/examples/src/main/scala/org/apache/spark/examples/mllib/CosineSimilarity.scala\n",
            "spark-3.0.0-preview2-bin-hadoop2.7/examples/src/main/scala/org/apache/spark/examples/mllib/DenseKMeans.scala\n",
            "spark-3.0.0-preview2-bin-hadoop2.7/examples/src/main/scala/org/apache/spark/examples/mllib/NaiveBayesExample.scala\n",
            "spark-3.0.0-preview2-bin-hadoop2.7/examples/src/main/scala/org/apache/spark/examples/mllib/TallSkinnyPCA.scala\n",
            "spark-3.0.0-preview2-bin-hadoop2.7/examples/src/main/scala/org/apache/spark/examples/mllib/KMeansExample.scala\n",
            "spark-3.0.0-preview2-bin-hadoop2.7/examples/src/main/scala/org/apache/spark/examples/mllib/StreamingLinearRegressionExample.scala\n",
            "spark-3.0.0-preview2-bin-hadoop2.7/examples/src/main/scala/org/apache/spark/examples/mllib/RankingMetricsExample.scala\n",
            "spark-3.0.0-preview2-bin-hadoop2.7/examples/src/main/scala/org/apache/spark/examples/mllib/HypothesisTestingExample.scala\n",
            "spark-3.0.0-preview2-bin-hadoop2.7/examples/src/main/scala/org/apache/spark/examples/mllib/GradientBoostedTreesRunner.scala\n",
            "spark-3.0.0-preview2-bin-hadoop2.7/examples/src/main/scala/org/apache/spark/examples/mllib/HypothesisTestingKolmogorovSmirnovTestExample.scala\n",
            "spark-3.0.0-preview2-bin-hadoop2.7/examples/src/main/scala/org/apache/spark/examples/mllib/SimpleFPGrowth.scala\n",
            "spark-3.0.0-preview2-bin-hadoop2.7/examples/src/main/scala/org/apache/spark/examples/mllib/AbstractParams.scala\n",
            "spark-3.0.0-preview2-bin-hadoop2.7/examples/src/main/scala/org/apache/spark/examples/mllib/SVMWithSGDExample.scala\n",
            "spark-3.0.0-preview2-bin-hadoop2.7/examples/src/main/scala/org/apache/spark/examples/mllib/ElementwiseProductExample.scala\n",
            "spark-3.0.0-preview2-bin-hadoop2.7/examples/src/main/scala/org/apache/spark/examples/mllib/DecisionTreeClassificationExample.scala\n",
            "spark-3.0.0-preview2-bin-hadoop2.7/examples/src/main/scala/org/apache/spark/examples/mllib/FPGrowthExample.scala\n",
            "spark-3.0.0-preview2-bin-hadoop2.7/examples/src/main/scala/org/apache/spark/examples/mllib/GaussianMixtureExample.scala\n",
            "spark-3.0.0-preview2-bin-hadoop2.7/examples/src/main/scala/org/apache/spark/examples/mllib/StreamingLogisticRegression.scala\n",
            "spark-3.0.0-preview2-bin-hadoop2.7/examples/src/main/scala/org/apache/spark/examples/mllib/RecommendationExample.scala\n",
            "spark-3.0.0-preview2-bin-hadoop2.7/examples/src/main/scala/org/apache/spark/examples/mllib/ChiSqSelectorExample.scala\n",
            "spark-3.0.0-preview2-bin-hadoop2.7/examples/src/main/scala/org/apache/spark/examples/mllib/SummaryStatisticsExample.scala\n",
            "spark-3.0.0-preview2-bin-hadoop2.7/examples/src/main/scala/org/apache/spark/examples/mllib/SparseNaiveBayes.scala\n",
            "spark-3.0.0-preview2-bin-hadoop2.7/examples/src/main/scala/org/apache/spark/examples/mllib/MovieLensALS.scala\n",
            "spark-3.0.0-preview2-bin-hadoop2.7/examples/src/main/scala/org/apache/spark/examples/mllib/PCAOnRowMatrixExample.scala\n",
            "spark-3.0.0-preview2-bin-hadoop2.7/examples/src/main/scala/org/apache/spark/examples/mllib/Correlations.scala\n",
            "spark-3.0.0-preview2-bin-hadoop2.7/examples/src/main/scala/org/apache/spark/examples/mllib/CorrelationsExample.scala\n",
            "spark-3.0.0-preview2-bin-hadoop2.7/examples/src/main/scala/org/apache/spark/examples/mllib/StreamingKMeansExample.scala\n",
            "spark-3.0.0-preview2-bin-hadoop2.7/examples/src/main/scala/org/apache/spark/examples/mllib/AssociationRulesExample.scala\n",
            "spark-3.0.0-preview2-bin-hadoop2.7/examples/src/main/scala/org/apache/spark/examples/mllib/StratifiedSamplingExample.scala\n",
            "spark-3.0.0-preview2-bin-hadoop2.7/examples/src/main/scala/org/apache/spark/examples/mllib/KernelDensityEstimationExample.scala\n",
            "spark-3.0.0-preview2-bin-hadoop2.7/examples/src/main/scala/org/apache/spark/examples/mllib/DecisionTreeRunner.scala\n",
            "spark-3.0.0-preview2-bin-hadoop2.7/examples/src/main/scala/org/apache/spark/examples/mllib/DecisionTreeRegressionExample.scala\n",
            "spark-3.0.0-preview2-bin-hadoop2.7/examples/src/main/scala/org/apache/spark/examples/mllib/LatentDirichletAllocationExample.scala\n",
            "spark-3.0.0-preview2-bin-hadoop2.7/examples/src/main/scala/org/apache/spark/examples/GroupByTest.scala\n",
            "spark-3.0.0-preview2-bin-hadoop2.7/examples/src/main/scala/org/apache/spark/examples/pythonconverters/\n",
            "spark-3.0.0-preview2-bin-hadoop2.7/examples/src/main/scala/org/apache/spark/examples/pythonconverters/AvroConverters.scala\n",
            "spark-3.0.0-preview2-bin-hadoop2.7/examples/src/main/scala/org/apache/spark/examples/graphx/\n",
            "spark-3.0.0-preview2-bin-hadoop2.7/examples/src/main/scala/org/apache/spark/examples/graphx/LiveJournalPageRank.scala\n",
            "spark-3.0.0-preview2-bin-hadoop2.7/examples/src/main/scala/org/apache/spark/examples/graphx/Analytics.scala\n",
            "spark-3.0.0-preview2-bin-hadoop2.7/examples/src/main/scala/org/apache/spark/examples/graphx/ConnectedComponentsExample.scala\n",
            "spark-3.0.0-preview2-bin-hadoop2.7/examples/src/main/scala/org/apache/spark/examples/graphx/AggregateMessagesExample.scala\n",
            "spark-3.0.0-preview2-bin-hadoop2.7/examples/src/main/scala/org/apache/spark/examples/graphx/SynthBenchmark.scala\n",
            "spark-3.0.0-preview2-bin-hadoop2.7/examples/src/main/scala/org/apache/spark/examples/graphx/PageRankExample.scala\n",
            "spark-3.0.0-preview2-bin-hadoop2.7/examples/src/main/scala/org/apache/spark/examples/graphx/SSSPExample.scala\n",
            "spark-3.0.0-preview2-bin-hadoop2.7/examples/src/main/scala/org/apache/spark/examples/graphx/TriangleCountingExample.scala\n",
            "spark-3.0.0-preview2-bin-hadoop2.7/examples/src/main/scala/org/apache/spark/examples/graphx/ComprehensiveExample.scala\n",
            "spark-3.0.0-preview2-bin-hadoop2.7/examples/src/main/scala/org/apache/spark/examples/SparkKMeans.scala\n",
            "spark-3.0.0-preview2-bin-hadoop2.7/examples/src/main/scala/org/apache/spark/examples/LocalALS.scala\n",
            "spark-3.0.0-preview2-bin-hadoop2.7/examples/src/main/scala/org/apache/spark/examples/SparkALS.scala\n",
            "spark-3.0.0-preview2-bin-hadoop2.7/examples/src/main/scala/org/apache/spark/examples/SimpleSkewedGroupByTest.scala\n",
            "spark-3.0.0-preview2-bin-hadoop2.7/examples/src/main/scala/org/apache/spark/examples/ExceptionHandlingTest.scala\n",
            "spark-3.0.0-preview2-bin-hadoop2.7/examples/src/main/scala/org/apache/spark/examples/HdfsTest.scala\n",
            "spark-3.0.0-preview2-bin-hadoop2.7/examples/src/main/scala/org/apache/spark/examples/SparkLR.scala\n",
            "spark-3.0.0-preview2-bin-hadoop2.7/examples/src/main/r/\n",
            "spark-3.0.0-preview2-bin-hadoop2.7/examples/src/main/r/ml/\n",
            "spark-3.0.0-preview2-bin-hadoop2.7/examples/src/main/r/ml/bisectingKmeans.R\n",
            "spark-3.0.0-preview2-bin-hadoop2.7/examples/src/main/r/ml/fpm.R\n",
            "spark-3.0.0-preview2-bin-hadoop2.7/examples/src/main/r/ml/isoreg.R\n",
            "spark-3.0.0-preview2-bin-hadoop2.7/examples/src/main/r/ml/decisionTree.R\n",
            "spark-3.0.0-preview2-bin-hadoop2.7/examples/src/main/r/ml/powerIterationClustering.R\n",
            "spark-3.0.0-preview2-bin-hadoop2.7/examples/src/main/r/ml/naiveBayes.R\n",
            "spark-3.0.0-preview2-bin-hadoop2.7/examples/src/main/r/ml/prefixSpan.R\n",
            "spark-3.0.0-preview2-bin-hadoop2.7/examples/src/main/r/ml/gaussianMixture.R\n",
            "spark-3.0.0-preview2-bin-hadoop2.7/examples/src/main/r/ml/kmeans.R\n",
            "spark-3.0.0-preview2-bin-hadoop2.7/examples/src/main/r/ml/glm.R\n",
            "spark-3.0.0-preview2-bin-hadoop2.7/examples/src/main/r/ml/mlp.R\n",
            "spark-3.0.0-preview2-bin-hadoop2.7/examples/src/main/r/ml/lda.R\n",
            "spark-3.0.0-preview2-bin-hadoop2.7/examples/src/main/r/ml/survreg.R\n",
            "spark-3.0.0-preview2-bin-hadoop2.7/examples/src/main/r/ml/ml.R\n",
            "spark-3.0.0-preview2-bin-hadoop2.7/examples/src/main/r/ml/gbt.R\n",
            "spark-3.0.0-preview2-bin-hadoop2.7/examples/src/main/r/ml/svmLinear.R\n",
            "spark-3.0.0-preview2-bin-hadoop2.7/examples/src/main/r/ml/als.R\n",
            "spark-3.0.0-preview2-bin-hadoop2.7/examples/src/main/r/ml/logit.R\n",
            "spark-3.0.0-preview2-bin-hadoop2.7/examples/src/main/r/ml/kstest.R\n",
            "spark-3.0.0-preview2-bin-hadoop2.7/examples/src/main/r/ml/randomForest.R\n",
            "spark-3.0.0-preview2-bin-hadoop2.7/examples/src/main/r/streaming/\n",
            "spark-3.0.0-preview2-bin-hadoop2.7/examples/src/main/r/streaming/structured_network_wordcount.R\n",
            "spark-3.0.0-preview2-bin-hadoop2.7/examples/src/main/r/data-manipulation.R\n",
            "spark-3.0.0-preview2-bin-hadoop2.7/examples/src/main/r/dataframe.R\n",
            "spark-3.0.0-preview2-bin-hadoop2.7/examples/src/main/r/RSparkSQLExample.R\n",
            "spark-3.0.0-preview2-bin-hadoop2.7/conf/\n",
            "spark-3.0.0-preview2-bin-hadoop2.7/conf/slaves.template\n",
            "spark-3.0.0-preview2-bin-hadoop2.7/conf/spark-env.sh.template\n",
            "spark-3.0.0-preview2-bin-hadoop2.7/conf/log4j.properties.template\n",
            "spark-3.0.0-preview2-bin-hadoop2.7/conf/spark-defaults.conf.template\n",
            "spark-3.0.0-preview2-bin-hadoop2.7/conf/fairscheduler.xml.template\n",
            "spark-3.0.0-preview2-bin-hadoop2.7/conf/metrics.properties.template\n",
            "spark-3.0.0-preview2-bin-hadoop2.7/jars/\n",
            "spark-3.0.0-preview2-bin-hadoop2.7/jars/datanucleus-core-4.1.17.jar\n",
            "spark-3.0.0-preview2-bin-hadoop2.7/jars/jpam-1.1.jar\n",
            "spark-3.0.0-preview2-bin-hadoop2.7/jars/guice-servlet-3.0.jar\n",
            "spark-3.0.0-preview2-bin-hadoop2.7/jars/hive-shims-0.23-2.3.6.jar\n",
            "spark-3.0.0-preview2-bin-hadoop2.7/jars/okapi-shade-0.4.2.jar\n",
            "spark-3.0.0-preview2-bin-hadoop2.7/jars/httpclient-4.5.6.jar\n",
            "spark-3.0.0-preview2-bin-hadoop2.7/jars/jaxb-api-2.2.2.jar\n",
            "spark-3.0.0-preview2-bin-hadoop2.7/jars/avro-1.8.2.jar\n",
            "spark-3.0.0-preview2-bin-hadoop2.7/jars/hadoop-mapreduce-client-app-2.7.4.jar\n",
            "spark-3.0.0-preview2-bin-hadoop2.7/jars/jsr305-3.0.0.jar\n",
            "spark-3.0.0-preview2-bin-hadoop2.7/jars/slf4j-api-1.7.16.jar\n",
            "spark-3.0.0-preview2-bin-hadoop2.7/jars/JTransforms-3.1.jar\n",
            "spark-3.0.0-preview2-bin-hadoop2.7/jars/orc-core-1.5.8.jar\n",
            "spark-3.0.0-preview2-bin-hadoop2.7/jars/spark-mllib-local_2.12-3.0.0-preview2.jar\n",
            "spark-3.0.0-preview2-bin-hadoop2.7/jars/jersey-server-2.29.1.jar\n",
            "spark-3.0.0-preview2-bin-hadoop2.7/jars/scala-library-2.12.10.jar\n",
            "spark-3.0.0-preview2-bin-hadoop2.7/jars/jackson-dataformat-yaml-2.10.0.jar\n",
            "spark-3.0.0-preview2-bin-hadoop2.7/jars/parquet-common-1.10.1.jar\n",
            "spark-3.0.0-preview2-bin-hadoop2.7/jars/zstd-jni-1.4.4-3.jar\n",
            "spark-3.0.0-preview2-bin-hadoop2.7/jars/hive-serde-2.3.6.jar\n",
            "spark-3.0.0-preview2-bin-hadoop2.7/jars/ST4-4.0.4.jar\n",
            "spark-3.0.0-preview2-bin-hadoop2.7/jars/libthrift-0.12.0.jar\n",
            "spark-3.0.0-preview2-bin-hadoop2.7/jars/spark-hive-thriftserver_2.12-3.0.0-preview2.jar\n",
            "spark-3.0.0-preview2-bin-hadoop2.7/jars/hive-shims-scheduler-2.3.6.jar\n",
            "spark-3.0.0-preview2-bin-hadoop2.7/jars/javassist-3.22.0-CR2.jar\n",
            "spark-3.0.0-preview2-bin-hadoop2.7/jars/stax-api-1.0.1.jar\n",
            "spark-3.0.0-preview2-bin-hadoop2.7/jars/json4s-ast_2.12-3.6.6.jar\n",
            "spark-3.0.0-preview2-bin-hadoop2.7/jars/snappy-java-1.1.7.3.jar\n",
            "spark-3.0.0-preview2-bin-hadoop2.7/jars/spark-graph_2.12-3.0.0-preview2.jar\n",
            "spark-3.0.0-preview2-bin-hadoop2.7/jars/hive-common-2.3.6.jar\n",
            "spark-3.0.0-preview2-bin-hadoop2.7/jars/pyrolite-4.30.jar\n",
            "spark-3.0.0-preview2-bin-hadoop2.7/jars/metrics-json-4.1.1.jar\n",
            "spark-3.0.0-preview2-bin-hadoop2.7/jars/hive-exec-2.3.6-core.jar\n",
            "spark-3.0.0-preview2-bin-hadoop2.7/jars/super-csv-2.2.0.jar\n",
            "spark-3.0.0-preview2-bin-hadoop2.7/jars/json4s-scalap_2.12-3.6.6.jar\n",
            "spark-3.0.0-preview2-bin-hadoop2.7/jars/jackson-databind-2.10.0.jar\n",
            "spark-3.0.0-preview2-bin-hadoop2.7/jars/log4j-1.2.17.jar\n",
            "spark-3.0.0-preview2-bin-hadoop2.7/jars/javolution-5.5.1.jar\n",
            "spark-3.0.0-preview2-bin-hadoop2.7/jars/spire_2.12-0.17.0-M1.jar\n",
            "spark-3.0.0-preview2-bin-hadoop2.7/jars/spark-graphx_2.12-3.0.0-preview2.jar\n",
            "spark-3.0.0-preview2-bin-hadoop2.7/jars/zookeeper-3.4.14.jar\n",
            "spark-3.0.0-preview2-bin-hadoop2.7/jars/velocity-1.5.jar\n",
            "spark-3.0.0-preview2-bin-hadoop2.7/jars/jetty-sslengine-6.1.26.jar\n",
            "spark-3.0.0-preview2-bin-hadoop2.7/jars/spark-tags_2.12-3.0.0-preview2-tests.jar\n",
            "spark-3.0.0-preview2-bin-hadoop2.7/jars/jakarta.activation-api-1.2.1.jar\n",
            "spark-3.0.0-preview2-bin-hadoop2.7/jars/spark-core_2.12-3.0.0-preview2.jar\n",
            "spark-3.0.0-preview2-bin-hadoop2.7/jars/scala-parser-combinators_2.12-1.1.2.jar\n",
            "spark-3.0.0-preview2-bin-hadoop2.7/jars/paranamer-2.8.jar\n",
            "spark-3.0.0-preview2-bin-hadoop2.7/jars/jackson-jaxrs-1.9.13.jar\n",
            "spark-3.0.0-preview2-bin-hadoop2.7/jars/api-util-1.0.0-M20.jar\n",
            "spark-3.0.0-preview2-bin-hadoop2.7/jars/spark-unsafe_2.12-3.0.0-preview2.jar\n",
            "spark-3.0.0-preview2-bin-hadoop2.7/jars/commons-lang-2.6.jar\n",
            "spark-3.0.0-preview2-bin-hadoop2.7/jars/spark-kubernetes_2.12-3.0.0-preview2.jar\n",
            "spark-3.0.0-preview2-bin-hadoop2.7/jars/joda-time-2.10.5.jar\n",
            "spark-3.0.0-preview2-bin-hadoop2.7/jars/jackson-module-paranamer-2.10.0.jar\n",
            "spark-3.0.0-preview2-bin-hadoop2.7/jars/mesos-1.4.0-shaded-protobuf.jar\n",
            "spark-3.0.0-preview2-bin-hadoop2.7/jars/breeze_2.12-1.0.jar\n",
            "spark-3.0.0-preview2-bin-hadoop2.7/jars/spark-sql_2.12-3.0.0-preview2.jar\n",
            "spark-3.0.0-preview2-bin-hadoop2.7/jars/metrics-jvm-4.1.1.jar\n",
            "spark-3.0.0-preview2-bin-hadoop2.7/jars/jersey-media-jaxb-2.29.1.jar\n",
            "spark-3.0.0-preview2-bin-hadoop2.7/jars/activation-1.1.1.jar\n",
            "spark-3.0.0-preview2-bin-hadoop2.7/jars/spark-hive_2.12-3.0.0-preview2.jar\n",
            "spark-3.0.0-preview2-bin-hadoop2.7/jars/jersey-hk2-2.29.1.jar\n",
            "spark-3.0.0-preview2-bin-hadoop2.7/jars/commons-net-3.1.jar\n",
            "spark-3.0.0-preview2-bin-hadoop2.7/jars/xmlenc-0.52.jar\n",
            "spark-3.0.0-preview2-bin-hadoop2.7/jars/spark-mesos_2.12-3.0.0-preview2.jar\n",
            "spark-3.0.0-preview2-bin-hadoop2.7/jars/avro-mapred-1.8.2-hadoop2.jar\n",
            "spark-3.0.0-preview2-bin-hadoop2.7/jars/transaction-api-1.1.jar\n",
            "spark-3.0.0-preview2-bin-hadoop2.7/jars/spark-yarn_2.12-3.0.0-preview2.jar\n",
            "spark-3.0.0-preview2-bin-hadoop2.7/jars/scala-collection-compat_2.12-2.1.1.jar\n",
            "spark-3.0.0-preview2-bin-hadoop2.7/jars/metrics-core-4.1.1.jar\n",
            "spark-3.0.0-preview2-bin-hadoop2.7/jars/protobuf-java-2.5.0.jar\n",
            "spark-3.0.0-preview2-bin-hadoop2.7/jars/py4j-0.10.8.1.jar\n",
            "spark-3.0.0-preview2-bin-hadoop2.7/jars/commons-compress-1.8.1.jar\n",
            "spark-3.0.0-preview2-bin-hadoop2.7/jars/curator-recipes-2.7.1.jar\n",
            "spark-3.0.0-preview2-bin-hadoop2.7/jars/kubernetes-client-4.6.4.jar\n",
            "spark-3.0.0-preview2-bin-hadoop2.7/jars/spark-sketch_2.12-3.0.0-preview2.jar\n",
            "spark-3.0.0-preview2-bin-hadoop2.7/jars/zjsonpatch-0.3.0.jar\n",
            "spark-3.0.0-preview2-bin-hadoop2.7/jars/kubernetes-model-common-4.6.4.jar\n",
            "spark-3.0.0-preview2-bin-hadoop2.7/jars/spire-macros_2.12-0.17.0-M1.jar\n",
            "spark-3.0.0-preview2-bin-hadoop2.7/jars/spark-mllib_2.12-3.0.0-preview2.jar\n",
            "spark-3.0.0-preview2-bin-hadoop2.7/jars/commons-compiler-3.0.15.jar\n",
            "spark-3.0.0-preview2-bin-hadoop2.7/jars/univocity-parsers-2.8.3.jar\n",
            "spark-3.0.0-preview2-bin-hadoop2.7/jars/json4s-jackson_2.12-3.6.6.jar\n",
            "spark-3.0.0-preview2-bin-hadoop2.7/jars/arrow-vector-0.15.1.jar\n",
            "spark-3.0.0-preview2-bin-hadoop2.7/jars/spark-catalyst_2.12-3.0.0-preview2.jar\n",
            "spark-3.0.0-preview2-bin-hadoop2.7/jars/okhttp-3.12.6.jar\n",
            "spark-3.0.0-preview2-bin-hadoop2.7/jars/jersey-container-servlet-2.29.1.jar\n",
            "spark-3.0.0-preview2-bin-hadoop2.7/jars/aopalliance-1.0.jar\n",
            "spark-3.0.0-preview2-bin-hadoop2.7/jars/hk2-locator-2.6.1.jar\n",
            "spark-3.0.0-preview2-bin-hadoop2.7/jars/jta-1.1.jar\n",
            "spark-3.0.0-preview2-bin-hadoop2.7/jars/commons-crypto-1.0.0.jar\n",
            "spark-3.0.0-preview2-bin-hadoop2.7/jars/hadoop-client-2.7.4.jar\n",
            "spark-3.0.0-preview2-bin-hadoop2.7/jars/cats-kernel_2.12-2.0.0-M4.jar\n",
            "spark-3.0.0-preview2-bin-hadoop2.7/jars/jetty-util-6.1.26.jar\n",
            "spark-3.0.0-preview2-bin-hadoop2.7/jars/spire-platform_2.12-0.17.0-M1.jar\n",
            "spark-3.0.0-preview2-bin-hadoop2.7/jars/jcl-over-slf4j-1.7.16.jar\n",
            "spark-3.0.0-preview2-bin-hadoop2.7/jars/hadoop-yarn-server-web-proxy-2.7.4.jar\n",
            "spark-3.0.0-preview2-bin-hadoop2.7/jars/jaxb-runtime-2.3.2.jar\n",
            "spark-3.0.0-preview2-bin-hadoop2.7/jars/jetty-6.1.26.jar\n",
            "spark-3.0.0-preview2-bin-hadoop2.7/jars/hadoop-mapreduce-client-common-2.7.4.jar\n",
            "spark-3.0.0-preview2-bin-hadoop2.7/jars/json-1.8.jar\n",
            "spark-3.0.0-preview2-bin-hadoop2.7/jars/dropwizard-metrics-hadoop-metrics2-reporter-0.1.2.jar\n",
            "spark-3.0.0-preview2-bin-hadoop2.7/jars/osgi-resource-locator-1.0.3.jar\n",
            "spark-3.0.0-preview2-bin-hadoop2.7/jars/hk2-utils-2.6.1.jar\n",
            "spark-3.0.0-preview2-bin-hadoop2.7/jars/hadoop-yarn-common-2.7.4.jar\n",
            "spark-3.0.0-preview2-bin-hadoop2.7/jars/algebra_2.12-2.0.0-M2.jar\n",
            "spark-3.0.0-preview2-bin-hadoop2.7/jars/jackson-core-asl-1.9.13.jar\n",
            "spark-3.0.0-preview2-bin-hadoop2.7/jars/json4s-core_2.12-3.6.6.jar\n",
            "spark-3.0.0-preview2-bin-hadoop2.7/jars/parquet-hadoop-1.10.1.jar\n",
            "spark-3.0.0-preview2-bin-hadoop2.7/jars/jersey-common-2.29.1.jar\n",
            "spark-3.0.0-preview2-bin-hadoop2.7/jars/chill-java-0.9.3.jar\n",
            "spark-3.0.0-preview2-bin-hadoop2.7/jars/guice-3.0.jar\n",
            "spark-3.0.0-preview2-bin-hadoop2.7/jars/stax-api-1.0-2.jar\n",
            "spark-3.0.0-preview2-bin-hadoop2.7/jars/hadoop-yarn-api-2.7.4.jar\n",
            "spark-3.0.0-preview2-bin-hadoop2.7/jars/minlog-1.3.0.jar\n",
            "spark-3.0.0-preview2-bin-hadoop2.7/jars/shims-0.7.45.jar\n",
            "spark-3.0.0-preview2-bin-hadoop2.7/jars/hadoop-mapreduce-client-jobclient-2.7.4.jar\n",
            "spark-3.0.0-preview2-bin-hadoop2.7/jars/commons-cli-1.2.jar\n",
            "spark-3.0.0-preview2-bin-hadoop2.7/jars/jackson-module-jaxb-annotations-2.10.0.jar\n",
            "spark-3.0.0-preview2-bin-hadoop2.7/jars/jackson-xc-1.9.13.jar\n",
            "spark-3.0.0-preview2-bin-hadoop2.7/jars/logging-interceptor-3.12.6.jar\n",
            "spark-3.0.0-preview2-bin-hadoop2.7/jars/curator-framework-2.7.1.jar\n",
            "spark-3.0.0-preview2-bin-hadoop2.7/jars/scala-reflect-2.12.10.jar\n",
            "spark-3.0.0-preview2-bin-hadoop2.7/jars/scala-xml_2.12-1.2.0.jar\n",
            "spark-3.0.0-preview2-bin-hadoop2.7/jars/api-asn1-api-1.0.0-M20.jar\n",
            "spark-3.0.0-preview2-bin-hadoop2.7/jars/hadoop-auth-2.7.4.jar\n",
            "spark-3.0.0-preview2-bin-hadoop2.7/jars/flatbuffers-java-1.9.0.jar\n",
            "spark-3.0.0-preview2-bin-hadoop2.7/jars/commons-configuration-1.6.jar\n",
            "spark-3.0.0-preview2-bin-hadoop2.7/jars/jackson-core-2.10.0.jar\n",
            "spark-3.0.0-preview2-bin-hadoop2.7/jars/HikariCP-2.5.1.jar\n",
            "spark-3.0.0-preview2-bin-hadoop2.7/jars/libfb303-0.9.3.jar\n",
            "spark-3.0.0-preview2-bin-hadoop2.7/jars/audience-annotations-0.5.0.jar\n",
            "spark-3.0.0-preview2-bin-hadoop2.7/jars/objenesis-2.5.1.jar\n",
            "spark-3.0.0-preview2-bin-hadoop2.7/jars/arrow-memory-0.15.1.jar\n",
            "spark-3.0.0-preview2-bin-hadoop2.7/jars/jakarta.validation-api-2.0.2.jar\n",
            "spark-3.0.0-preview2-bin-hadoop2.7/jars/spark-network-common_2.12-3.0.0-preview2.jar\n",
            "spark-3.0.0-preview2-bin-hadoop2.7/jars/commons-io-2.4.jar\n",
            "spark-3.0.0-preview2-bin-hadoop2.7/jars/hk2-api-2.6.1.jar\n",
            "spark-3.0.0-preview2-bin-hadoop2.7/jars/breeze-macros_2.12-1.0.jar\n",
            "spark-3.0.0-preview2-bin-hadoop2.7/jars/hive-vector-code-gen-2.3.6.jar\n",
            "spark-3.0.0-preview2-bin-hadoop2.7/jars/hive-cli-2.3.6.jar\n",
            "spark-3.0.0-preview2-bin-hadoop2.7/jars/aopalliance-repackaged-2.6.1.jar\n",
            "spark-3.0.0-preview2-bin-hadoop2.7/jars/hadoop-yarn-client-2.7.4.jar\n",
            "spark-3.0.0-preview2-bin-hadoop2.7/jars/jackson-mapper-asl-1.9.13.jar\n",
            "spark-3.0.0-preview2-bin-hadoop2.7/jars/commons-collections-3.2.2.jar\n",
            "spark-3.0.0-preview2-bin-hadoop2.7/jars/commons-digester-1.8.jar\n",
            "spark-3.0.0-preview2-bin-hadoop2.7/jars/hive-service-rpc-2.3.6.jar\n",
            "spark-3.0.0-preview2-bin-hadoop2.7/jars/hadoop-hdfs-2.7.4.jar\n",
            "spark-3.0.0-preview2-bin-hadoop2.7/jars/ivy-2.4.0.jar\n",
            "spark-3.0.0-preview2-bin-hadoop2.7/jars/hadoop-annotations-2.7.4.jar\n",
            "spark-3.0.0-preview2-bin-hadoop2.7/jars/istack-commons-runtime-3.0.8.jar\n",
            "spark-3.0.0-preview2-bin-hadoop2.7/jars/netty-all-4.1.42.Final.jar\n",
            "spark-3.0.0-preview2-bin-hadoop2.7/jars/spire-util_2.12-0.17.0-M1.jar\n",
            "spark-3.0.0-preview2-bin-hadoop2.7/jars/compress-lzf-1.0.3.jar\n",
            "spark-3.0.0-preview2-bin-hadoop2.7/jars/RoaringBitmap-0.7.45.jar\n",
            "spark-3.0.0-preview2-bin-hadoop2.7/jars/javax.jdo-3.2.0-m3.jar\n",
            "spark-3.0.0-preview2-bin-hadoop2.7/jars/hive-metastore-2.3.6.jar\n",
            "spark-3.0.0-preview2-bin-hadoop2.7/jars/jul-to-slf4j-1.7.16.jar\n",
            "spark-3.0.0-preview2-bin-hadoop2.7/jars/hadoop-common-2.7.4.jar\n",
            "spark-3.0.0-preview2-bin-hadoop2.7/jars/spark-tags_2.12-3.0.0-preview2.jar\n",
            "spark-3.0.0-preview2-bin-hadoop2.7/jars/spark-graph-api_2.12-3.0.0-preview2.jar\n",
            "spark-3.0.0-preview2-bin-hadoop2.7/jars/parquet-format-2.4.0.jar\n",
            "spark-3.0.0-preview2-bin-hadoop2.7/jars/httpcore-4.4.12.jar\n",
            "spark-3.0.0-preview2-bin-hadoop2.7/jars/parquet-column-1.10.1.jar\n",
            "spark-3.0.0-preview2-bin-hadoop2.7/jars/hadoop-mapreduce-client-shuffle-2.7.4.jar\n",
            "spark-3.0.0-preview2-bin-hadoop2.7/jars/kubernetes-model-4.6.4.jar\n",
            "spark-3.0.0-preview2-bin-hadoop2.7/jars/slf4j-log4j12-1.7.16.jar\n",
            "spark-3.0.0-preview2-bin-hadoop2.7/jars/kryo-shaded-4.0.2.jar\n",
            "spark-3.0.0-preview2-bin-hadoop2.7/jars/antlr-runtime-3.5.2.jar\n",
            "spark-3.0.0-preview2-bin-hadoop2.7/jars/xercesImpl-2.9.1.jar\n",
            "spark-3.0.0-preview2-bin-hadoop2.7/jars/metrics-jmx-4.1.1.jar\n",
            "spark-3.0.0-preview2-bin-hadoop2.7/jars/machinist_2.12-0.6.8.jar\n",
            "spark-3.0.0-preview2-bin-hadoop2.7/jars/hive-llap-common-2.3.6.jar\n",
            "spark-3.0.0-preview2-bin-hadoop2.7/jars/okio-1.15.0.jar\n",
            "spark-3.0.0-preview2-bin-hadoop2.7/jars/derby-10.12.1.1.jar\n",
            "spark-3.0.0-preview2-bin-hadoop2.7/jars/jakarta.xml.bind-api-2.3.2.jar\n",
            "spark-3.0.0-preview2-bin-hadoop2.7/jars/spark-repl_2.12-3.0.0-preview2.jar\n",
            "spark-3.0.0-preview2-bin-hadoop2.7/jars/jackson-module-scala_2.12-2.10.0.jar\n",
            "spark-3.0.0-preview2-bin-hadoop2.7/jars/bonecp-0.8.0.RELEASE.jar\n",
            "spark-3.0.0-preview2-bin-hadoop2.7/jars/curator-client-2.7.1.jar\n",
            "spark-3.0.0-preview2-bin-hadoop2.7/jars/snakeyaml-1.24.jar\n",
            "spark-3.0.0-preview2-bin-hadoop2.7/jars/jersey-container-servlet-core-2.29.1.jar\n",
            "spark-3.0.0-preview2-bin-hadoop2.7/jars/macro-compat_2.12-1.1.1.jar\n",
            "spark-3.0.0-preview2-bin-hadoop2.7/jars/commons-math3-3.4.1.jar\n",
            "spark-3.0.0-preview2-bin-hadoop2.7/jars/oro-2.0.8.jar\n",
            "spark-3.0.0-preview2-bin-hadoop2.7/jars/lz4-java-1.7.0.jar\n",
            "spark-3.0.0-preview2-bin-hadoop2.7/jars/orc-mapreduce-1.5.8.jar\n",
            "spark-3.0.0-preview2-bin-hadoop2.7/jars/jackson-annotations-2.10.0.jar\n",
            "spark-3.0.0-preview2-bin-hadoop2.7/jars/chill_2.12-0.9.3.jar\n",
            "spark-3.0.0-preview2-bin-hadoop2.7/jars/jersey-client-2.29.1.jar\n",
            "spark-3.0.0-preview2-bin-hadoop2.7/jars/opencsv-2.3.jar\n",
            "spark-3.0.0-preview2-bin-hadoop2.7/jars/spark-kvstore_2.12-3.0.0-preview2.jar\n",
            "spark-3.0.0-preview2-bin-hadoop2.7/jars/scala-compiler-2.12.10.jar\n",
            "spark-3.0.0-preview2-bin-hadoop2.7/jars/metrics-graphite-4.1.1.jar\n",
            "spark-3.0.0-preview2-bin-hadoop2.7/jars/apacheds-kerberos-codec-2.0.0-M15.jar\n",
            "spark-3.0.0-preview2-bin-hadoop2.7/jars/arrow-format-0.15.1.jar\n",
            "spark-3.0.0-preview2-bin-hadoop2.7/jars/parquet-jackson-1.10.1.jar\n",
            "spark-3.0.0-preview2-bin-hadoop2.7/jars/generex-1.0.2.jar\n",
            "spark-3.0.0-preview2-bin-hadoop2.7/jars/spark-streaming_2.12-3.0.0-preview2.jar\n",
            "spark-3.0.0-preview2-bin-hadoop2.7/jars/parquet-encoding-1.10.1.jar\n",
            "spark-3.0.0-preview2-bin-hadoop2.7/jars/commons-pool-1.5.4.jar\n",
            "spark-3.0.0-preview2-bin-hadoop2.7/jars/javax.servlet-api-3.1.0.jar\n",
            "spark-3.0.0-preview2-bin-hadoop2.7/jars/avro-ipc-1.8.2.jar\n",
            "spark-3.0.0-preview2-bin-hadoop2.7/jars/jakarta.ws.rs-api-2.1.6.jar\n",
            "spark-3.0.0-preview2-bin-hadoop2.7/jars/jsp-api-2.1.jar\n",
            "spark-3.0.0-preview2-bin-hadoop2.7/jars/jakarta.annotation-api-1.3.5.jar\n",
            "spark-3.0.0-preview2-bin-hadoop2.7/jars/stream-2.9.6.jar\n",
            "spark-3.0.0-preview2-bin-hadoop2.7/jars/javax.inject-1.jar\n",
            "spark-3.0.0-preview2-bin-hadoop2.7/jars/JLargeArrays-1.5.jar\n",
            "spark-3.0.0-preview2-bin-hadoop2.7/jars/xz-1.5.jar\n",
            "spark-3.0.0-preview2-bin-hadoop2.7/jars/datanucleus-api-jdo-4.2.4.jar\n",
            "spark-3.0.0-preview2-bin-hadoop2.7/jars/orc-shims-1.5.8.jar\n",
            "spark-3.0.0-preview2-bin-hadoop2.7/jars/core-1.1.2.jar\n",
            "spark-3.0.0-preview2-bin-hadoop2.7/jars/commons-codec-1.10.jar\n",
            "spark-3.0.0-preview2-bin-hadoop2.7/jars/commons-logging-1.1.3.jar\n",
            "spark-3.0.0-preview2-bin-hadoop2.7/jars/aircompressor-0.10.jar\n",
            "spark-3.0.0-preview2-bin-hadoop2.7/jars/shapeless_2.12-2.3.3.jar\n",
            "spark-3.0.0-preview2-bin-hadoop2.7/jars/hadoop-yarn-server-common-2.7.4.jar\n",
            "spark-3.0.0-preview2-bin-hadoop2.7/jars/jline-2.14.6.jar\n",
            "spark-3.0.0-preview2-bin-hadoop2.7/jars/leveldbjni-all-1.8.jar\n",
            "spark-3.0.0-preview2-bin-hadoop2.7/jars/hive-shims-2.3.6.jar\n",
            "spark-3.0.0-preview2-bin-hadoop2.7/jars/commons-lang3-3.9.jar\n",
            "spark-3.0.0-preview2-bin-hadoop2.7/jars/spark-network-shuffle_2.12-3.0.0-preview2.jar\n",
            "spark-3.0.0-preview2-bin-hadoop2.7/jars/xbean-asm7-shaded-4.15.jar\n",
            "spark-3.0.0-preview2-bin-hadoop2.7/jars/jdo-api-3.0.1.jar\n",
            "spark-3.0.0-preview2-bin-hadoop2.7/jars/spark-cypher_2.12-3.0.0-preview2.jar\n",
            "spark-3.0.0-preview2-bin-hadoop2.7/jars/hive-jdbc-2.3.6.jar\n",
            "spark-3.0.0-preview2-bin-hadoop2.7/jars/commons-dbcp-1.4.jar\n",
            "spark-3.0.0-preview2-bin-hadoop2.7/jars/gson-2.2.4.jar\n",
            "spark-3.0.0-preview2-bin-hadoop2.7/jars/arpack_combined_all-0.1.jar\n",
            "spark-3.0.0-preview2-bin-hadoop2.7/jars/janino-3.0.15.jar\n",
            "spark-3.0.0-preview2-bin-hadoop2.7/jars/hive-shims-common-2.3.6.jar\n",
            "spark-3.0.0-preview2-bin-hadoop2.7/jars/apacheds-i18n-2.0.0-M15.jar\n",
            "spark-3.0.0-preview2-bin-hadoop2.7/jars/jodd-core-3.5.2.jar\n",
            "spark-3.0.0-preview2-bin-hadoop2.7/jars/antlr4-runtime-4.7.1.jar\n",
            "spark-3.0.0-preview2-bin-hadoop2.7/jars/htrace-core-3.1.0-incubating.jar\n",
            "spark-3.0.0-preview2-bin-hadoop2.7/jars/datanucleus-rdbms-4.1.19.jar\n",
            "spark-3.0.0-preview2-bin-hadoop2.7/jars/hive-beeline-2.3.6.jar\n",
            "spark-3.0.0-preview2-bin-hadoop2.7/jars/jakarta.inject-2.6.1.jar\n",
            "spark-3.0.0-preview2-bin-hadoop2.7/jars/automaton-1.11-8.jar\n",
            "spark-3.0.0-preview2-bin-hadoop2.7/jars/spark-launcher_2.12-3.0.0-preview2.jar\n",
            "spark-3.0.0-preview2-bin-hadoop2.7/jars/guava-14.0.1.jar\n",
            "spark-3.0.0-preview2-bin-hadoop2.7/jars/commons-text-1.6.jar\n",
            "spark-3.0.0-preview2-bin-hadoop2.7/jars/hadoop-mapreduce-client-core-2.7.4.jar\n",
            "spark-3.0.0-preview2-bin-hadoop2.7/jars/hive-storage-api-2.6.0.jar\n",
            "spark-3.0.0-preview2-bin-hadoop2.7/jars/commons-beanutils-1.9.4.jar\n",
            "spark-3.0.0-preview2-bin-hadoop2.7/jars/commons-httpclient-3.1.jar\n",
            "spark-3.0.0-preview2-bin-hadoop2.7/NOTICE\n",
            "spark-3.0.0-preview2-bin-hadoop2.7/python/\n",
            "spark-3.0.0-preview2-bin-hadoop2.7/python/.gitignore\n",
            "spark-3.0.0-preview2-bin-hadoop2.7/python/pyspark/\n",
            "spark-3.0.0-preview2-bin-hadoop2.7/python/pyspark/heapq3.py\n",
            "spark-3.0.0-preview2-bin-hadoop2.7/python/pyspark/ml/\n",
            "spark-3.0.0-preview2-bin-hadoop2.7/python/pyspark/ml/tuning.py\n",
            "spark-3.0.0-preview2-bin-hadoop2.7/python/pyspark/ml/clustering.py\n",
            "spark-3.0.0-preview2-bin-hadoop2.7/python/pyspark/ml/wrapper.py\n",
            "spark-3.0.0-preview2-bin-hadoop2.7/python/pyspark/ml/util.py\n",
            "spark-3.0.0-preview2-bin-hadoop2.7/python/pyspark/ml/tests/\n",
            "spark-3.0.0-preview2-bin-hadoop2.7/python/pyspark/ml/tests/test_stat.py\n",
            "spark-3.0.0-preview2-bin-hadoop2.7/python/pyspark/ml/tests/test_persistence.py\n",
            "spark-3.0.0-preview2-bin-hadoop2.7/python/pyspark/ml/tests/__init__.py\n",
            "spark-3.0.0-preview2-bin-hadoop2.7/python/pyspark/ml/tests/test_linalg.py\n",
            "spark-3.0.0-preview2-bin-hadoop2.7/python/pyspark/ml/tests/test_training_summary.py\n",
            "spark-3.0.0-preview2-bin-hadoop2.7/python/pyspark/ml/tests/test_param.py\n",
            "spark-3.0.0-preview2-bin-hadoop2.7/python/pyspark/ml/tests/test_feature.py\n",
            "spark-3.0.0-preview2-bin-hadoop2.7/python/pyspark/ml/tests/test_image.py\n",
            "spark-3.0.0-preview2-bin-hadoop2.7/python/pyspark/ml/tests/test_evaluation.py\n",
            "spark-3.0.0-preview2-bin-hadoop2.7/python/pyspark/ml/tests/test_wrapper.py\n",
            "spark-3.0.0-preview2-bin-hadoop2.7/python/pyspark/ml/tests/test_pipeline.py\n",
            "spark-3.0.0-preview2-bin-hadoop2.7/python/pyspark/ml/tests/test_base.py\n",
            "spark-3.0.0-preview2-bin-hadoop2.7/python/pyspark/ml/tests/test_algorithms.py\n",
            "spark-3.0.0-preview2-bin-hadoop2.7/python/pyspark/ml/tests/test_tuning.py\n",
            "spark-3.0.0-preview2-bin-hadoop2.7/python/pyspark/ml/tree.py\n",
            "spark-3.0.0-preview2-bin-hadoop2.7/python/pyspark/ml/fpm.py\n",
            "spark-3.0.0-preview2-bin-hadoop2.7/python/pyspark/ml/__init__.py\n",
            "spark-3.0.0-preview2-bin-hadoop2.7/python/pyspark/ml/linalg/\n",
            "spark-3.0.0-preview2-bin-hadoop2.7/python/pyspark/ml/linalg/__init__.py\n",
            "spark-3.0.0-preview2-bin-hadoop2.7/python/pyspark/ml/base.py\n",
            "spark-3.0.0-preview2-bin-hadoop2.7/python/pyspark/ml/common.py\n",
            "spark-3.0.0-preview2-bin-hadoop2.7/python/pyspark/ml/evaluation.py\n",
            "spark-3.0.0-preview2-bin-hadoop2.7/python/pyspark/ml/classification.py\n",
            "spark-3.0.0-preview2-bin-hadoop2.7/python/pyspark/ml/param/\n",
            "spark-3.0.0-preview2-bin-hadoop2.7/python/pyspark/ml/param/shared.py\n",
            "spark-3.0.0-preview2-bin-hadoop2.7/python/pyspark/ml/param/__init__.py\n",
            "spark-3.0.0-preview2-bin-hadoop2.7/python/pyspark/ml/param/_shared_params_code_gen.py\n",
            "spark-3.0.0-preview2-bin-hadoop2.7/python/pyspark/ml/feature.py\n",
            "spark-3.0.0-preview2-bin-hadoop2.7/python/pyspark/ml/image.py\n",
            "spark-3.0.0-preview2-bin-hadoop2.7/python/pyspark/ml/pipeline.py\n",
            "spark-3.0.0-preview2-bin-hadoop2.7/python/pyspark/ml/recommendation.py\n",
            "spark-3.0.0-preview2-bin-hadoop2.7/python/pyspark/ml/stat.py\n",
            "spark-3.0.0-preview2-bin-hadoop2.7/python/pyspark/ml/regression.py\n",
            "spark-3.0.0-preview2-bin-hadoop2.7/python/pyspark/shuffle.py\n",
            "spark-3.0.0-preview2-bin-hadoop2.7/python/pyspark/streaming/\n",
            "spark-3.0.0-preview2-bin-hadoop2.7/python/pyspark/streaming/util.py\n",
            "spark-3.0.0-preview2-bin-hadoop2.7/python/pyspark/streaming/context.py\n",
            "spark-3.0.0-preview2-bin-hadoop2.7/python/pyspark/streaming/tests/\n",
            "spark-3.0.0-preview2-bin-hadoop2.7/python/pyspark/streaming/tests/test_dstream.py\n",
            "spark-3.0.0-preview2-bin-hadoop2.7/python/pyspark/streaming/tests/__init__.py\n",
            "spark-3.0.0-preview2-bin-hadoop2.7/python/pyspark/streaming/tests/test_context.py\n",
            "spark-3.0.0-preview2-bin-hadoop2.7/python/pyspark/streaming/tests/test_kinesis.py\n",
            "spark-3.0.0-preview2-bin-hadoop2.7/python/pyspark/streaming/tests/test_listener.py\n",
            "spark-3.0.0-preview2-bin-hadoop2.7/python/pyspark/streaming/kinesis.py\n",
            "spark-3.0.0-preview2-bin-hadoop2.7/python/pyspark/streaming/dstream.py\n",
            "spark-3.0.0-preview2-bin-hadoop2.7/python/pyspark/streaming/__init__.py\n",
            "spark-3.0.0-preview2-bin-hadoop2.7/python/pyspark/streaming/listener.py\n",
            "spark-3.0.0-preview2-bin-hadoop2.7/python/pyspark/util.py\n",
            "spark-3.0.0-preview2-bin-hadoop2.7/python/pyspark/rddsampler.py\n",
            "spark-3.0.0-preview2-bin-hadoop2.7/python/pyspark/context.py\n",
            "spark-3.0.0-preview2-bin-hadoop2.7/python/pyspark/rdd.py\n",
            "spark-3.0.0-preview2-bin-hadoop2.7/python/pyspark/tests/\n",
            "spark-3.0.0-preview2-bin-hadoop2.7/python/pyspark/tests/test_serializers.py\n",
            "spark-3.0.0-preview2-bin-hadoop2.7/python/pyspark/tests/test_profiler.py\n",
            "spark-3.0.0-preview2-bin-hadoop2.7/python/pyspark/tests/test_pin_thread.py\n",
            "spark-3.0.0-preview2-bin-hadoop2.7/python/pyspark/tests/test_util.py\n",
            "spark-3.0.0-preview2-bin-hadoop2.7/python/pyspark/tests/__init__.py\n",
            "spark-3.0.0-preview2-bin-hadoop2.7/python/pyspark/tests/test_join.py\n",
            "spark-3.0.0-preview2-bin-hadoop2.7/python/pyspark/tests/test_taskcontext.py\n",
            "spark-3.0.0-preview2-bin-hadoop2.7/python/pyspark/tests/test_rdd.py\n",
            "spark-3.0.0-preview2-bin-hadoop2.7/python/pyspark/tests/test_appsubmit.py\n",
            "spark-3.0.0-preview2-bin-hadoop2.7/python/pyspark/tests/test_context.py\n",
            "spark-3.0.0-preview2-bin-hadoop2.7/python/pyspark/tests/test_broadcast.py\n",
            "spark-3.0.0-preview2-bin-hadoop2.7/python/pyspark/tests/test_rddbarrier.py\n",
            "spark-3.0.0-preview2-bin-hadoop2.7/python/pyspark/tests/test_readwrite.py\n",
            "spark-3.0.0-preview2-bin-hadoop2.7/python/pyspark/tests/test_daemon.py\n",
            "spark-3.0.0-preview2-bin-hadoop2.7/python/pyspark/tests/test_worker.py\n",
            "spark-3.0.0-preview2-bin-hadoop2.7/python/pyspark/tests/test_conf.py\n",
            "spark-3.0.0-preview2-bin-hadoop2.7/python/pyspark/tests/test_shuffle.py\n",
            "spark-3.0.0-preview2-bin-hadoop2.7/python/pyspark/_globals.py\n",
            "spark-3.0.0-preview2-bin-hadoop2.7/python/pyspark/resultiterable.py\n",
            "spark-3.0.0-preview2-bin-hadoop2.7/python/pyspark/__init__.py\n",
            "spark-3.0.0-preview2-bin-hadoop2.7/python/pyspark/resourceinformation.py\n",
            "spark-3.0.0-preview2-bin-hadoop2.7/python/pyspark/find_spark_home.py\n",
            "spark-3.0.0-preview2-bin-hadoop2.7/python/pyspark/version.py\n",
            "spark-3.0.0-preview2-bin-hadoop2.7/python/pyspark/profiler.py\n",
            "spark-3.0.0-preview2-bin-hadoop2.7/python/pyspark/cloudpickle.py\n",
            "spark-3.0.0-preview2-bin-hadoop2.7/python/pyspark/statcounter.py\n",
            "spark-3.0.0-preview2-bin-hadoop2.7/python/pyspark/status.py\n",
            "spark-3.0.0-preview2-bin-hadoop2.7/python/pyspark/python/\n",
            "spark-3.0.0-preview2-bin-hadoop2.7/python/pyspark/python/pyspark/\n",
            "spark-3.0.0-preview2-bin-hadoop2.7/python/pyspark/python/pyspark/shell.py\n",
            "spark-3.0.0-preview2-bin-hadoop2.7/python/pyspark/sql/\n",
            "spark-3.0.0-preview2-bin-hadoop2.7/python/pyspark/sql/context.py\n",
            "spark-3.0.0-preview2-bin-hadoop2.7/python/pyspark/sql/functions.py\n",
            "spark-3.0.0-preview2-bin-hadoop2.7/python/pyspark/sql/tests/\n",
            "spark-3.0.0-preview2-bin-hadoop2.7/python/pyspark/sql/tests/test_udf.py\n",
            "spark-3.0.0-preview2-bin-hadoop2.7/python/pyspark/sql/tests/test_pandas_udf_cogrouped_map.py\n",
            "spark-3.0.0-preview2-bin-hadoop2.7/python/pyspark/sql/tests/test_pandas_udf_window.py\n",
            "spark-3.0.0-preview2-bin-hadoop2.7/python/pyspark/sql/tests/__init__.py\n",
            "spark-3.0.0-preview2-bin-hadoop2.7/python/pyspark/sql/tests/test_arrow.py\n",
            "spark-3.0.0-preview2-bin-hadoop2.7/python/pyspark/sql/tests/test_dataframe.py\n",
            "spark-3.0.0-preview2-bin-hadoop2.7/python/pyspark/sql/tests/test_functions.py\n",
            "spark-3.0.0-preview2-bin-hadoop2.7/python/pyspark/sql/tests/test_pandas_udf.py\n",
            "spark-3.0.0-preview2-bin-hadoop2.7/python/pyspark/sql/tests/test_pandas_udf_iter.py\n",
            "spark-3.0.0-preview2-bin-hadoop2.7/python/pyspark/sql/tests/test_context.py\n",
            "spark-3.0.0-preview2-bin-hadoop2.7/python/pyspark/sql/tests/test_group.py\n",
            "spark-3.0.0-preview2-bin-hadoop2.7/python/pyspark/sql/tests/test_datasources.py\n",
            "spark-3.0.0-preview2-bin-hadoop2.7/python/pyspark/sql/tests/test_catalog.py\n",
            "spark-3.0.0-preview2-bin-hadoop2.7/python/pyspark/sql/tests/test_serde.py\n",
            "spark-3.0.0-preview2-bin-hadoop2.7/python/pyspark/sql/tests/test_readwriter.py\n",
            "spark-3.0.0-preview2-bin-hadoop2.7/python/pyspark/sql/tests/test_pandas_udf_scalar.py\n",
            "spark-3.0.0-preview2-bin-hadoop2.7/python/pyspark/sql/tests/test_types.py\n",
            "spark-3.0.0-preview2-bin-hadoop2.7/python/pyspark/sql/tests/test_streaming.py\n",
            "spark-3.0.0-preview2-bin-hadoop2.7/python/pyspark/sql/tests/test_conf.py\n",
            "spark-3.0.0-preview2-bin-hadoop2.7/python/pyspark/sql/tests/test_utils.py\n",
            "spark-3.0.0-preview2-bin-hadoop2.7/python/pyspark/sql/tests/test_pandas_udf_grouped_agg.py\n",
            "spark-3.0.0-preview2-bin-hadoop2.7/python/pyspark/sql/tests/test_session.py\n",
            "spark-3.0.0-preview2-bin-hadoop2.7/python/pyspark/sql/tests/test_column.py\n",
            "spark-3.0.0-preview2-bin-hadoop2.7/python/pyspark/sql/tests/test_pandas_udf_grouped_map.py\n",
            "spark-3.0.0-preview2-bin-hadoop2.7/python/pyspark/sql/dataframe.py\n",
            "spark-3.0.0-preview2-bin-hadoop2.7/python/pyspark/sql/group.py\n",
            "spark-3.0.0-preview2-bin-hadoop2.7/python/pyspark/sql/utils.py\n",
            "spark-3.0.0-preview2-bin-hadoop2.7/python/pyspark/sql/__init__.py\n",
            "spark-3.0.0-preview2-bin-hadoop2.7/python/pyspark/sql/types.py\n",
            "spark-3.0.0-preview2-bin-hadoop2.7/python/pyspark/sql/catalog.py\n",
            "spark-3.0.0-preview2-bin-hadoop2.7/python/pyspark/sql/streaming.py\n",
            "spark-3.0.0-preview2-bin-hadoop2.7/python/pyspark/sql/window.py\n",
            "spark-3.0.0-preview2-bin-hadoop2.7/python/pyspark/sql/avro/\n",
            "spark-3.0.0-preview2-bin-hadoop2.7/python/pyspark/sql/avro/functions.py\n",
            "spark-3.0.0-preview2-bin-hadoop2.7/python/pyspark/sql/avro/__init__.py\n",
            "spark-3.0.0-preview2-bin-hadoop2.7/python/pyspark/sql/readwriter.py\n",
            "spark-3.0.0-preview2-bin-hadoop2.7/python/pyspark/sql/conf.py\n",
            "spark-3.0.0-preview2-bin-hadoop2.7/python/pyspark/sql/column.py\n",
            "spark-3.0.0-preview2-bin-hadoop2.7/python/pyspark/sql/udf.py\n",
            "spark-3.0.0-preview2-bin-hadoop2.7/python/pyspark/sql/session.py\n",
            "spark-3.0.0-preview2-bin-hadoop2.7/python/pyspark/sql/cogroup.py\n",
            "spark-3.0.0-preview2-bin-hadoop2.7/python/pyspark/mllib/\n",
            "spark-3.0.0-preview2-bin-hadoop2.7/python/pyspark/mllib/clustering.py\n",
            "spark-3.0.0-preview2-bin-hadoop2.7/python/pyspark/mllib/util.py\n",
            "spark-3.0.0-preview2-bin-hadoop2.7/python/pyspark/mllib/tests/\n",
            "spark-3.0.0-preview2-bin-hadoop2.7/python/pyspark/mllib/tests/test_stat.py\n",
            "spark-3.0.0-preview2-bin-hadoop2.7/python/pyspark/mllib/tests/test_util.py\n",
            "spark-3.0.0-preview2-bin-hadoop2.7/python/pyspark/mllib/tests/__init__.py\n",
            "spark-3.0.0-preview2-bin-hadoop2.7/python/pyspark/mllib/tests/test_linalg.py\n",
            "spark-3.0.0-preview2-bin-hadoop2.7/python/pyspark/mllib/tests/test_feature.py\n",
            "spark-3.0.0-preview2-bin-hadoop2.7/python/pyspark/mllib/tests/test_streaming_algorithms.py\n",
            "spark-3.0.0-preview2-bin-hadoop2.7/python/pyspark/mllib/tests/test_algorithms.py\n",
            "spark-3.0.0-preview2-bin-hadoop2.7/python/pyspark/mllib/tree.py\n",
            "spark-3.0.0-preview2-bin-hadoop2.7/python/pyspark/mllib/fpm.py\n",
            "spark-3.0.0-preview2-bin-hadoop2.7/python/pyspark/mllib/__init__.py\n",
            "spark-3.0.0-preview2-bin-hadoop2.7/python/pyspark/mllib/linalg/\n",
            "spark-3.0.0-preview2-bin-hadoop2.7/python/pyspark/mllib/linalg/__init__.py\n",
            "spark-3.0.0-preview2-bin-hadoop2.7/python/pyspark/mllib/linalg/distributed.py\n",
            "spark-3.0.0-preview2-bin-hadoop2.7/python/pyspark/mllib/common.py\n",
            "spark-3.0.0-preview2-bin-hadoop2.7/python/pyspark/mllib/random.py\n",
            "spark-3.0.0-preview2-bin-hadoop2.7/python/pyspark/mllib/evaluation.py\n",
            "spark-3.0.0-preview2-bin-hadoop2.7/python/pyspark/mllib/classification.py\n",
            "spark-3.0.0-preview2-bin-hadoop2.7/python/pyspark/mllib/feature.py\n",
            "spark-3.0.0-preview2-bin-hadoop2.7/python/pyspark/mllib/recommendation.py\n",
            "spark-3.0.0-preview2-bin-hadoop2.7/python/pyspark/mllib/stat/\n",
            "spark-3.0.0-preview2-bin-hadoop2.7/python/pyspark/mllib/stat/KernelDensity.py\n",
            "spark-3.0.0-preview2-bin-hadoop2.7/python/pyspark/mllib/stat/__init__.py\n",
            "spark-3.0.0-preview2-bin-hadoop2.7/python/pyspark/mllib/stat/test.py\n",
            "spark-3.0.0-preview2-bin-hadoop2.7/python/pyspark/mllib/stat/distribution.py\n",
            "spark-3.0.0-preview2-bin-hadoop2.7/python/pyspark/mllib/stat/_statistics.py\n",
            "spark-3.0.0-preview2-bin-hadoop2.7/python/pyspark/mllib/regression.py\n",
            "spark-3.0.0-preview2-bin-hadoop2.7/python/pyspark/taskcontext.py\n",
            "spark-3.0.0-preview2-bin-hadoop2.7/python/pyspark/serializers.py\n",
            "spark-3.0.0-preview2-bin-hadoop2.7/python/pyspark/conf.py\n",
            "spark-3.0.0-preview2-bin-hadoop2.7/python/pyspark/traceback_utils.py\n",
            "spark-3.0.0-preview2-bin-hadoop2.7/python/pyspark/storagelevel.py\n",
            "spark-3.0.0-preview2-bin-hadoop2.7/python/pyspark/worker.py\n",
            "spark-3.0.0-preview2-bin-hadoop2.7/python/pyspark/testing/\n",
            "spark-3.0.0-preview2-bin-hadoop2.7/python/pyspark/testing/sqlutils.py\n",
            "spark-3.0.0-preview2-bin-hadoop2.7/python/pyspark/testing/streamingutils.py\n",
            "spark-3.0.0-preview2-bin-hadoop2.7/python/pyspark/testing/utils.py\n",
            "spark-3.0.0-preview2-bin-hadoop2.7/python/pyspark/testing/__init__.py\n",
            "spark-3.0.0-preview2-bin-hadoop2.7/python/pyspark/testing/mlutils.py\n",
            "spark-3.0.0-preview2-bin-hadoop2.7/python/pyspark/testing/mllibutils.py\n",
            "spark-3.0.0-preview2-bin-hadoop2.7/python/pyspark/java_gateway.py\n",
            "spark-3.0.0-preview2-bin-hadoop2.7/python/pyspark/broadcast.py\n",
            "spark-3.0.0-preview2-bin-hadoop2.7/python/pyspark/join.py\n",
            "spark-3.0.0-preview2-bin-hadoop2.7/python/pyspark/files.py\n",
            "spark-3.0.0-preview2-bin-hadoop2.7/python/pyspark/accumulators.py\n",
            "spark-3.0.0-preview2-bin-hadoop2.7/python/pyspark/daemon.py\n",
            "spark-3.0.0-preview2-bin-hadoop2.7/python/pyspark/shell.py\n",
            "spark-3.0.0-preview2-bin-hadoop2.7/python/lib/\n",
            "spark-3.0.0-preview2-bin-hadoop2.7/python/lib/pyspark.zip\n",
            "spark-3.0.0-preview2-bin-hadoop2.7/python/lib/py4j-0.10.8.1-src.zip\n",
            "spark-3.0.0-preview2-bin-hadoop2.7/python/lib/PY4J_LICENSE.txt\n",
            "spark-3.0.0-preview2-bin-hadoop2.7/python/test_support/\n",
            "spark-3.0.0-preview2-bin-hadoop2.7/python/test_support/hello/\n",
            "spark-3.0.0-preview2-bin-hadoop2.7/python/test_support/hello/hello.txt\n",
            "spark-3.0.0-preview2-bin-hadoop2.7/python/test_support/hello/sub_hello/\n",
            "spark-3.0.0-preview2-bin-hadoop2.7/python/test_support/hello/sub_hello/sub_hello.txt\n",
            "spark-3.0.0-preview2-bin-hadoop2.7/python/test_support/userlib-0.1.zip\n",
            "spark-3.0.0-preview2-bin-hadoop2.7/python/test_support/sql/\n",
            "spark-3.0.0-preview2-bin-hadoop2.7/python/test_support/sql/streaming/\n",
            "spark-3.0.0-preview2-bin-hadoop2.7/python/test_support/sql/streaming/text-test.txt\n",
            "spark-3.0.0-preview2-bin-hadoop2.7/python/test_support/sql/people.json\n",
            "spark-3.0.0-preview2-bin-hadoop2.7/python/test_support/sql/people_array_utf16le.json\n",
            "spark-3.0.0-preview2-bin-hadoop2.7/python/test_support/sql/ages.csv\n",
            "spark-3.0.0-preview2-bin-hadoop2.7/python/test_support/sql/ages_newlines.csv\n",
            "spark-3.0.0-preview2-bin-hadoop2.7/python/test_support/sql/people1.json\n",
            "spark-3.0.0-preview2-bin-hadoop2.7/python/test_support/sql/people_array.json\n",
            "spark-3.0.0-preview2-bin-hadoop2.7/python/test_support/sql/text-test.txt\n",
            "spark-3.0.0-preview2-bin-hadoop2.7/python/test_support/sql/parquet_partitioned/\n",
            "spark-3.0.0-preview2-bin-hadoop2.7/python/test_support/sql/parquet_partitioned/_SUCCESS\n",
            "spark-3.0.0-preview2-bin-hadoop2.7/python/test_support/sql/parquet_partitioned/_metadata\n",
            "spark-3.0.0-preview2-bin-hadoop2.7/python/test_support/sql/parquet_partitioned/year=2014/\n",
            "spark-3.0.0-preview2-bin-hadoop2.7/python/test_support/sql/parquet_partitioned/year=2014/month=9/\n",
            "spark-3.0.0-preview2-bin-hadoop2.7/python/test_support/sql/parquet_partitioned/year=2014/month=9/day=1/\n",
            "spark-3.0.0-preview2-bin-hadoop2.7/python/test_support/sql/parquet_partitioned/year=2014/month=9/day=1/part-r-00008.gz.parquet\n",
            "spark-3.0.0-preview2-bin-hadoop2.7/python/test_support/sql/parquet_partitioned/year=2014/month=9/day=1/.part-r-00008.gz.parquet.crc\n",
            "spark-3.0.0-preview2-bin-hadoop2.7/python/test_support/sql/parquet_partitioned/_common_metadata\n",
            "spark-3.0.0-preview2-bin-hadoop2.7/python/test_support/sql/parquet_partitioned/year=2015/\n",
            "spark-3.0.0-preview2-bin-hadoop2.7/python/test_support/sql/parquet_partitioned/year=2015/month=10/\n",
            "spark-3.0.0-preview2-bin-hadoop2.7/python/test_support/sql/parquet_partitioned/year=2015/month=10/day=25/\n",
            "spark-3.0.0-preview2-bin-hadoop2.7/python/test_support/sql/parquet_partitioned/year=2015/month=10/day=25/part-r-00002.gz.parquet\n",
            "spark-3.0.0-preview2-bin-hadoop2.7/python/test_support/sql/parquet_partitioned/year=2015/month=10/day=25/part-r-00004.gz.parquet\n",
            "spark-3.0.0-preview2-bin-hadoop2.7/python/test_support/sql/parquet_partitioned/year=2015/month=10/day=25/.part-r-00004.gz.parquet.crc\n",
            "spark-3.0.0-preview2-bin-hadoop2.7/python/test_support/sql/parquet_partitioned/year=2015/month=10/day=25/.part-r-00002.gz.parquet.crc\n",
            "spark-3.0.0-preview2-bin-hadoop2.7/python/test_support/sql/parquet_partitioned/year=2015/month=10/day=26/\n",
            "spark-3.0.0-preview2-bin-hadoop2.7/python/test_support/sql/parquet_partitioned/year=2015/month=10/day=26/.part-r-00005.gz.parquet.crc\n",
            "spark-3.0.0-preview2-bin-hadoop2.7/python/test_support/sql/parquet_partitioned/year=2015/month=10/day=26/part-r-00005.gz.parquet\n",
            "spark-3.0.0-preview2-bin-hadoop2.7/python/test_support/sql/parquet_partitioned/year=2015/month=9/\n",
            "spark-3.0.0-preview2-bin-hadoop2.7/python/test_support/sql/parquet_partitioned/year=2015/month=9/day=1/\n",
            "spark-3.0.0-preview2-bin-hadoop2.7/python/test_support/sql/parquet_partitioned/year=2015/month=9/day=1/part-r-00007.gz.parquet\n",
            "spark-3.0.0-preview2-bin-hadoop2.7/python/test_support/sql/parquet_partitioned/year=2015/month=9/day=1/.part-r-00007.gz.parquet.crc\n",
            "spark-3.0.0-preview2-bin-hadoop2.7/python/test_support/sql/orc_partitioned/\n",
            "spark-3.0.0-preview2-bin-hadoop2.7/python/test_support/sql/orc_partitioned/b=1/\n",
            "spark-3.0.0-preview2-bin-hadoop2.7/python/test_support/sql/orc_partitioned/b=1/c=1/\n",
            "spark-3.0.0-preview2-bin-hadoop2.7/python/test_support/sql/orc_partitioned/b=1/c=1/.part-r-00000-829af031-b970-49d6-ad39-30460a0be2c8.orc.crc\n",
            "spark-3.0.0-preview2-bin-hadoop2.7/python/test_support/sql/orc_partitioned/b=1/c=1/part-r-00000-829af031-b970-49d6-ad39-30460a0be2c8.orc\n",
            "spark-3.0.0-preview2-bin-hadoop2.7/python/test_support/sql/orc_partitioned/_SUCCESS\n",
            "spark-3.0.0-preview2-bin-hadoop2.7/python/test_support/sql/orc_partitioned/b=0/\n",
            "spark-3.0.0-preview2-bin-hadoop2.7/python/test_support/sql/orc_partitioned/b=0/c=0/\n",
            "spark-3.0.0-preview2-bin-hadoop2.7/python/test_support/sql/orc_partitioned/b=0/c=0/.part-r-00000-829af031-b970-49d6-ad39-30460a0be2c8.orc.crc\n",
            "spark-3.0.0-preview2-bin-hadoop2.7/python/test_support/sql/orc_partitioned/b=0/c=0/part-r-00000-829af031-b970-49d6-ad39-30460a0be2c8.orc\n",
            "spark-3.0.0-preview2-bin-hadoop2.7/python/test_support/userlibrary.py\n",
            "spark-3.0.0-preview2-bin-hadoop2.7/python/test_support/SimpleHTTPServer.py\n",
            "spark-3.0.0-preview2-bin-hadoop2.7/python/test_coverage/\n",
            "spark-3.0.0-preview2-bin-hadoop2.7/python/test_coverage/conf/\n",
            "spark-3.0.0-preview2-bin-hadoop2.7/python/test_coverage/conf/spark-defaults.conf\n",
            "spark-3.0.0-preview2-bin-hadoop2.7/python/test_coverage/sitecustomize.py\n",
            "spark-3.0.0-preview2-bin-hadoop2.7/python/test_coverage/coverage_daemon.py\n",
            "spark-3.0.0-preview2-bin-hadoop2.7/python/pyspark.egg-info/\n",
            "spark-3.0.0-preview2-bin-hadoop2.7/python/pyspark.egg-info/requires.txt\n",
            "spark-3.0.0-preview2-bin-hadoop2.7/python/pyspark.egg-info/SOURCES.txt\n",
            "spark-3.0.0-preview2-bin-hadoop2.7/python/pyspark.egg-info/dependency_links.txt\n",
            "spark-3.0.0-preview2-bin-hadoop2.7/python/pyspark.egg-info/PKG-INFO\n",
            "spark-3.0.0-preview2-bin-hadoop2.7/python/pyspark.egg-info/top_level.txt\n",
            "spark-3.0.0-preview2-bin-hadoop2.7/python/run-tests\n",
            "spark-3.0.0-preview2-bin-hadoop2.7/python/setup.cfg\n",
            "spark-3.0.0-preview2-bin-hadoop2.7/python/run-tests.py\n",
            "spark-3.0.0-preview2-bin-hadoop2.7/python/pylintrc\n",
            "spark-3.0.0-preview2-bin-hadoop2.7/python/run-tests-with-coverage\n",
            "spark-3.0.0-preview2-bin-hadoop2.7/python/README.md\n",
            "spark-3.0.0-preview2-bin-hadoop2.7/python/.coveragerc\n",
            "spark-3.0.0-preview2-bin-hadoop2.7/python/docs/\n",
            "spark-3.0.0-preview2-bin-hadoop2.7/python/docs/_static/\n",
            "spark-3.0.0-preview2-bin-hadoop2.7/python/docs/_static/copybutton.js\n",
            "spark-3.0.0-preview2-bin-hadoop2.7/python/docs/_static/pyspark.js\n",
            "spark-3.0.0-preview2-bin-hadoop2.7/python/docs/_static/pyspark.css\n",
            "spark-3.0.0-preview2-bin-hadoop2.7/python/docs/pyspark.ml.rst\n",
            "spark-3.0.0-preview2-bin-hadoop2.7/python/docs/_templates/\n",
            "spark-3.0.0-preview2-bin-hadoop2.7/python/docs/_templates/layout.html\n",
            "spark-3.0.0-preview2-bin-hadoop2.7/python/docs/pyspark.sql.rst\n",
            "spark-3.0.0-preview2-bin-hadoop2.7/python/docs/make.bat\n",
            "spark-3.0.0-preview2-bin-hadoop2.7/python/docs/Makefile\n",
            "spark-3.0.0-preview2-bin-hadoop2.7/python/docs/conf.py\n",
            "spark-3.0.0-preview2-bin-hadoop2.7/python/docs/make2.bat\n",
            "spark-3.0.0-preview2-bin-hadoop2.7/python/docs/index.rst\n",
            "spark-3.0.0-preview2-bin-hadoop2.7/python/docs/pyspark.mllib.rst\n",
            "spark-3.0.0-preview2-bin-hadoop2.7/python/docs/pyspark.streaming.rst\n",
            "spark-3.0.0-preview2-bin-hadoop2.7/python/docs/pyspark.rst\n",
            "spark-3.0.0-preview2-bin-hadoop2.7/python/MANIFEST.in\n",
            "spark-3.0.0-preview2-bin-hadoop2.7/python/setup.py\n",
            "spark-3.0.0-preview2-bin-hadoop2.7/python/dist/\n",
            "spark-3.0.0-preview2-bin-hadoop2.7/bin/\n",
            "spark-3.0.0-preview2-bin-hadoop2.7/bin/spark-submit.cmd\n",
            "spark-3.0.0-preview2-bin-hadoop2.7/bin/pyspark.cmd\n",
            "spark-3.0.0-preview2-bin-hadoop2.7/bin/spark-sql\n",
            "spark-3.0.0-preview2-bin-hadoop2.7/bin/beeline\n",
            "spark-3.0.0-preview2-bin-hadoop2.7/bin/pyspark\n",
            "spark-3.0.0-preview2-bin-hadoop2.7/bin/load-spark-env.sh\n",
            "spark-3.0.0-preview2-bin-hadoop2.7/bin/load-spark-env.cmd\n",
            "spark-3.0.0-preview2-bin-hadoop2.7/bin/spark-submit\n",
            "spark-3.0.0-preview2-bin-hadoop2.7/bin/run-example.cmd\n",
            "spark-3.0.0-preview2-bin-hadoop2.7/bin/find-spark-home.cmd\n",
            "spark-3.0.0-preview2-bin-hadoop2.7/bin/spark-shell2.cmd\n",
            "spark-3.0.0-preview2-bin-hadoop2.7/bin/docker-image-tool.sh\n",
            "spark-3.0.0-preview2-bin-hadoop2.7/bin/sparkR2.cmd\n",
            "spark-3.0.0-preview2-bin-hadoop2.7/bin/sparkR\n",
            "spark-3.0.0-preview2-bin-hadoop2.7/bin/find-spark-home\n",
            "spark-3.0.0-preview2-bin-hadoop2.7/bin/spark-shell.cmd\n",
            "spark-3.0.0-preview2-bin-hadoop2.7/bin/spark-submit2.cmd\n",
            "spark-3.0.0-preview2-bin-hadoop2.7/bin/spark-class2.cmd\n",
            "spark-3.0.0-preview2-bin-hadoop2.7/bin/spark-sql2.cmd\n",
            "spark-3.0.0-preview2-bin-hadoop2.7/bin/spark-class\n",
            "spark-3.0.0-preview2-bin-hadoop2.7/bin/spark-sql.cmd\n",
            "spark-3.0.0-preview2-bin-hadoop2.7/bin/pyspark2.cmd\n",
            "spark-3.0.0-preview2-bin-hadoop2.7/bin/beeline.cmd\n",
            "spark-3.0.0-preview2-bin-hadoop2.7/bin/run-example\n",
            "spark-3.0.0-preview2-bin-hadoop2.7/bin/spark-shell\n",
            "spark-3.0.0-preview2-bin-hadoop2.7/bin/spark-class.cmd\n",
            "spark-3.0.0-preview2-bin-hadoop2.7/bin/sparkR.cmd\n",
            "spark-3.0.0-preview2-bin-hadoop2.7/sbin/\n",
            "spark-3.0.0-preview2-bin-hadoop2.7/sbin/stop-slave.sh\n",
            "spark-3.0.0-preview2-bin-hadoop2.7/sbin/start-history-server.sh\n",
            "spark-3.0.0-preview2-bin-hadoop2.7/sbin/stop-slaves.sh\n",
            "spark-3.0.0-preview2-bin-hadoop2.7/sbin/stop-history-server.sh\n",
            "spark-3.0.0-preview2-bin-hadoop2.7/sbin/start-thriftserver.sh\n",
            "spark-3.0.0-preview2-bin-hadoop2.7/sbin/start-mesos-shuffle-service.sh\n",
            "spark-3.0.0-preview2-bin-hadoop2.7/sbin/start-master.sh\n",
            "spark-3.0.0-preview2-bin-hadoop2.7/sbin/stop-master.sh\n",
            "spark-3.0.0-preview2-bin-hadoop2.7/sbin/stop-mesos-dispatcher.sh\n",
            "spark-3.0.0-preview2-bin-hadoop2.7/sbin/start-slave.sh\n",
            "spark-3.0.0-preview2-bin-hadoop2.7/sbin/start-mesos-dispatcher.sh\n",
            "spark-3.0.0-preview2-bin-hadoop2.7/sbin/start-slaves.sh\n",
            "spark-3.0.0-preview2-bin-hadoop2.7/sbin/stop-mesos-shuffle-service.sh\n",
            "spark-3.0.0-preview2-bin-hadoop2.7/sbin/stop-all.sh\n",
            "spark-3.0.0-preview2-bin-hadoop2.7/sbin/slaves.sh\n",
            "spark-3.0.0-preview2-bin-hadoop2.7/sbin/spark-daemons.sh\n",
            "spark-3.0.0-preview2-bin-hadoop2.7/sbin/start-all.sh\n",
            "spark-3.0.0-preview2-bin-hadoop2.7/sbin/spark-daemon.sh\n",
            "spark-3.0.0-preview2-bin-hadoop2.7/sbin/stop-thriftserver.sh\n",
            "spark-3.0.0-preview2-bin-hadoop2.7/sbin/spark-config.sh\n",
            "spark-3.0.0-preview2-bin-hadoop2.7/RELEASE\n",
            "spark-3.0.0-preview2-bin-hadoop2.7/README.md\n",
            "spark-3.0.0-preview2-bin-hadoop2.7/yarn/\n",
            "spark-3.0.0-preview2-bin-hadoop2.7/yarn/spark-3.0.0-preview2-yarn-shuffle.jar\n",
            "spark-3.0.0-preview2-bin-hadoop2.7/LICENSE\n",
            "spark-3.0.0-preview2-bin-hadoop2.7/R/\n",
            "spark-3.0.0-preview2-bin-hadoop2.7/R/lib/\n",
            "spark-3.0.0-preview2-bin-hadoop2.7/R/lib/SparkR/\n",
            "spark-3.0.0-preview2-bin-hadoop2.7/R/lib/SparkR/tests/\n",
            "spark-3.0.0-preview2-bin-hadoop2.7/R/lib/SparkR/tests/testthat/\n",
            "spark-3.0.0-preview2-bin-hadoop2.7/R/lib/SparkR/tests/testthat/test_basic.R\n",
            "spark-3.0.0-preview2-bin-hadoop2.7/R/lib/SparkR/INDEX\n",
            "spark-3.0.0-preview2-bin-hadoop2.7/R/lib/SparkR/help/\n",
            "spark-3.0.0-preview2-bin-hadoop2.7/R/lib/SparkR/help/SparkR.rdb\n",
            "spark-3.0.0-preview2-bin-hadoop2.7/R/lib/SparkR/help/SparkR.rdx\n",
            "spark-3.0.0-preview2-bin-hadoop2.7/R/lib/SparkR/help/paths.rds\n",
            "spark-3.0.0-preview2-bin-hadoop2.7/R/lib/SparkR/help/aliases.rds\n",
            "spark-3.0.0-preview2-bin-hadoop2.7/R/lib/SparkR/help/AnIndex\n",
            "spark-3.0.0-preview2-bin-hadoop2.7/R/lib/SparkR/worker/\n",
            "spark-3.0.0-preview2-bin-hadoop2.7/R/lib/SparkR/worker/daemon.R\n",
            "spark-3.0.0-preview2-bin-hadoop2.7/R/lib/SparkR/worker/worker.R\n",
            "spark-3.0.0-preview2-bin-hadoop2.7/R/lib/SparkR/html/\n",
            "spark-3.0.0-preview2-bin-hadoop2.7/R/lib/SparkR/html/00Index.html\n",
            "spark-3.0.0-preview2-bin-hadoop2.7/R/lib/SparkR/html/R.css\n",
            "spark-3.0.0-preview2-bin-hadoop2.7/R/lib/SparkR/Meta/\n",
            "spark-3.0.0-preview2-bin-hadoop2.7/R/lib/SparkR/Meta/hsearch.rds\n",
            "spark-3.0.0-preview2-bin-hadoop2.7/R/lib/SparkR/Meta/package.rds\n",
            "spark-3.0.0-preview2-bin-hadoop2.7/R/lib/SparkR/Meta/nsInfo.rds\n",
            "spark-3.0.0-preview2-bin-hadoop2.7/R/lib/SparkR/Meta/links.rds\n",
            "spark-3.0.0-preview2-bin-hadoop2.7/R/lib/SparkR/Meta/features.rds\n",
            "spark-3.0.0-preview2-bin-hadoop2.7/R/lib/SparkR/Meta/vignette.rds\n",
            "spark-3.0.0-preview2-bin-hadoop2.7/R/lib/SparkR/Meta/Rd.rds\n",
            "spark-3.0.0-preview2-bin-hadoop2.7/R/lib/SparkR/NAMESPACE\n",
            "spark-3.0.0-preview2-bin-hadoop2.7/R/lib/SparkR/profile/\n",
            "spark-3.0.0-preview2-bin-hadoop2.7/R/lib/SparkR/profile/general.R\n",
            "spark-3.0.0-preview2-bin-hadoop2.7/R/lib/SparkR/profile/shell.R\n",
            "spark-3.0.0-preview2-bin-hadoop2.7/R/lib/SparkR/DESCRIPTION\n",
            "spark-3.0.0-preview2-bin-hadoop2.7/R/lib/SparkR/R/\n",
            "spark-3.0.0-preview2-bin-hadoop2.7/R/lib/SparkR/R/SparkR.rdb\n",
            "spark-3.0.0-preview2-bin-hadoop2.7/R/lib/SparkR/R/SparkR\n",
            "spark-3.0.0-preview2-bin-hadoop2.7/R/lib/SparkR/R/SparkR.rdx\n",
            "spark-3.0.0-preview2-bin-hadoop2.7/R/lib/SparkR/doc/\n",
            "spark-3.0.0-preview2-bin-hadoop2.7/R/lib/SparkR/doc/sparkr-vignettes.R\n",
            "spark-3.0.0-preview2-bin-hadoop2.7/R/lib/SparkR/doc/sparkr-vignettes.html\n",
            "spark-3.0.0-preview2-bin-hadoop2.7/R/lib/SparkR/doc/sparkr-vignettes.Rmd\n",
            "spark-3.0.0-preview2-bin-hadoop2.7/R/lib/SparkR/doc/index.html\n",
            "spark-3.0.0-preview2-bin-hadoop2.7/R/lib/sparkr.zip\n",
            "spark-3.0.0-preview2-bin-hadoop2.7/kubernetes/\n",
            "spark-3.0.0-preview2-bin-hadoop2.7/kubernetes/tests/\n",
            "spark-3.0.0-preview2-bin-hadoop2.7/kubernetes/tests/worker_memory_check.py\n",
            "spark-3.0.0-preview2-bin-hadoop2.7/kubernetes/tests/py_container_checks.py\n",
            "spark-3.0.0-preview2-bin-hadoop2.7/kubernetes/tests/pyfiles.py\n",
            "spark-3.0.0-preview2-bin-hadoop2.7/kubernetes/dockerfiles/\n",
            "spark-3.0.0-preview2-bin-hadoop2.7/kubernetes/dockerfiles/spark/\n",
            "spark-3.0.0-preview2-bin-hadoop2.7/kubernetes/dockerfiles/spark/entrypoint.sh\n",
            "spark-3.0.0-preview2-bin-hadoop2.7/kubernetes/dockerfiles/spark/bindings/\n",
            "spark-3.0.0-preview2-bin-hadoop2.7/kubernetes/dockerfiles/spark/bindings/python/\n",
            "spark-3.0.0-preview2-bin-hadoop2.7/kubernetes/dockerfiles/spark/bindings/python/Dockerfile\n",
            "spark-3.0.0-preview2-bin-hadoop2.7/kubernetes/dockerfiles/spark/bindings/R/\n",
            "spark-3.0.0-preview2-bin-hadoop2.7/kubernetes/dockerfiles/spark/bindings/R/Dockerfile\n",
            "spark-3.0.0-preview2-bin-hadoop2.7/kubernetes/dockerfiles/spark/Dockerfile\n"
          ],
          "name": "stdout"
        }
      ]
    },
    {
      "cell_type": "markdown",
      "metadata": {
        "id": "qbYJZF_vtuuO",
        "colab_type": "text"
      },
      "source": [
        "## Creating a SparkSession"
      ]
    },
    {
      "cell_type": "code",
      "metadata": {
        "id": "OLrstxv4tl_n",
        "colab_type": "code",
        "colab": {}
      },
      "source": [
        "from pyspark.sql import SparkSession\n",
        "\n",
        "spark = SparkSession.builder.master(\"local[*]\").getOrCreate()"
      ],
      "execution_count": 0,
      "outputs": []
    },
    {
      "cell_type": "markdown",
      "metadata": {
        "id": "9dqpZRyyt0H6",
        "colab_type": "text"
      },
      "source": [
        "## Load the dataset"
      ]
    },
    {
      "cell_type": "code",
      "metadata": {
        "id": "JUtmKnPBtxfv",
        "colab_type": "code",
        "colab": {}
      },
      "source": [
        "# Read data from CSV file\n",
        "flights = spark.read.csv('/content/drive/My Drive/Colab Notebooks/data/flights-larger.csv',\n",
        "                         sep=',',\n",
        "                         header=True,\n",
        "                         inferSchema=True,\n",
        "                         nullValue='NA')"
      ],
      "execution_count": 0,
      "outputs": []
    },
    {
      "cell_type": "markdown",
      "metadata": {
        "id": "rezryyMLw3zd",
        "colab_type": "text"
      },
      "source": [
        "Data dictionary:\n",
        "\n",
        "- mon — month (integer between 0 and 11)\n",
        "\n",
        "- dom — day of month (integer between 1 and 31)\n",
        "\n",
        "- dow — day of week (integer; 1 = Monday and 7 = Sunday)\n",
        "\n",
        "- org — origin airport (IATA code)\n",
        "\n",
        "- mile — distance (miles)\n",
        "\n",
        "- carrier — carrier (IATA code)\n",
        "\n",
        "- depart — departure time (decimal hour)\n",
        "\n",
        "- duration — expected duration (minutes)\n",
        "\n",
        "- delay — delay (minutes)"
      ]
    },
    {
      "cell_type": "markdown",
      "metadata": {
        "id": "OjW916mYt9P-",
        "colab_type": "text"
      },
      "source": [
        "## Simple EDA & Data Preparation"
      ]
    },
    {
      "cell_type": "code",
      "metadata": {
        "id": "nLNeu9L6t52i",
        "colab_type": "code",
        "outputId": "8ef6d01d-18ca-4bc0-88a1-75143c117ad5",
        "colab": {
          "base_uri": "https://localhost:8080/",
          "height": 35
        }
      },
      "source": [
        "# Get number of records\n",
        "print(\"The data contain %d records.\" % flights.count())"
      ],
      "execution_count": 4,
      "outputs": [
        {
          "output_type": "stream",
          "text": [
            "The data contain 275000 records.\n"
          ],
          "name": "stdout"
        }
      ]
    },
    {
      "cell_type": "code",
      "metadata": {
        "id": "J2t1M80SuA-_",
        "colab_type": "code",
        "outputId": "68711b98-7e88-4c20-f401-34edbf541496",
        "colab": {
          "base_uri": "https://localhost:8080/",
          "height": 311
        }
      },
      "source": [
        "# View the first five records\n",
        "flights.show(10)"
      ],
      "execution_count": 5,
      "outputs": [
        {
          "output_type": "stream",
          "text": [
            "+---+---+---+-------+------+---+----+------+--------+-----+\n",
            "|mon|dom|dow|carrier|flight|org|mile|depart|duration|delay|\n",
            "+---+---+---+-------+------+---+----+------+--------+-----+\n",
            "| 10| 10|  1|     OO|  5836|ORD| 157|  8.18|      51|   27|\n",
            "|  1|  4|  1|     OO|  5866|ORD| 466|  15.5|     102| null|\n",
            "| 11| 22|  1|     OO|  6016|ORD| 738|  7.17|     127|  -19|\n",
            "|  2| 14|  5|     B6|   199|JFK|2248| 21.17|     365|   60|\n",
            "|  5| 25|  3|     WN|  1675|SJC| 386| 12.92|      85|   22|\n",
            "|  3| 28|  1|     B6|   377|LGA|1076| 13.33|     182|   70|\n",
            "|  5| 28|  6|     B6|   904|ORD| 740|  9.58|     130|   47|\n",
            "|  1| 19|  2|     UA|   820|SFO| 679| 12.75|     123|  135|\n",
            "|  8|  5|  5|     US|  2175|LGA| 214|  13.0|      71|  -10|\n",
            "|  5| 27|  5|     AA|  1240|ORD|1197| 14.42|     195|  -11|\n",
            "+---+---+---+-------+------+---+----+------+--------+-----+\n",
            "only showing top 10 rows\n",
            "\n"
          ],
          "name": "stdout"
        }
      ]
    },
    {
      "cell_type": "code",
      "metadata": {
        "id": "H2NfGga-uCqd",
        "colab_type": "code",
        "outputId": "f59ed410-10a4-4b97-86a7-a299b1d6ca5e",
        "colab": {
          "base_uri": "https://localhost:8080/",
          "height": 201
        }
      },
      "source": [
        "# Check column data types\n",
        "flights.dtypes"
      ],
      "execution_count": 6,
      "outputs": [
        {
          "output_type": "execute_result",
          "data": {
            "text/plain": [
              "[('mon', 'int'),\n",
              " ('dom', 'int'),\n",
              " ('dow', 'int'),\n",
              " ('carrier', 'string'),\n",
              " ('flight', 'int'),\n",
              " ('org', 'string'),\n",
              " ('mile', 'int'),\n",
              " ('depart', 'double'),\n",
              " ('duration', 'int'),\n",
              " ('delay', 'int')]"
            ]
          },
          "metadata": {
            "tags": []
          },
          "execution_count": 6
        }
      ]
    },
    {
      "cell_type": "code",
      "metadata": {
        "id": "a9v19vw0uEY2",
        "colab_type": "code",
        "outputId": "dc0b0d9a-c564-476e-b54d-75983e0d9617",
        "colab": {
          "base_uri": "https://localhost:8080/",
          "height": 237
        }
      },
      "source": [
        "# Check data schema\n",
        "flights.printSchema()"
      ],
      "execution_count": 7,
      "outputs": [
        {
          "output_type": "stream",
          "text": [
            "root\n",
            " |-- mon: integer (nullable = true)\n",
            " |-- dom: integer (nullable = true)\n",
            " |-- dow: integer (nullable = true)\n",
            " |-- carrier: string (nullable = true)\n",
            " |-- flight: integer (nullable = true)\n",
            " |-- org: string (nullable = true)\n",
            " |-- mile: integer (nullable = true)\n",
            " |-- depart: double (nullable = true)\n",
            " |-- duration: integer (nullable = true)\n",
            " |-- delay: integer (nullable = true)\n",
            "\n"
          ],
          "name": "stdout"
        }
      ]
    },
    {
      "cell_type": "code",
      "metadata": {
        "id": "aExq8xVQwi5e",
        "colab_type": "code",
        "outputId": "6c24e4dd-3776-4a5f-80e1-04ef2f81ce90",
        "colab": {
          "base_uri": "https://localhost:8080/",
          "height": 201
        }
      },
      "source": [
        "# DataFrame description\n",
        "flights.describe().show()"
      ],
      "execution_count": 8,
      "outputs": [
        {
          "output_type": "stream",
          "text": [
            "+-------+------------------+-----------------+------------------+-------+------------------+------+-----------------+------------------+------------------+-----------------+\n",
            "|summary|               mon|              dom|               dow|carrier|            flight|   org|             mile|            depart|          duration|            delay|\n",
            "+-------+------------------+-----------------+------------------+-------+------------------+------+-----------------+------------------+------------------+-----------------+\n",
            "|  count|            275000|           275000|            275000| 275000|            275000|275000|           275000|            275000|            275000|           258289|\n",
            "|   mean|           5.24232|15.71406909090909| 2.946090909090909|   null|2063.0542763636363|  null|881.2222872727273|14.124930981817384|151.64103636363637|28.34773064280709|\n",
            "| stddev|3.4273573316203576|8.805568383848067|1.9635141531217672|   null| 2185.852169684581|  null|700.5178890821038| 4.683189503417866|  87.0845640768675|54.01489538326629|\n",
            "|    min|                 0|                1|                 0|     AA|                 1|   JFK|               11|              0.12|                14|              -80|\n",
            "|    max|                11|               31|                 6|     WN|              6941|   TUS|             4243|             23.98|               605|             1370|\n",
            "+-------+------------------+-----------------+------------------+-------+------------------+------+-----------------+------------------+------------------+-----------------+\n",
            "\n"
          ],
          "name": "stdout"
        }
      ]
    },
    {
      "cell_type": "code",
      "metadata": {
        "id": "MWQURdg12sIu",
        "colab_type": "code",
        "outputId": "5c972184-8d2e-4043-8437-85ac85738a02",
        "colab": {
          "base_uri": "https://localhost:8080/",
          "height": 201
        }
      },
      "source": [
        "# Months is from 0 - 11, let's fix it\n",
        "flights = flights.withColumn('mon', (flights['mon']+1).cast('integer'))\n",
        "flights.describe().show()"
      ],
      "execution_count": 9,
      "outputs": [
        {
          "output_type": "stream",
          "text": [
            "+-------+------------------+-----------------+------------------+-------+------------------+------+-----------------+------------------+------------------+-----------------+\n",
            "|summary|               mon|              dom|               dow|carrier|            flight|   org|             mile|            depart|          duration|            delay|\n",
            "+-------+------------------+-----------------+------------------+-------+------------------+------+-----------------+------------------+------------------+-----------------+\n",
            "|  count|            275000|           275000|            275000| 275000|            275000|275000|           275000|            275000|            275000|           258289|\n",
            "|   mean|           6.24232|15.71406909090909| 2.946090909090909|   null|2063.0542763636363|  null|881.2222872727273|14.124930981817384|151.64103636363637|28.34773064280709|\n",
            "| stddev|3.4273573316203576|8.805568383848067|1.9635141531217672|   null| 2185.852169684581|  null|700.5178890821038| 4.683189503417866|  87.0845640768675|54.01489538326629|\n",
            "|    min|                 1|                1|                 0|     AA|                 1|   JFK|               11|              0.12|                14|              -80|\n",
            "|    max|                12|               31|                 6|     WN|              6941|   TUS|             4243|             23.98|               605|             1370|\n",
            "+-------+------------------+-----------------+------------------+-------+------------------+------+-----------------+------------------+------------------+-----------------+\n",
            "\n"
          ],
          "name": "stdout"
        }
      ]
    },
    {
      "cell_type": "code",
      "metadata": {
        "id": "nSth3Z9Xx37g",
        "colab_type": "code",
        "outputId": "abc180e7-2274-48f9-8036-e0f731dc9792",
        "colab": {
          "base_uri": "https://localhost:8080/",
          "height": 127
        }
      },
      "source": [
        "# Checking missing values\n",
        "\n",
        "from pyspark.sql.functions import isnan, when, count, col, avg, round\n",
        "\n",
        "flights.select([count(when(isnan(c) | col(c).isNull(), c)).alias(c) for c in flights.columns]).show()"
      ],
      "execution_count": 10,
      "outputs": [
        {
          "output_type": "stream",
          "text": [
            "+---+---+---+-------+------+---+----+------+--------+-----+\n",
            "|mon|dom|dow|carrier|flight|org|mile|depart|duration|delay|\n",
            "+---+---+---+-------+------+---+----+------+--------+-----+\n",
            "|  0|  0|  0|      0|     0|  0|   0|     0|       0|16711|\n",
            "+---+---+---+-------+------+---+----+------+--------+-----+\n",
            "\n"
          ],
          "name": "stdout"
        }
      ]
    },
    {
      "cell_type": "code",
      "metadata": {
        "id": "p4DRCBwB1x0X",
        "colab_type": "code",
        "outputId": "a2f715fb-f043-4060-9a27-4ae40993e7d7",
        "colab": {
          "base_uri": "https://localhost:8080/",
          "height": 329
        }
      },
      "source": [
        "# Check number of flights by month\n",
        "flights_by_mon = flights.groupBy('mon').count()\n",
        "flights_by_mon.sort('count', ascending=False).show()"
      ],
      "execution_count": 11,
      "outputs": [
        {
          "output_type": "stream",
          "text": [
            "+---+-----+\n",
            "|mon|count|\n",
            "+---+-----+\n",
            "|  6|26615|\n",
            "|  1|25736|\n",
            "|  7|25452|\n",
            "|  2|24582|\n",
            "|  3|24346|\n",
            "|  8|24049|\n",
            "| 12|23513|\n",
            "|  4|22720|\n",
            "|  5|22503|\n",
            "|  9|19432|\n",
            "| 10|18557|\n",
            "| 11|17495|\n",
            "+---+-----+\n",
            "\n"
          ],
          "name": "stdout"
        }
      ]
    },
    {
      "cell_type": "code",
      "metadata": {
        "id": "Bbk8pXPH04J9",
        "colab_type": "code",
        "outputId": "cc365b2f-8e6e-4eb1-90eb-422c76f9f6fe",
        "colab": {
          "base_uri": "https://localhost:8080/",
          "height": 274
        }
      },
      "source": [
        "# Average delays by carrier\n",
        "flights.groupBy('carrier').agg(round(avg('delay'),2).alias('Average_delay')).show()"
      ],
      "execution_count": 12,
      "outputs": [
        {
          "output_type": "stream",
          "text": [
            "+-------+-------------+\n",
            "|carrier|Average_delay|\n",
            "+-------+-------------+\n",
            "|     UA|        31.63|\n",
            "|     AA|        33.97|\n",
            "|     B6|        29.73|\n",
            "|     OO|         28.7|\n",
            "|     US|        15.62|\n",
            "|     AQ|         2.92|\n",
            "|     OH|        32.07|\n",
            "|     HA|         7.82|\n",
            "|     WN|        14.89|\n",
            "+-------+-------------+\n",
            "\n"
          ],
          "name": "stdout"
        }
      ]
    },
    {
      "cell_type": "markdown",
      "metadata": {
        "id": "JInfSnzLwR4J",
        "colab_type": "text"
      },
      "source": [
        "### Removing columns and rows"
      ]
    },
    {
      "cell_type": "code",
      "metadata": {
        "id": "Xj60CchzuFW4",
        "colab_type": "code",
        "outputId": "ca6a9b62-1eae-4fb9-eaac-73e85e04f923",
        "colab": {
          "base_uri": "https://localhost:8080/",
          "height": 35
        }
      },
      "source": [
        "# Remove the 'flight' column\n",
        "flights_drop_column = flights.drop('flight')\n",
        "\n",
        "# Number of records with missing 'delay' values\n",
        "flights_drop_column.filter('delay IS NULL').count()\n",
        "\n",
        "# Remove records with missing 'delay' values\n",
        "flights_valid_delay = flights_drop_column.filter('delay IS NOT NULL')\n",
        "\n",
        "# Remove records with missing values in any column and get the number of remaining rows\n",
        "flights_none_missing = flights_valid_delay.dropna()\n",
        "print(flights_none_missing.count())"
      ],
      "execution_count": 13,
      "outputs": [
        {
          "output_type": "stream",
          "text": [
            "258289\n"
          ],
          "name": "stdout"
        }
      ]
    },
    {
      "cell_type": "code",
      "metadata": {
        "id": "DvW6z1ykzyPX",
        "colab_type": "code",
        "outputId": "d47d3746-2205-4f7f-8b2e-2cd6fa059729",
        "colab": {
          "base_uri": "https://localhost:8080/",
          "height": 219
        }
      },
      "source": [
        "flights_none_missing.show(5)"
      ],
      "execution_count": 14,
      "outputs": [
        {
          "output_type": "stream",
          "text": [
            "+---+---+---+-------+---+----+------+--------+-----+\n",
            "|mon|dom|dow|carrier|org|mile|depart|duration|delay|\n",
            "+---+---+---+-------+---+----+------+--------+-----+\n",
            "| 11| 10|  1|     OO|ORD| 157|  8.18|      51|   27|\n",
            "| 12| 22|  1|     OO|ORD| 738|  7.17|     127|  -19|\n",
            "|  3| 14|  5|     B6|JFK|2248| 21.17|     365|   60|\n",
            "|  6| 25|  3|     WN|SJC| 386| 12.92|      85|   22|\n",
            "|  4| 28|  1|     B6|LGA|1076| 13.33|     182|   70|\n",
            "+---+---+---+-------+---+----+------+--------+-----+\n",
            "only showing top 5 rows\n",
            "\n"
          ],
          "name": "stdout"
        }
      ]
    },
    {
      "cell_type": "code",
      "metadata": {
        "id": "YDMKOfm4z7hw",
        "colab_type": "code",
        "outputId": "c4a0f077-b8ce-43a0-8ca5-306b0e3ddecc",
        "colab": {
          "base_uri": "https://localhost:8080/",
          "height": 35
        }
      },
      "source": [
        "# Check for missing value in delay again\n",
        "flights_none_missing.filter('delay IS NULL').count()"
      ],
      "execution_count": 15,
      "outputs": [
        {
          "output_type": "execute_result",
          "data": {
            "text/plain": [
              "0"
            ]
          },
          "metadata": {
            "tags": []
          },
          "execution_count": 15
        }
      ]
    },
    {
      "cell_type": "markdown",
      "metadata": {
        "id": "qkE01XgbIvWE",
        "colab_type": "text"
      },
      "source": [
        "### Column manipulation"
      ]
    },
    {
      "cell_type": "code",
      "metadata": {
        "id": "VD6s56SBItry",
        "colab_type": "code",
        "colab": {}
      },
      "source": [
        "# Create 'label' column indicating whether flight delayed (1) or not (0)\n",
        "flights_labeled = flights_none_missing.withColumn('label', (flights_none_missing.delay >= 15).cast('integer'))"
      ],
      "execution_count": 0,
      "outputs": []
    },
    {
      "cell_type": "markdown",
      "metadata": {
        "id": "1V4LamBS0Wns",
        "colab_type": "text"
      },
      "source": [
        "### Bucketing departure time"
      ]
    },
    {
      "cell_type": "code",
      "metadata": {
        "id": "myYj2AYv0Aqe",
        "colab_type": "code",
        "outputId": "741e285e-5bce-4dc0-b378-396b350a34e8",
        "colab": {
          "base_uri": "https://localhost:8080/",
          "height": 219
        }
      },
      "source": [
        "from pyspark.ml.feature import Bucketizer\n",
        "\n",
        "# Create buckets at 3 hour intervals through the day\n",
        "buckets = Bucketizer(splits=[0, 3, 6, 9, 12, 15, 18, 21, 24], inputCol='depart', outputCol='depart_bucket')\n",
        "\n",
        "# Bucket the departure times\n",
        "bucketed = buckets.transform(flights_labeled)\n",
        "bucketed.select('depart', 'depart_bucket').show(5)"
      ],
      "execution_count": 17,
      "outputs": [
        {
          "output_type": "stream",
          "text": [
            "+------+-------------+\n",
            "|depart|depart_bucket|\n",
            "+------+-------------+\n",
            "|  8.18|          2.0|\n",
            "|  7.17|          2.0|\n",
            "| 21.17|          7.0|\n",
            "| 12.92|          4.0|\n",
            "| 13.33|          4.0|\n",
            "+------+-------------+\n",
            "only showing top 5 rows\n",
            "\n"
          ],
          "name": "stdout"
        }
      ]
    },
    {
      "cell_type": "markdown",
      "metadata": {
        "id": "fEWVIkH_3in9",
        "colab_type": "text"
      },
      "source": [
        "### Transform categorical columns"
      ]
    },
    {
      "cell_type": "code",
      "metadata": {
        "id": "PZsFJpPzqDyq",
        "colab_type": "code",
        "colab": {}
      },
      "source": [
        "# indexing all categorical columns in the dataset\n",
        "from pyspark.ml.feature import StringIndexer\n",
        "indexer1 = StringIndexer(inputCol='org', outputCol='org_index')\n",
        "indexer2 = StringIndexer(inputCol='carrier', outputCol='carrier_index')\n",
        "indexer3 = StringIndexer(inputCol='depart_bucket', outputCol='depart_bucket_index')\n",
        "\n",
        "indexer1 = indexer1.fit(bucketed)\n",
        "indexer2 = indexer2.fit(bucketed)\n",
        "indexer3 = indexer3.fit(bucketed)\n",
        "\n",
        "bucketed = indexer1.transform(bucketed)\n",
        "bucketed = indexer2.transform(bucketed)\n",
        "bucketed = indexer3.transform(bucketed)"
      ],
      "execution_count": 0,
      "outputs": []
    },
    {
      "cell_type": "markdown",
      "metadata": {
        "id": "58LGW4lp3mEl",
        "colab_type": "text"
      },
      "source": [
        "### One-Hot Encoding"
      ]
    },
    {
      "cell_type": "code",
      "metadata": {
        "id": "WuQePjfEpYe1",
        "colab_type": "code",
        "colab": {
          "base_uri": "https://localhost:8080/",
          "height": 329
        },
        "outputId": "0f2c1095-95d2-4426-b046-0b13e7dd06e7"
      },
      "source": [
        "from pyspark.ml.feature import OneHotEncoder\n",
        "\n",
        "# Create an instance of the one hot encoder\n",
        "onehot = OneHotEncoder(inputCols=['org_index', 'carrier_index', 'depart_bucket_index'],\n",
        "             outputCols=['org_classVec', 'carrier_classVec', 'depart_bucket_classVec'])\n",
        "# Apply the one hot encoder to the flights data\n",
        "onehot = onehot.fit(bucketed)\n",
        "flights_onehot = onehot.transform(bucketed)\n",
        "\n",
        "# Check the results\n",
        "flights_onehot.columns"
      ],
      "execution_count": 19,
      "outputs": [
        {
          "output_type": "execute_result",
          "data": {
            "text/plain": [
              "['mon',\n",
              " 'dom',\n",
              " 'dow',\n",
              " 'carrier',\n",
              " 'org',\n",
              " 'mile',\n",
              " 'depart',\n",
              " 'duration',\n",
              " 'delay',\n",
              " 'label',\n",
              " 'depart_bucket',\n",
              " 'org_index',\n",
              " 'carrier_index',\n",
              " 'depart_bucket_index',\n",
              " 'org_classVec',\n",
              " 'carrier_classVec',\n",
              " 'depart_bucket_classVec']"
            ]
          },
          "metadata": {
            "tags": []
          },
          "execution_count": 19
        }
      ]
    },
    {
      "cell_type": "markdown",
      "metadata": {
        "id": "fYiYSQVi3yyT",
        "colab_type": "text"
      },
      "source": [
        "### Assembling columns\n",
        "\n",
        "To consolidate all of the predictor columns into a single column before feeding data into models"
      ]
    },
    {
      "cell_type": "code",
      "metadata": {
        "id": "ei-hpFnOpYpO",
        "colab_type": "code",
        "colab": {
          "base_uri": "https://localhost:8080/",
          "height": 219
        },
        "outputId": "f6d350bb-3b1c-4e1b-a1ce-04cc8cfed737"
      },
      "source": [
        "from pyspark.ml.feature import VectorAssembler\n",
        "\n",
        "# Create an assembler object\n",
        "assembler = VectorAssembler(inputCols=[\n",
        "    'mon', 'dom', 'dow', 'carrier_classVec', 'org_classVec', 'mile', 'depart_bucket_classVec', 'duration'\n",
        "], outputCol='features')\n",
        "\n",
        "# Consolidate predictor columns\n",
        "flights_assembled = assembler.transform(flights_onehot)\n",
        "\n",
        "# Check the resulting column\n",
        "flights_assembled.select('features', 'label').show(5)"
      ],
      "execution_count": 20,
      "outputs": [
        {
          "output_type": "stream",
          "text": [
            "+--------------------+-----+\n",
            "|            features|label|\n",
            "+--------------------+-----+\n",
            "|(27,[0,1,2,5,11,1...|    1|\n",
            "|(27,[0,1,2,5,11,1...|    0|\n",
            "|(27,[0,1,2,7,13,1...|    1|\n",
            "|(27,[0,1,2,6,16,1...|    1|\n",
            "|(27,[0,1,2,7,14,1...|    1|\n",
            "+--------------------+-----+\n",
            "only showing top 5 rows\n",
            "\n"
          ],
          "name": "stdout"
        }
      ]
    },
    {
      "cell_type": "code",
      "metadata": {
        "id": "PJOyXVccsoTQ",
        "colab_type": "code",
        "colab": {
          "base_uri": "https://localhost:8080/",
          "height": 146
        },
        "outputId": "93bcd723-e963-4748-8bc0-1217e8def671"
      },
      "source": [
        "# Check if dataset is balance\n",
        "flights_assembled.select('features', 'label').groupBy('label').count().show()"
      ],
      "execution_count": 21,
      "outputs": [
        {
          "output_type": "stream",
          "text": [
            "+-----+------+\n",
            "|label| count|\n",
            "+-----+------+\n",
            "|    1|130588|\n",
            "|    0|127701|\n",
            "+-----+------+\n",
            "\n"
          ],
          "name": "stdout"
        }
      ]
    },
    {
      "cell_type": "markdown",
      "metadata": {
        "id": "pZk5RjxT3_2i",
        "colab_type": "text"
      },
      "source": [
        "### Train/test split"
      ]
    },
    {
      "cell_type": "code",
      "metadata": {
        "id": "GSm69rGkpYrm",
        "colab_type": "code",
        "colab": {
          "base_uri": "https://localhost:8080/",
          "height": 35
        },
        "outputId": "203e4e3b-1c5e-4e6d-da36-5da389ab7f51"
      },
      "source": [
        "# Split into training and testing sets in a 80:20 ratio\n",
        "flights_train, flights_test = flights_assembled.randomSplit([0.8,0.2], seed=17)\n",
        "\n",
        "# Check that training set has around 80% of records\n",
        "training_ratio = flights_train.count() / flights_assembled.count()\n",
        "print(training_ratio)"
      ],
      "execution_count": 22,
      "outputs": [
        {
          "output_type": "stream",
          "text": [
            "0.7998404887548444\n"
          ],
          "name": "stdout"
        }
      ]
    },
    {
      "cell_type": "markdown",
      "metadata": {
        "id": "RDYNBfrB4NQb",
        "colab_type": "text"
      },
      "source": [
        "## Building Models"
      ]
    },
    {
      "cell_type": "markdown",
      "metadata": {
        "id": "w7eemef54Pp2",
        "colab_type": "text"
      },
      "source": [
        "### Build a Decision Tree"
      ]
    },
    {
      "cell_type": "code",
      "metadata": {
        "id": "t-4ozlLNpYt8",
        "colab_type": "code",
        "colab": {
          "base_uri": "https://localhost:8080/",
          "height": 219
        },
        "outputId": "2d020b88-ae3a-4080-81a2-64f9e2ecb77c"
      },
      "source": [
        "# Import the Decision Tree Classifier class\n",
        "from pyspark.ml.classification import DecisionTreeClassifier\n",
        "\n",
        "# Create a classifier object and fit to the training data\n",
        "tree = DecisionTreeClassifier(featuresCol = 'features', labelCol = 'label')\n",
        "tree_model = tree.fit(flights_train)\n",
        "\n",
        "# Create predictions for the testing data and take a look at the predictions\n",
        "prediction = tree_model.transform(flights_test)\n",
        "prediction.select('label', 'prediction', 'probability').show(5, False)"
      ],
      "execution_count": 23,
      "outputs": [
        {
          "output_type": "stream",
          "text": [
            "+-----+----------+----------------------------------------+\n",
            "|label|prediction|probability                             |\n",
            "+-----+----------+----------------------------------------+\n",
            "|1    |1.0       |[0.34821276836798276,0.6517872316320172]|\n",
            "|1    |1.0       |[0.34821276836798276,0.6517872316320172]|\n",
            "|0    |1.0       |[0.34821276836798276,0.6517872316320172]|\n",
            "|0    |1.0       |[0.34821276836798276,0.6517872316320172]|\n",
            "|1    |1.0       |[0.34821276836798276,0.6517872316320172]|\n",
            "+-----+----------+----------------------------------------+\n",
            "only showing top 5 rows\n",
            "\n"
          ],
          "name": "stdout"
        }
      ]
    },
    {
      "cell_type": "markdown",
      "metadata": {
        "id": "0TH5msQ84V8c",
        "colab_type": "text"
      },
      "source": [
        "### Evaluate the Decision Tree"
      ]
    },
    {
      "cell_type": "code",
      "metadata": {
        "id": "f4Vcxce2pYxB",
        "colab_type": "code",
        "colab": {
          "base_uri": "https://localhost:8080/",
          "height": 201
        },
        "outputId": "93955878-a0ad-4460-fc6a-7712279db1e5"
      },
      "source": [
        "# Create a confusion matrix\n",
        "prediction.groupBy('label', 'prediction').count().show()\n",
        "\n",
        "# Calculate the elements of the confusion matrix\n",
        "TN = prediction.filter('prediction = 0 AND label = prediction').count()\n",
        "TP = prediction.filter('prediction = 1 AND label = prediction').count()\n",
        "FN = prediction.filter('prediction = 0 AND label != prediction').count()\n",
        "FP = prediction.filter('prediction = 1 AND label != prediction').count()\n",
        "\n",
        "# Accuracy measures the proportion of correct predictions\n",
        "accuracy = (TN + TP) / (TN + TP + FN + FP)\n",
        "print(accuracy)"
      ],
      "execution_count": 24,
      "outputs": [
        {
          "output_type": "stream",
          "text": [
            "+-----+----------+-----+\n",
            "|label|prediction|count|\n",
            "+-----+----------+-----+\n",
            "|    1|       0.0|12979|\n",
            "|    0|       0.0|18808|\n",
            "|    1|       1.0|13180|\n",
            "|    0|       1.0| 6732|\n",
            "+-----+----------+-----+\n",
            "\n",
            "0.6187353720574866\n"
          ],
          "name": "stdout"
        }
      ]
    },
    {
      "cell_type": "code",
      "metadata": {
        "id": "-ZMn8sWVlkaf",
        "colab_type": "code",
        "colab": {
          "base_uri": "https://localhost:8080/",
          "height": 54
        },
        "outputId": "3b72665f-97fa-4ada-9d18-731a71ce71de"
      },
      "source": [
        "# Calcualate the precision\n",
        "precision = TP / (TP + FP)\n",
        "# Calcualate the recall\n",
        "recall = TP / (TP + FN)\n",
        "# Print out results\n",
        "print('precision = {:.2f}\\nrecall    = {:.2f}'.format(precision, recall))"
      ],
      "execution_count": 25,
      "outputs": [
        {
          "output_type": "stream",
          "text": [
            "precision = 0.66\n",
            "recall    = 0.50\n"
          ],
          "name": "stdout"
        }
      ]
    },
    {
      "cell_type": "code",
      "metadata": {
        "id": "1RVs-WfrvADF",
        "colab_type": "code",
        "colab": {
          "base_uri": "https://localhost:8080/",
          "height": 35
        },
        "outputId": "06f761db-6ec5-46a2-be4b-aaff75afff90"
      },
      "source": [
        "from pyspark.ml.evaluation import BinaryClassificationEvaluator\n",
        "\n",
        "# Check for AUC\n",
        "binary_evaluator = BinaryClassificationEvaluator()\n",
        "auc = binary_evaluator.evaluate(prediction, {binary_evaluator.metricName: \"areaUnderROC\"})\n",
        "print('Test Area Under ROC: ', auc)"
      ],
      "execution_count": 26,
      "outputs": [
        {
          "output_type": "stream",
          "text": [
            "Test Area Under ROC:  0.587543389032608\n"
          ],
          "name": "stdout"
        }
      ]
    },
    {
      "cell_type": "markdown",
      "metadata": {
        "id": "OIPrk5JG4r0N",
        "colab_type": "text"
      },
      "source": [
        "### Build a Random Forest with Grid Search and Cross Validation"
      ]
    },
    {
      "cell_type": "code",
      "metadata": {
        "id": "6u7x9FOyvFSp",
        "colab_type": "code",
        "colab": {}
      },
      "source": [
        "from pyspark.ml.classification import RandomForestClassifier\n",
        "from pyspark.ml.tuning import ParamGridBuilder, CrossValidator\n",
        "\n",
        "\n",
        "# Create a random forest classifier\n",
        "forest = RandomForestClassifier()\n",
        "\n",
        "# Create a parameter grid\n",
        "params = ParamGridBuilder() \\\n",
        "            .addGrid(forest.featureSubsetStrategy, ['all', 'onethird', 'sqrt', 'log2']) \\\n",
        "            .addGrid(forest.maxDepth, [2, 5, 10]) \\\n",
        "            .build()\n",
        "\n",
        "# Create a binary classification evaluator\n",
        "evaluator = BinaryClassificationEvaluator()\n",
        "\n",
        "# Create a cross-validator\n",
        "cv = CrossValidator(estimator=forest, estimatorParamMaps=params, evaluator=evaluator, numFolds=5)"
      ],
      "execution_count": 0,
      "outputs": []
    },
    {
      "cell_type": "code",
      "metadata": {
        "id": "qZ9BnroMx0B_",
        "colab_type": "code",
        "colab": {}
      },
      "source": [
        "# Run cross validations and making predicitons with it\n",
        "cvModel = cv.fit(flights_train)\n",
        "cvPreds = cvModel.transform(flights_test)"
      ],
      "execution_count": 0,
      "outputs": []
    },
    {
      "cell_type": "code",
      "metadata": {
        "id": "pK52hshKwUbV",
        "colab_type": "code",
        "colab": {}
      },
      "source": [
        "# Average AUC for each parameter combination in grid\n",
        "avg_auc = cvModel.avgMetrics\n",
        "\n",
        "# Average AUC for the best model\n",
        "best_model_auc = max(cvModel.avgMetrics)\n",
        "\n",
        "# What's the optimal parameter value?\n",
        "opt_max_depth = cvModel.bestModel.explainParam('maxDepth')\n",
        "opt_feat_substrat = cvModel.bestModel.explainParam('featureSubsetStrategy')\n",
        "\n",
        "# AUC for best model on testing data\n",
        "best_auc = evaluator.evaluate(cvPreds)"
      ],
      "execution_count": 0,
      "outputs": []
    },
    {
      "cell_type": "code",
      "metadata": {
        "id": "Q1DhRno9wdPv",
        "colab_type": "code",
        "colab": {
          "base_uri": "https://localhost:8080/",
          "height": 92
        },
        "outputId": "feb6b088-358d-49d9-bb3e-3dbc81df4f71"
      },
      "source": [
        "# Print out results\n",
        "print('Average AUC: ' + str(avg_auc))\n",
        "print('Average AUC for the best model: ' + str(best_model_auc))\n",
        "print('AUC for best model on testing data: ' + str(best_auc))"
      ],
      "execution_count": 30,
      "outputs": [
        {
          "output_type": "stream",
          "text": [
            "Average AUC: [0.6042699925438404, 0.6686740016978114, 0.731316449101635, 0.6457283982103839, 0.6725170610454173, 0.7202611866846995, 0.6520911650426628, 0.6748977142771689, 0.7128605471389942, 0.6515049378389767, 0.6712178975725571, 0.706585637060634]\n",
            "Average AUC for the best model: 0.731316449101635\n",
            "AUC for best model on testing data: 0.7347437189348925\n"
          ],
          "name": "stdout"
        }
      ]
    },
    {
      "cell_type": "code",
      "metadata": {
        "id": "VQox5zw9wZIU",
        "colab_type": "code",
        "colab": {
          "base_uri": "https://localhost:8080/",
          "height": 201
        },
        "outputId": "f0d5acc4-8195-4a54-fdf6-b73e59902c80"
      },
      "source": [
        "# Create a confusion matrix for CV results\n",
        "cvPreds.groupBy('label', 'prediction').count().show()\n",
        "\n",
        "# Calculate the elements of the confusion matrix for CV results\n",
        "TN_cv = cvPreds.filter('prediction = 0 AND label = prediction').count()\n",
        "TP_cv = cvPreds.filter('prediction = 1 AND label = prediction').count()\n",
        "FN_cv = cvPreds.filter('prediction = 0 AND label != prediction').count()\n",
        "FP_cv = cvPreds.filter('prediction = 1 AND label != prediction').count()\n",
        "\n",
        "# Accuracy measures the proportion of correct predictions for CV results\n",
        "accuracy_cv = (TN_cv + TP_cv) / (TN_cv + TP_cv + FN_cv + FP_cv)\n",
        "print(accuracy_cv)"
      ],
      "execution_count": 31,
      "outputs": [
        {
          "output_type": "stream",
          "text": [
            "+-----+----------+-----+\n",
            "|label|prediction|count|\n",
            "+-----+----------+-----+\n",
            "|    1|       0.0| 8367|\n",
            "|    0|       0.0|16921|\n",
            "|    1|       1.0|17792|\n",
            "|    0|       1.0| 8619|\n",
            "+-----+----------+-----+\n",
            "\n",
            "0.6714443219404631\n"
          ],
          "name": "stdout"
        }
      ]
    },
    {
      "cell_type": "code",
      "metadata": {
        "id": "eJLYIK5X1Q5z",
        "colab_type": "code",
        "colab": {
          "base_uri": "https://localhost:8080/",
          "height": 54
        },
        "outputId": "28ea84d8-3737-4670-9e44-7a35a5c75078"
      },
      "source": [
        "# Print out precisions, recall for CV model\n",
        "precision_cv = TP_cv / (TP_cv + FP_cv)\n",
        "recall_cv = TP_cv / (TP_cv + FN_cv)\n",
        "print('precision = {:.2f}\\nrecall    = {:.2f}'.format(precision_cv, recall_cv))"
      ],
      "execution_count": 32,
      "outputs": [
        {
          "output_type": "stream",
          "text": [
            "precision = 0.67\n",
            "recall    = 0.68\n"
          ],
          "name": "stdout"
        }
      ]
    },
    {
      "cell_type": "code",
      "metadata": {
        "id": "0OSSnCEO1ahB",
        "colab_type": "code",
        "colab": {}
      },
      "source": [
        ""
      ],
      "execution_count": 0,
      "outputs": []
    }
  ]
}